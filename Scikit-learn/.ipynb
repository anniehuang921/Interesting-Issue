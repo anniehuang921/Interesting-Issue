{
 "cells": [
  {
   "cell_type": "markdown",
   "metadata": {},
   "source": [
    "### 手寫辨識0-9\n",
    "https://scikit-learn.org/stable/auto_examples/classification/plot_digits_classification.html\n",
    "\n"
   ]
  },
  {
   "cell_type": "code",
   "execution_count": null,
   "metadata": {},
   "outputs": [],
   "source": [
    "import matplotlib.pyplot as plt"
   ]
  },
  {
   "cell_type": "code",
   "execution_count": null,
   "metadata": {},
   "outputs": [],
   "source": [
    "import matplotlib.pyplot as plt\n",
    "from sklearn import datasets, svm, metrics\n",
    "from sklearn.model_selection import train_test_split"
   ]
  },
  {
   "cell_type": "markdown",
   "metadata": {},
   "source": [
    "### *出現錯誤提示 ImportError: No module named 'sklearn.model_selection'*\n",
    "\n",
    "因為sklearn的版本太低，\n",
    "所以cmd 下指令提高sklearn版本\n",
    "\n",
    "** conda update scikit-learn **"
   ]
  },
  {
   "cell_type": "markdown",
   "metadata": {
    "collapsed": true
   },
   "source": [
    "### *出現錯誤提示 ImportError: cannot import name 'comb'*\n",
    "因為 scikit-learn 0.17.1版本，沒有 model-selection，  \n",
    "所以重新卸載和安裝\n",
    "```\n",
    "conda uninstall numpy scipy scikit-learn -y\n",
    "conda install numpy scipy scikit-learn -y\n",
    "conda update anaconda\n",
    "```\n",
    "然後遇到 Ipython notebook 的The kernel appears to have died. It will restart automatically\n",
    "\n",
    "```\n",
    "conda upgrade notebook\n",
    "conda upgrade jupyter\n",
    "```\n",
    "       \n",
    "後面出現500 server提示\n",
    "```\n",
    "conda upgrade nbconvert\n",
    "```\n",
    "然後又遇到 Ipython notebook 的The kernel appears to have died. It will restart automatically\n",
    "\n",
    "```\n",
    "conda install numpy\n",
    "```"
   ]
  },
  {
   "cell_type": "code",
   "execution_count": null,
   "metadata": {
    "collapsed": true
   },
   "outputs": [],
   "source": [
    "## 看看圖片樣子\n",
    "digits = datasets.load_digits()\n",
    "\n",
    "_, axes = plt.subplots(nrows=1, ncols=4, figsize=(10, 3))\n",
    "for ax, image, label in zip(axes, digits.images, digits.target):\n",
    "    ax.set_axis_off()\n",
    "    ax.imshow(image, cmap=plt.cm.gray_r, interpolation='nearest')\n",
    "    ax.set_title('Training: %i' % label)"
   ]
  },
  {
   "cell_type": "code",
   "execution_count": null,
   "metadata": {
    "collapsed": true
   },
   "outputs": [],
   "source": [
    "## 開始分類開始分類"
   ]
  }
 ],
 "metadata": {
  "anaconda-cloud": {},
  "kernelspec": {
   "display_name": "Python [anaconda]",
   "language": "python",
   "name": "Python [anaconda]"
  },
  "language_info": {
   "codemirror_mode": {
    "name": "ipython",
    "version": 3
   },
   "file_extension": ".py",
   "mimetype": "text/x-python",
   "name": "python",
   "nbconvert_exporter": "python",
   "pygments_lexer": "ipython3",
   "version": "3.5.4"
  }
 },
 "nbformat": 4,
 "nbformat_minor": 1
}
