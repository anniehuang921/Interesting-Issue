{
 "cells": [
  {
   "cell_type": "markdown",
   "metadata": {},
   "source": [
    "多維輸出的決策樹，\n",
    "並取不同深度，來做比較  \n",
    "https://machine-learning-python.kspax.io/decision_trees/ex2_multi-output_decision_tree_regression\n",
    "    https://scikit-learn.org/stable/auto_examples/tree/plot_tree_regression_multioutput.html#sphx-glr-auto-examples-tree-plot-tree-regression-multioutput-py"
   ]
  },
  {
   "cell_type": "code",
   "execution_count": 1,
   "metadata": {},
   "outputs": [],
   "source": [
    "import numpy as np\n",
    "from sklearn.tree import DecisionTreeRegressor\n",
    "import matplotlib.pyplot as plt"
   ]
  },
  {
   "cell_type": "code",
   "execution_count": 2,
   "metadata": {},
   "outputs": [],
   "source": [
    "rng = np.random.RandomState(1)# np.random()：隨機產生介於0~1之間的亂數 #RandomState.rand(d0,d1,..,dn)：給定隨機亂數的矩陣形狀 d0*d1*...*dn維度矩陣"
   ]
  },
  {
   "cell_type": "code",
   "execution_count": 3,
   "metadata": {},
   "outputs": [],
   "source": [
    "X = np.sort(200 * rng.rand(100,1) - 100, axis=0)#產生100個隨機點，這樣設定會落在-100~100之間"
   ]
  },
  {
   "cell_type": "code",
   "execution_count": 5,
   "metadata": {},
   "outputs": [],
   "source": [
    "y = np.array([np.pi * np.sin(X).ravel(),np.pi * np.cos(X).ravel()]).T#ravel()：輸出連續的一維矩陣。\n",
    "y[::5,:] += (0.5 - rng.rand(20,2))"
   ]
  },
  {
   "cell_type": "markdown",
   "metadata": {},
   "source": [
    "## 建立 Decision Tree 迴歸模型"
   ]
  },
  {
   "cell_type": "markdown",
   "metadata": {},
   "source": [
    "* DecisionTreeRegressor(max_depth = 最大深度)"
   ]
  },
  {
   "cell_type": "code",
   "execution_count": 8,
   "metadata": {},
   "outputs": [],
   "source": [
    "regr_1 = DecisionTreeRegressor(max_depth=2)\n",
    "regr_2 = DecisionTreeRegressor(max_depth=5)\n",
    "regr_3 = DecisionTreeRegressor(max_depth=8)"
   ]
  },
  {
   "cell_type": "code",
   "execution_count": 9,
   "metadata": {},
   "outputs": [
    {
     "data": {
      "text/plain": [
       "DecisionTreeRegressor(max_depth=8)"
      ]
     },
     "execution_count": 9,
     "metadata": {},
     "output_type": "execute_result"
    }
   ],
   "source": [
    "regr_1.fit(X,y)\n",
    "regr_2.fit(X,y)\n",
    "regr_3.fit(X,y)"
   ]
  },
  {
   "cell_type": "markdown",
   "metadata": {},
   "source": [
    "## 預測\n",
    "* np.arange(起點, 終點, 間隔)\n",
    "* np.newaxis 增加矩陣維度/"
   ]
  },
  {
   "cell_type": "code",
   "execution_count": 10,
   "metadata": {},
   "outputs": [],
   "source": [
    "X_test = np.arange(-100.0,100.0,0.01)[:,np.newaxis]"
   ]
  },
  {
   "cell_type": "code",
   "execution_count": 15,
   "metadata": {},
   "outputs": [],
   "source": [
    "y_1= regr_1.predict(X_test)\n",
    "y_2= regr_2.predict(X_test)\n",
    "y_3= regr_3.predict(X_test)"
   ]
  },
  {
   "cell_type": "markdown",
   "metadata": {},
   "source": [
    "## 繪出結果\n",
    "plt.scatter(X,y)：將X、y以點的方式繪製於平面上，c為數據點的顏色，s決定點的大小，label為圖例。"
   ]
  },
  {
   "cell_type": "code",
   "execution_count": 17,
   "metadata": {},
   "outputs": [
    {
     "data": {
      "image/png": "[encoded data removed]",
      "text/plain": [
       "<Figure size 432x288 with 1 Axes>"
      ]
     },
     "metadata": {
      "needs_background": "light"
     },
     "output_type": "display_data"
    }
   ],
   "source": [
    "plt.figure()\n",
    "s = 50\n",
    "plt.scatter(y[:,0],y[:,1], c=\"navy\", s = s, label=\"data\")\n",
    "plt.scatter(y_1[:, 0], y_1[:, 1], c=\"cornflowerblue\", s=s, label=\"max_depth=2\")\n",
    "plt.scatter(y_2[:, 0], y_2[:, 1], c=\"c\", s=s, label=\"max_depth=5\")\n",
    "plt.scatter(y_3[:, 0], y_3[:, 1], c=\"orange\", s=s, label=\"max_depth=8\")\n",
    "\n",
    "plt.xlim([-6, 6]) #設定x軸的上下限\n",
    "plt.ylim([-6, 6]) #設定y軸的上下限\n",
    "\n",
    "plt.xlabel(\"target 1\") #x軸代表target 1數值\n",
    "plt.ylabel(\"target 2\") #x軸代表target 2數值\n",
    "\n",
    "plt.title(\"Multi-output Decision Tree Regression\") #標示圖片的標題\n",
    "plt.legend() #繪出圖例\n",
    "plt.show()"
   ]
  },
  {
   "cell_type": "code",
   "execution_count": null,
   "metadata": {},
   "outputs": [],
   "source": []
  }
 ],
 "metadata": {
  "kernelspec": {
   "display_name": "Python 3",
   "language": "python",
   "name": "python3"
  },
  "language_info": {
   "codemirror_mode": {
    "name": "ipython",
    "version": 3
   },
   "file_extension": ".py",
   "mimetype": "text/x-python",
   "name": "python",
   "nbconvert_exporter": "python",
   "pygments_lexer": "ipython3",
   "version": "3.8.5"
  }
 },
 "nbformat": 4,
 "nbformat_minor": 4
}
