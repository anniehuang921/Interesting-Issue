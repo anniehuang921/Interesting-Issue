{
 "cells": [
  {
   "cell_type": "markdown",
   "metadata": {},
   "source": [
    "## 前言"
   ]
  },
  {
   "cell_type": "markdown",
   "metadata": {},
   "source": [
    "本文參考中文翻譯的 [Scikit-learn]('https://machine-learning-python.kspax.io/')"
   ]
  },
  {
   "cell_type": "markdown",
   "metadata": {},
   "source": [
    "自己針對想瞭解的地方跟打以及做筆記，以備以後參考"
   ]
  },
  {
   "cell_type": "markdown",
   "metadata": {
    "collapsed": true
   },
   "source": [
    "## 常用在分類上的模型評分指標\n",
    "### precision, recall, f1-score, (support)"
   ]
  },
  {
   "cell_type": "markdown",
   "metadata": {},
   "source": [
    "- True Positive(TP,真陽):實際為3且判斷為3，共79個\n",
    "- False Positive(FP,偽陽):判斷為3但判斷錯誤，共2個\n",
    "- False Negative(FN,偽陰):實際為3但判斷錯誤，共12個\n",
    "- True Negative(TN,真陰):實際不為3，且判斷正確。也就是其餘899-79-2-12=885個\n",
    "---\n",
    "precision = TP/(TP+FP) = 79/81 = 0.98 判斷為3且實際為3的比例為0.98  \n",
    "recall = TP/(TP+FN) = 79/91 = 0.87 實際為3且判斷為3的比例為0.87  \n",
    "\n",
    "f1-score 則為以上兩者之「harmonic mean 調和平均數」   \n",
    "f1-score= 2 x precision x recall/(recision + recall) = 0.92\n",
    "\n",
    "support 把實際答案的每個分類數量列出來"
   ]
  },
  {
   "cell_type": "code",
   "execution_count": null,
   "metadata": {},
   "outputs": [],
   "source": []
  }
 ],
 "metadata": {
  "kernelspec": {
   "display_name": "Python 3",
   "language": "python",
   "name": "python3"
  },
  "language_info": {
   "codemirror_mode": {
    "name": "ipython",
    "version": 3
   },
   "file_extension": ".py",
   "mimetype": "text/x-python",
   "name": "python",
   "nbconvert_exporter": "python",
   "pygments_lexer": "ipython3",
   "version": "3.8.5"
  }
 },
 "nbformat": 4,
 "nbformat_minor": 1
}
