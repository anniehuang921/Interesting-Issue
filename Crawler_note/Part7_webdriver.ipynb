{
 "cells": [
  {
   "cell_type": "markdown",
   "metadata": {},
   "source": [
    "#虛擬的瀏覽器\n",
    "[來源連結DBoy](\"https://github.com/dboyliao\")\n",
    "\n",
    "幫忙我們來模擬一些動作, 這一次我們請出selenium!\n",
    "*下載可以用*\n",
    "* 如果你的套件是用anaconda管, 請先\n",
    "        conda update conda\n",
    "        conda install selenium\n",
    "* pip install selenium"
   ]
  },
  {
   "cell_type": "code",
   "execution_count": 1,
   "metadata": {
    "collapsed": true
   },
   "outputs": [],
   "source": [
    "from selenium.webdriver import Firefox"
   ]
  },
  {
   "cell_type": "code",
   "execution_count": 2,
   "metadata": {
    "collapsed": false
   },
   "outputs": [],
   "source": [
    "driver = Firefox()"
   ]
  },
  {
   "cell_type": "markdown",
   "metadata": {},
   "source": [
    "連到網址"
   ]
  },
  {
   "cell_type": "code",
   "execution_count": 3,
   "metadata": {
    "collapsed": true
   },
   "outputs": [],
   "source": [
    "driver.get(\"http://10fastfingers.com/typing-test/english\")"
   ]
  },
  {
   "cell_type": "code",
   "execution_count": 4,
   "metadata": {
    "collapsed": true
   },
   "outputs": [],
   "source": [
    "def get_words(driver):\n",
    "    return driver.find_elements_by_xpath(\"//div[@id='words']//span\")"
   ]
  },
  {
   "cell_type": "code",
   "execution_count": 5,
   "metadata": {
    "collapsed": true
   },
   "outputs": [],
   "source": [
    "def enter_keys(driver, words_list, limit):\n",
    "    count = 0\n",
    "    form = driver.find_element_by_xpath(\"//input[@id='inputfield']\")\n",
    "    for s in words_list:\n",
    "        if s.text != u\"\" and count < limit:\n",
    "            form.send_keys(s.text)\n",
    "            form.send_keys(\" \")\n",
    "            count += 1\n",
    "        else:\n",
    "            break"
   ]
  },
  {
   "cell_type": "markdown",
   "metadata": {},
   "source": [
    "##可以拿來玩玩看囉"
   ]
  },
  {
   "cell_type": "code",
   "execution_count": 6,
   "metadata": {
    "collapsed": false
   },
   "outputs": [],
   "source": [
    "words = get_words(driver)\n",
    "enter_keys(driver, words, 200)"
   ]
  },
  {
   "cell_type": "code",
   "execution_count": null,
   "metadata": {
    "collapsed": true
   },
   "outputs": [],
   "source": []
  }
 ],
 "metadata": {
  "kernelspec": {
   "display_name": "Python 2",
   "language": "python",
   "name": "python2"
  },
  "language_info": {
   "codemirror_mode": {
    "name": "ipython",
    "version": 2
   },
   "file_extension": ".py",
   "mimetype": "text/x-python",
   "name": "python",
   "nbconvert_exporter": "python",
   "pygments_lexer": "ipython2",
   "version": "2.7.9"
  }
 },
 "nbformat": 4,
 "nbformat_minor": 0
}
