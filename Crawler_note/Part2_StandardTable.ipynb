{
 "cells": [
  {
   "cell_type": "markdown",
   "metadata": {},
   "source": [
    "###令人愉悅的類型～\n",
    "<b stype=\"color:#7777FF\">\n",
    "* 裡面看得到表格\n",
    "* 編碼是unicode系列，例如utf8, big5\n",
    "</b>"
   ]
  },
  {
   "cell_type": "markdown",
   "metadata": {},
   "source": [
    "###要抓東西一定邀請 requests"
   ]
  },
  {
   "cell_type": "code",
   "execution_count": 1,
   "metadata": {
    "collapsed": true
   },
   "outputs": [],
   "source": [
    "import requests"
   ]
  },
  {
   "cell_type": "markdown",
   "metadata": {},
   "source": [
    "可以用這兩種\n",
    "* requests.get\n",
    "* requests.post"
   ]
  },
  {
   "cell_type": "code",
   "execution_count": 2,
   "metadata": {
    "collapsed": true
   },
   "outputs": [],
   "source": [
    "stock_id=2382\n",
    "res=requests.get(\"https://tw.stock.yahoo.com/d/s/major_%s.html\"%stock_id)"
   ]
  },
  {
   "cell_type": "code",
   "execution_count": 3,
   "metadata": {
    "collapsed": false
   },
   "outputs": [
    {
     "data": {
      "text/plain": [
       "<Response [200]>"
      ]
     },
     "execution_count": 3,
     "metadata": {},
     "output_type": "execute_result"
    }
   ],
   "source": [
    "res"
   ]
  },
  {
   "cell_type": "code",
   "execution_count": 4,
   "metadata": {
    "collapsed": false
   },
   "outputs": [
    {
     "data": {
      "text/plain": [
       "u'<!doctype html public \"-//w3c//dtd html 4.01//en\" \"http://www.w3.org/tr/html4/strict.dtd\">\\n<html>\\n<head>\\n<meta http-equiv=\"Content-Type\" content=\"text/html; charset=big5\">\\n<meta http-equiv=\"Expires\" content=\"Fri, 10 Jul 1998 15:00:00 +0800\">\\n<meta http-equiv=\"Cache-Control\" content=\"no-cache\">\\n<meta name=\"application-name\" content=\"Yahoo!\\\\xa9_\\\\xbc\\\\xaf\\\\xaa\\\\xd1\\\\xa5\\\\xab\"/>\\n<meta name=\"msapplication-TileColor\" content=\"#7b0099\"/> \\n<meta name=\"msapplication-TileImage\" content=\"https://s.yimg.com/f/i/tw/stock/tw_stock_icon_pin.png\"/>\\n<meta name=\"description\" content=\"\\u5ee3\\u9054(2382)\\u500b\\u80a1\\u7576\\u65e5\\u4e3b\\u529b\\u9032\\u51fa\\uff0c\\u67e5\\u8a62 \\u5ee3\\u9054 \\u500b\\u80a1\\u80a1\\u50f9\\u3001\\u65b0\\u805e\\u3001\\u6210\\u4ea4\\u660e\\u7d30\\u3001\\u6280\\u8853\\u5206\\u6790\\u7b49\\u8cc7\\u8a0a\\uff0c\\u5c31\\u5728Yahoo!\\u5947\\u6469\\u80a1\\u5e02\\u3002\">\\n<TITLE>\\u5ee3\\u9054(2382)-\\u4e3b\\u529b\\u9032\\u51fa-\\u5947\\u6469\\u80a1\\u5e02</TITLE><!---------------------------------------//--->\\n<link rel=\"stylesheet\" type=\"text/css\" href=\"https://s.yimg.com/f/i/tw/hp/masthead/yhtw_masthead_standard.css\" media=\"screen, print\" />\\n<link rel=\"stylesheet\" type=\"text/css\" href=\"https://s.yimg.com/f/i/tw/hp/masthead/yhtw_masthead_12.css\" media=\"screen, print\" />\\n<link rel=\"stylesheet\" type=\"text/css\" href=\"https://s.yimg.com/f/i/tw/stock/revampe/css_1960_min.css\" media=\"screen, print\" />\\n<link rel=\"stylesheet\" type=\"text/css\" href=\"https://s.yimg.com/f/i/tw/stock/img06/stock_wd.css\" media=\"screen, print\" />\\n<link rel=\"stylesheet\" type=\"text/css\" href=\"https://s.yimg.com/f/i/tw/stock/img06/stock_print.css\" media=\"print\" />\\n<link href=\"https://s.yimg.com/f/i/tw/hp/Universal_header/uh_bt3.css\" type=\"text/css\" rel=\"stylesheet\"/>\\n<link href=\"https://s.yimg.com/f/i/tw/stock/revampe/ystock_uh.css\" type=\"text/css\" rel=\"stylesheet\"/>\\n<link href=\"https://s.yimg.com/f/i/tw/stock/img06/stock.css\" rel=\"stylesheet\" type=\"text/css\">\\n<script language=\"javascript\" src=\"https://s.yimg.com/f/i/tw/stock/img06/stock22.js\"></script>\\n<script type=\"text/javascript\" src=\"https://s.yimg.com/lh/mbz/loader-min.js\"></script>\\n<script type=\\'text/javascript\\'>\\n    !window.YUI && document.write(\"<script type=\\\\\"text/javascript\\\\\" src=\\\\\"https://s.yimg.com/zz/combo?yui:3.5.1/build/yui/yui-min.js\\\\\">\"+\"</scr\"+\"ipt>\");\\n</script>\\n<script type=\"text/JavaScript\">\\n<!--\\nfunction MM_swapImgRestore() { //v3.0\\n var i,x,a=document.MM_sr; for(i=0;a&&i<a.length&&(x=a[i])&&x.oSrc;i++) x.src=x.oSrc;\\n}\\nfunction MM_preloadImages() { //v3.0\\n var d=document; if(d.images){ if(!d.MM_p) d.MM_p=new Array();\\n var i,j=d.MM_p.length,a=MM_preloadImages.arguments; for(i=0; i<a.length; i++)\\n if (a[i].indexOf(\"#\")!=0){ d.MM_p[j]=new Image; d.MM_p[j++].src=a[i];}}\\n}\\nfunction MM_findObj(n, d) { //v4.01\\n var p,i,x; if(!d) d=document; if((p=n.indexOf(\"?\"))>0&&parent.frames.length) {\\n d=parent.frames[n.substring(p+1)].document; n=n.substring(0,p);}\\n if(!(x=d[n])&&d.all) x=d.all[n]; for (i=0;!x&&i<d.forms.length;i++) x=d.forms[i][n];\\n for(i=0;!x&&d.layers&&i<d.layers.length;i++) x=MM_findObj(n,d.layers[i].document);\\n if(!x && d.getElementById) x=d.getElementById(n); return x;\\n}\\nfunction MM_swapImage() { //v3.0\\n var i,j=0,x,a=MM_swapImage.arguments; document.MM_sr=new Array; for(i=0;i<(a.length-2);i+=3)\\n if ((x=MM_findObj(a[i]))!=null){document.MM_sr[j++]=x; if(!x.oSrc) x.oSrc=x.src; x.src=a[i+2];}\\n}\\n//-->\\n</script>\\n</head>\\n<!--------------------stock title start-------------------------->\\n<!---- \\u5609\\u5be6 Logo ---->\\n<body bgcolor=\"#FFFFFF\" topmargin=\"0\" style=\"margin-top:0px;display:none\" allow-from=\"*.yahoo.com *.yahoo.net\">\\n<center>\\n<!--- masthead --->\\n<!--BEGIN:Universal Master Header-->\\n            <div id=\"ygma\" class=\"fix750\" style=\"margin: 0 auto;border:none;\">\\n<link type=\\'text/css\\' rel=\\'stylesheet\\' href=\\'https://s.yimg.com/zz/combo?kx/yucs/uh2/uh/295/css/yunivhead-min.css&kx/yucs/uh2/uh/295/css/logo-min.css&kx/ucs/avatar/css/17/avatar-min.css&kx/yucs/uh2/mail-link/85/css/mailcount_v2-min.css&kx/yucs/uh2/mail-link/85/css/mail_preview-min.css&kx/ucs/search/css/190/search_all-min.css&kx/ucs/search/css/190/search_buttons-min.css&kx/yucs/uh2/uh/295/css/yunivhead_https-min.css&kx/yucs/uh_common/meta/3/css/meta-min.css\\' /><div id=\"yUnivHead\" class=\"yucs-zh-hant-tw\" data-lang=\"zh-hant-tw\" data-property=\"finance\" data-flight=\"1428905483\" data-uhvc=\"/\"> <div id=\"yucs-disclaimer\" class=\"yucs-disclaimer yucs-activate yucs-hide yucs-property-finance yucs-fcb- \" data-cobrand=\"standard\" data-cu = \"0\" data-dsstext=\"\\u60f3\\u8981\\u4eab\\u53d7\\u66f4\\u597d\\u7684\\u641c\\u5c0b\\u9ad4\\u9a57\\u55ce\\uff1f {dssLink}\\u5c07\\u60a8\\u7684\\u641c\\u5c0b\\u8a2d\\u70ba Yahoo\\u5947\\u6469{linkEnd}\" data-dsstext-mobile=\"\\u66f4\\u5c11\\u7684\\u641c\\u5c0b\\u52d5\\u4f5c\\uff0c\\u66f4\\u591a\\u7684\\u641c\\u5c0b\\u7d50\\u679c\" data-dsstext-mobile-ok=\"\\u78ba\\u5b9a\" data-dsstext-mobile-set-search=\"\\u5c07\\u60a8\\u7684\\u641c\\u5c0b\\u8a2d\\u5b9a\\u70ba Yahoo\\u3002\" data-dssstbtext=\"Yahoo is the preferred search engine for Firefox. Switch now.\" data-dssstb-ok=\"Yes\" data-dssstb-no=\"Not Now\" data-ylt-link=\"https://tw.search.yahoo.com/searchset?pn=\" data-ylt-dssbarclose=\"/\" data-ylt-dssbaropen=\"/\" data-ylt-dssstb-link=\"https://downloads.yahoo.com/sp-firefox\" data-ylt-dssstbbarclose=\"/\" data-ylt-dssstbbaropen=\"/\" data-ylt-dssCookieCleanedSuccess=\"/\" data-ylt-dssCookieCleanedFailed=\"/\" data-linktarget=\"_top\" data-lang=\"zh-hant-tw\" data-property=\"finance\" data-device=\"Desktop\" data-close-txt=\"\\u95dc\\u9589\\u6b64\\u8996\\u7a97\" data-maybelater-txt = \"\\u7a0d\\u5f8c\\u518d\\u8aaa\" data-killswitch = \"0\" data-host=\"tw.stock.yahoo.com\" data-spaceid=\"\" data-pn=\"\" data-dss-cookie-cleanup=\"\" data-pn-en-ca-mobile-frontpage=\"\" data-pn-de-de-mobile-frontpage=\"\" data-pn-es-es-mobile-frontpage=\"\" data-pn-fr-fr-mobile-frontpage=\"\" data-pn-en-in-mobile-frontpage=\"\" data-pn-it-it-mobile-frontpage=\"\" data-pn-en-us-mobile-frontpage=\"\" data-pn-en-sg-mobile-frontpage=\"\" data-pn-en-gb-mobile-frontpage=\"\" data-pn-en-us-mobile-mail=\"\" data-pn-en-ca-mobile-mail=\"\" data-pn-de-de-mobile-mail=\"\" data-pn-es-es-mobile-mail=\"\" data-pn-fr-fr-mobile-mail=\"\" data-pn-en-in-mobile-mail=\"\" data-pn-it-it-mobile-mail=\"\" data-pn-en-sg-mobile-mail=\"\" data-pn-en-gb-mobile-mail=\"\" data-pn-pt-br-mobile-mail=\"\" data-pn-en-us-tablet-frontpage=\"\" data-pn-en-us-tablet-mail=\"\" data-pn-en-ca-tablet-mail=\"\" data-pn-de-de-tablet-mail=\"\" data-pn-es-es-tablet-mail=\"\" data-pn-fr-fr-tablet-mail=\"\" data-pn-en-in-tablet-mail=\"\" data-pn-it-it-tablet-mail=\"\" data-pn-en-sg-tablet-mail=\"\" data-pn-en-gb-tablet-mail=\"\" data-pn-pt-br-tablet-mail=\"\" data-news-search-yahoo-com=\"\" data-answers-search-yahoo-com=\"\" data-finance-search-yahoo-com=\"\" data-images-search-yahoo-com=\"\" data-video-search-yahoo-com=\"\" data-sports-search-yahoo-com=\"\" data-shopping-search-yahoo-com=\"\" data-shopping-yahoo-com=\"\" data-us-qa-trunk-news-search-yahoo-com =\"\" data-dss=\"\"></div>    <a href=\"#yuhead-search\" class=\"yucs-skipto-search yucs-activate\">\\u8df3\\u81f3\\u641c\\u5c0b\\u6b04\\u3002</a>  <div id=\"yuhead-hd\" class=\"yuhead-clearfix\"> <div id=\"yuhead-mepanel-cont\"> <ul id=\"yuhead-mepanel\" class=\"yucs-toolbar yucs-activate\" aria-label=\"\\u7528\\u6236\\u670d\\u52d9\"><li class=\"yuhead-me yuhead-nodivide yuhead-nopad\"> <a class=\"yuhead-signup\" href=\"https://edit.yahoo.com/config/eval_register?.src=quote&.intl=tw&.lang=zh-Hant-TW&.done=https://tw.stock.yahoo.com/d/s/major_2382.html\" target=\"_top\" rel=\"nofollow\"> <em>\\u662f\\u65b0\\u7528\\u6236\\u55ce\\uff1f</em> \\u8acb\\u8a3b\\u518a</a></li><li class=\"yuhead-me\"> <a href=\"https://login.yahoo.com/config/login?.src=quote&.intl=tw&.lang=zh-Hant-TW&.done=https://tw.stock.yahoo.com/d/s/major_2382.html\" target=\"_top\" rel=\"nofollow\"> <em>\\u767b\\u5165</em></a></li><li class=\"yuhead-me\"><a href=\"http://tw.help.cc.yahoo.com/?product=stock\" rel=\"nofollow\" target=\"_top\">\\u670d\\u52d9\\u8aaa\\u660e</a></li></ul>   </div> <div id=\"yuhead-promo\"><a href=\"http://tw.yahoo.com/bin/set?cmp=uheader&src=others\" target=\"_top\" rel=\"nofollow\">\\u8a2d Yahoo \\u5947\\u6469\\u70ba\\u9996\\u9801<abbr title=\"Yahoo!\"></abbr></a></div> <div id=\"yuhead-com-links-cont\"> <ul id=\"yuhead-com-links\" class=\"yucs-toolbar yucs-activate\" aria-label=\"Yahoo \\u5947\\u6469\\u670d\\u52d9\\u7e3d\\u89bd\">  <li class=\"yuhead-com-link-item yucs-mailpreview-ancestor\"> <a class=\"sp yltasis yuhead-ico-mail\" href=\"https://tw.mail.yahoo.com/?.intl=tw&.lang=zh-Hant-TW\" rel=\"nofollow\" target=\"_top\">\\u4fe1\\u7bb1</a><ul class=\"yucs-mail-preview-panel hide\" data-uri-scheme=\"http\" data-uri-path=\"ucs.query.yahoo.com/v1/console/yql\" data-mail-txt=\"\\u4fe1\\u7bb1\" data-mail-view=\"\\u6aa2\\u8996\\u6240\\u6709 Yahoo \\u4fe1\\u4ef6\" data-mail-help-txt=\"\\u670d\\u52d9\\u8aaa\\u660e\" data-mail-help-url=\"http://help.cc.tw.yahoo.com/help_cp.html?product=29\" data-mail-loading-txt=\"\\u8f09\\u5165\\u4e2d...\" data-languagetag=\"zh-hant-tw\" data-mrd-crumb=\"\" data-authstate=\"signedout\" data-middleauth-signin-text=\"\\u9ede\\u9078\\u9019\\u88e1\\u6aa2\\u8996\\u60a8\\u7684\\u4fe1\\u4ef6\" data-popup-login-url=\"https://login.yahoo.com/config/login_verify2?.pd=c%3DOIVaOGq62e5hAP8Tv..nr5E3&.src=sc\" data-middleauthtext=\"\\u4f60\\u6709 {count} \\u5c01\\u65b0\\u4fe1\\u3002\" data-yltmessage-link=\"http://mrd.mail.yahoo.com/msg?mid={msgID}&fid=Inbox&src=uh&.crumb=\" data-yltviewall-link=\"https://tw.mail.yahoo.com/\" data-yltpanelshown=\"/\"></ul></li><li class=\"yuhead-com-link-item\"> <a href=\"http://tw.bid.yahoo.com/\" rel=\"nofollow\" target=\"_top\"> \\u62cd\\u8ce3 </a></li><li id=\"yuhead-com-home\"><a class=\"sp yuhead-ico-home\" href=\"https://tw.yahoo.com/\" rel=\"nofollow\" target=\"_top\">Yahoo \\u5947\\u6469</a></li> </ul> </div> </div> <div id=\"yuhead-bd\" class=\"yuhead-clearfix\"> <div class=\"yuhead-logo\"> <style> .yuhead-logo h2{ width:350px; height:58px; background-image:url(https://s.yimg.com/rz/d/yahoo_finance_zh-Hant-TW_s_f_pw_351x40_stock.png\\n); _background-image:url(https://s.yimg.com/rz/d/yahoo_finance_zh-Hant-TW_s_f_pw_351x40_stock.gif\\n); } .yuhead-logo a{ width:350px; height:58px; } .yuhead-logo div.yuhead-comarketing { width:350px; } .yog-tablet #yUnivHead h2 { background-position: -350px 5px !important; } html[lang=\\'en-AU\\'] .yog-tablet #yUnivHead .yuhead-logo h2 { background-position: -350px 5px !important; } html[lang=\\'en-NZ\\'] .yog-tablet #yUnivHead .yuhead-logo h2 { background-position: -350px 5px !important; } .yog-smartphone #yUnivHead h2 { background-position: -265px 0; background-size: 534px; margin-left: 26%; } .yog-tablet .yuhead-logo h2{ background-repeat: repeat-x; } .yog-tablet.yog-version-v2 #yUnivHead h2 { background-position: center !important; } .yog-tablet #yUnivHead .yuhead-logo h2 { height: 40px !important; } .yog-rtl.yog-smartphone #yUnivHead .yuhead-logo h2 { background-position: -352px 0; !important; background-size: 536px !important; margin-left: 30% !important; } html[lang=\\'ar\\'] .yog-rtl.yog-smartphone #yUnivHead .yuhead-logo h2 { background-position: -386px 0; !important; } .yog-smartphone #yUnivHead h2.yuhead-music { background-position: 0 0 !important; width: 260px !important; } html[lang=\\'en-US\\'] .yog-smartphone #yUnivHead h2 { background-size: auto 21px !important; background-position: -350px 0; } html[lang=\\'pt-BR\\'] .yog-smartphone #yUnivHead h2.yuhead-sports { background-position: -265px 0 !important; background-size: 534px; margin-left: 17%; } html[lang=\\'ar\\'] .yog-smartphone #yUnivHead h2.yuhead-omg { background-position: -383px 0 !important; background-size: 605px; margin-left: 0; width: auto; } html[lang=\\'en-PH\\'] .yog-tablet #yUnivHead .yuhead-logo h2 { height: 47px !important; } html[lang=\\'en-PH\\'] .yog-smartphone #yUnivHead h2 { width: 255px; } </style> <h2 class=\"yuhead-finance yuhead-standard\"> <a href=\"https://tw.finance.yahoo.com/\" target=\"_top\" tabindex=\"-1\"> Yahoo \\u80a1\\u5e02 </a> </h2> <div id=\"yucs-disclaimer-md\" class=\"yucs-disclaimer-md yucs-activate yucs-hide Desktop  yucs-property-finance yucs-fcb-\" data-dsstext=\"\\u60f3\\u8981\\u4eab\\u53d7\\u66f4\\u597d\\u7684\\u641c\\u5c0b\\u9ad4\\u9a57\\u55ce\\uff1f {dssLink}\\u5c07\\u60a8\\u7684\\u641c\\u5c0b\\u8a2d\\u70ba Yahoo\\u5947\\u6469{linkEnd}\" data-dsstext-mobile=\"\\u66f4\\u5c11\\u7684\\u641c\\u5c0b\\u52d5\\u4f5c\\uff0c\\u66f4\\u591a\\u7684\\u641c\\u5c0b\\u7d50\\u679c\" data-dsstext-mobile-ok=\"\\u78ba\\u5b9a\" data-dsstext-mobile-set-search=\"\\u5c07\\u60a8\\u7684\\u641c\\u5c0b\\u8a2d\\u5b9a\\u70ba Yahoo\\u3002\" data-ylt-link=\"https://tw.search.yahoo.com/searchset?pn=\" data-ylt-dssbarclose=\"/\" data-ylt-dssbaropen=\"/\" data-linktarget=\"_top\" data-lang=\"zh-hant-tw\" data-property=\"finance\" data-device=\"Desktop\" data-close-txt=\"\\u95dc\\u9589\\u6b64\\u8996\\u7a97\" data-maybelater-txt = \"\\u7a0d\\u5f8c\\u518d\\u8aaa\" data-killswitch = \"0\" data-dss=\"\"></div><script typ=\"text/javascript\" src=\"https://s.yimg.com/kx/yucs/uh3/disclaimer/274/js/disclaimer_seed-min.js\"></script> </div> <div id=\"yuhead-search\"> <div id=\"yuhead-sform-cont\" class=\"yuhead-s-web yuhead-search-form\"> <form role=\"search\" class=\"yucs-search yucs-activate\" target=\"_top\" action=\"https://tw.search.yahoo.com/search\" method=\"get\"><table role=\"presentation\"> <tbody role=\"presentation\"><tr role=\"presentation\"><td class=\"yucs-form-input\" role=\"presentation\"> <label for=\"yuhead-sform-searchfield\"> <span>\\u641c\\u5c0b</span> </label> <input autocomplete=\"off\" type=\"text\" class=\"sp yuhead-ico-mglass yuhead-search-hint yucs-search-field\" name=\"p\" data-sh=\"\\u641c\\u5c0b\"  data-gosurl=\"\" id=\"yuhead-sform-searchfield\" data-pubid=\"\" /></td><td NOWRAP class=\"yucs-form-btn\" role=\"presentation\"><div class=\"yucs-btn-wrap\"> <button class=\"yucs-sweb-btn\" type=\"submit\">\\u7db2\\u9801\\u641c\\u5c0b</button></div> </td> </tr> </tbody></table><input type=\"hidden\" id=\"fr\" name=\"fr\" value=\"ush1-finance\" /></form> </div> </div>  </div>               <!-- meta --><div id=\"yucs-meta\" data-authstate=\"signedout\" data-cobrand=\"standard\" data-crumb=\"\" data-mc-crumb=\"\" data-gta=\"\" data-device=\"desktop\" data-experience=\"\" data-firstname=\"\" data-style=\"\" data-flight=\"1428905483\" data-forcecobrand=\"standard\" data-guid=\"\" data-host=\"tw.stock.yahoo.com\" data-https=\"1\" data-languagetag=\"zh-hant-tw\" data-property=\"finance\" data-protocol=\"https\" data-shortfirstname=\"\" data-shortuserid=\"\" data-status=\"active\" data-spaceid=\"\" data-test_id=\"\" data-userid=\"\" data-stickyheader=\"true\" data-headercollapse=\"\" data-uh-test=\"\" ></div><!-- /meta --></div><script type=\"text/javascript\" charset=\"utf-8\"> YUI().use(\\'node\\',\\'event\\',\\'event-mouseenter\\',\\'substitute\\',\\'oop\\',\\'node-focusmanager\\',\\'node\\',\\'event\\',\\'substitute\\',\\'cookie\\',\\'event-resize\\',\\'node\\', \\'event\\', \\'querystring-stringify\\',\\'node\\',\\'event\\',\\'node\\',\\'event\\',\\'event-custom\\',\\'event-valuechange\\',\\'classnamemanager\\',\\'node\\', function(Y) {});</script><script charset=\\'utf-8\\' type=\\'text/javascript\\' src=\\'https://s.yimg.com/zz/combo?kx/ucs/common/js/140/setup-min.js&kx/ucs/sts/js/442/skip-min.js&kx/yucs/uh2/uh/295/js/timestamp_library-min.js&kx/ucs/menu_utils/js/164/menu_utils_v2-min.js&kx/yucs/uh2/uh/295/js/aria_toolbar-min.js&kx/ucs/username/js/43/user_menu-min.js&kx/ucs/help/js/41/help_menu-min.js&kx/ucs/utility_link/js/20/utility_menu-min.js&kx/yucs/uh2/uh/295/js/logo_debug-min.js&kx/yucs/uh3/disclaimer/384/js/disclaimer_seed-min.js&kx/ucs/common/js/131/jsonp-super-cached-min.js&kx/ucs/avatar/js/30/avatar-min.js&kx/yucs/uh2/mail-link/85/js/mailcount_v2-min.js&kx/ucs/search/js/226/search-min.js&kx/ucs/search/js/210/search_text_dir-min.js&kx/yucs/uh2/uh/295/js/activate_library-min.js&kx/yucs/uhc/meta/66/js/meta-min.js\\'></script>            </div>\\n            <!--END:Universal Master Header--><!--- /masthead --->\\n</center>\\n<p align=\"center\">\\n<!--------------------stock title end-------------------------->\\n<p align=\"center\">\\n<!-- APT Vendor: Right Media, Name: Standard Graphical -->\\n<SCRIPT TYPE=\"text/javascript\" SRC=\"https://ads.yahoo.com/st?ad_type=ad&publisher_blob=${RS}|_G_sZDExNi7ivflQkZBI3QJBMS4xNwAAAAD7ykVs|152952227|N|1428905484.22|${SECURE-DARLA}&cnt=yan&ad_size=728x90&site=155850&section_code=ros&ypos=N&uccc=${UCCC}&cb=1428905484.22&yud=smpv%3d3%26ed%3dzxE1dF31xQzMnXQidpJpWHc1xnH4&K=1&pub_redirect_unencoded=1&pub_url=https%3A%2F%2Ftw.stock.yahoo.com%2Fd%2Fs%2Fmajor_2382.html&pub_redirect=https://beap-bc.yahoo.com/yc/YnY9MS4wLjAmYnM9KDE3YjBzc25iMyhnaWQkX0dfc1pERXhOaTdpdmZsUWtaQkkzUUpCTVM0eE53QUFBQUQ3eWtWcyxzdCQxNDI4OTA1NDgzOTc5ODI2LHNpJDI0NDA2MSxzcCQxNTI5NTIyMjcsY3IkMTI3Njk1OTA2MSx2JDIuMCxhaWQkSTYzSjFzb3J3eVktLGN0JDI1LHlieCQwNU0wWkhkcnMzMk5BN1BsaVFDYXNRLGJpJDIyMTI4NzU2MSxtbWUkNDAxNjY0NzIzNTE2NzU3MTgxMCxsbmckemgtdHcsciQwLHlvbyQxLGFncCQyNjY3MTA5NDksYXAkTikp/0/*\"></SCRIPT><noscript><IFRAME ALLOWTRANSPARENCY=TRUE FRAMEBORDER=0 MARGINWIDTH=0 MARGINHEIGHT=0 SCROLLING=NO WIDTH=728 HEIGHT=90 SRC=\"https://ads.yahoo.com/st?ad_type=iframe&publisher_blob=${RS}|_G_sZDExNi7ivflQkZBI3QJBMS4xNwAAAAD7ykVs|152952227|N|1428905484.22|${SECURE-DARLA}&cnt=yan&ad_size=728x90&site=155850&section_code=ros&ypos=N&cb=1428905484.22&yud=smpv%3d3%26ed%3dzxE1dF31xQzMnXQidpJpWHc1xnH4&K=1&pub_url=https%3A%2F%2Ftw.stock.yahoo.com%2Fd%2Fs%2Fmajor_2382.html&promote_sizes=1&pub_redirect_unencoded=1&pub_redirect=https://beap-bc.yahoo.com/yc/YnY9MS4wLjAmYnM9KDE3YjAwbmQzaShnaWQkX0dfc1pERXhOaTdpdmZsUWtaQkkzUUpCTVM0eE53QUFBQUQ3eWtWcyxzdCQxNDI4OTA1NDgzOTc5ODI2LHNpJDI0NDA2MSxzcCQxNTI5NTIyMjcsY3IkMTI3Njk1OTA2MSx2JDIuMCxhaWQkSTYzSjFzb3J3eVktLGN0JDI1LHlieCQwNU0wWkhkcnMzMk5BN1BsaVFDYXNRLGJpJDIyMTI4NzU2MSxtbWUkNDAxNjY0NzIzNTE2NzU3MTgxMCxsbmckemgtdHcsciQxLHlvbyQxLGFncCQyNjY3MTA5NDksYXAkTikp/0/*\"></IFRAME></noscript><script>var url = \"\"; if(url && url.search(\"http\") != -1){document.write(\\'<script src=\"\\' + url + \\'\"><\\\\/script>\\');}</script><!--QYZ 221287561,1276959061,202.43.201.78;;N;152952227;1;--><script language=javascript>\\nif(window.xzq_d==null)window.xzq_d=new Object();\\nwindow.xzq_d[\\'I63J1sorwyY-\\']=\\'(as$138u83tl6,aid$I63J1sorwyY-,bi$221287561,agp$266710949,cr$1276959061,ct$25,at$HR,eob$gd1_match_id=-1:ypos=N)\\';\\n</script><noscript><img width=1 height=1 alt=\"\" src=\"https://csc.beap.bc.yahoo.com/yi?bv=1.0.0&bs=(1348onsho(gid$_G_sZDExNi7ivflQkZBI3QJBMS4xNwAAAAD7ykVs,st$1428905483979826,si$244061,sp$152952227,pv$1,v$2.0))&t=JR_3-DR_3&al=(as$138u83tl6,aid$I63J1sorwyY-,bi$221287561,agp$266710949,cr$1276959061,ct$25,at$HR,eob$gd1_match_id=-1:ypos=N)\"></noscript></p>\\n<!--- JS --->\\n<!--------------------tool bar start-------------------------->\\n<div align=\"center\"><center>\\n<script lang=\"text/javascript\">\\n<!--\\nvar redirect = \"https://tw.rd.yahoo.com/referurl/stock/other\";\\nfunction stkClearMe(control)\\n{\\n control.value = \\'\\';\\n control.style.color = \"black\";\\n}\\nfunction stkRestore(control, str)\\n{\\n if (control.value == \\'\\') {control.value = str; control.style.color = \"#a8a8a8\";};\\n}\\nfunction stockmenu_submit (form) \\n{\\n if (form.stock_id.value == \\'\\u8f38\\u5165\\u53f0\\u80a1\\u4ee3\\u865f/\\u540d\\u7a31\\')\\n {\\n return false;\\n }\\n else\\n { \\n switch ( form.func.value ) {\\n case \\'G\\': form.action = redirect + \\'/get_quote/quote/*\\' + form.action; break;\\n case \\'L\\': form.action = redirect + \\'/get_quote/chart/*\\' + form.action; break;\\n case \\'I\\': form.action = redirect + \\'/get_quote/prices/*\\' + form.action; break;\\n case \\'N\\': form.action = redirect + \\'/get_quote/news/*\\' + form.action; break;\\n case \\'H\\': form.action = redirect + \\'/get_quote/health/*\\' + form.action; break;\\n case \\'F\\': form.action = redirect + \\'/get_quote/fundamental/*\\' + form.action; break;\\n case \\'C\\': form.action = redirect + \\'/get_quote/credit/*\\' + form.action; break;\\n case \\'T\\': form.action = redirect + \\'/get_quote/daily/*\\' + form.action; break;\\n case \\'W\\': form.action = redirect + \\'/get_quote/weekly/*\\' + form.action; break;\\n case \\'M\\': form.action = redirect + \\'/get_quote/monthly/*\\' + form.action; break;\\n }\\n form.submit();\\n }\\n}\\n//-->\\n</script>\\n<!--\\u4e3b\\u9078\\u55ae start-->\\n<div id=\"ystkglonav\" class=\\'yui-ystkglonav \\'>\\n<table width=\"750\" border=\"0\" align=\"center\" cellpadding=\"0\" cellspacing=\"0\">\\n <tr>\\n <td height=\"36\" valign=\"bottom\" background=\"https://s.yimg.com/f/i/tw/stock/revamp/t_bg01.jpg\"><table width=\"730\" border=\"0\" align=\"center\" cellpadding=\"0\" cellspacing=\"0\">\\n <tr>\\n<td width=\"57\" valign=\"bottom\"><a href=\\'https://tw.rd.yahoo.com/referurl/stock/other/nav/home/*https://tw.stock.yahoo.com/\\' onMouseOut=\"MM_swapImgRestore()\" onMouseOver=\"MM_swapImage(\\'Image50\\',\\'\\',\\'https://s.yimg.com/f/i/tw/stock/yimg/t1_idx_v_new.png\\',1)\"><img src=\"https://s.yimg.com/f/i/tw/stock/yimg/t1_idx_new.png\" name=\"Image50\" width=\"53\" height=\"24\" border=\"0\" title=\"\\u9996\\u9801\" alt=\"\\u9996\\u9801\"/></a></td>\\n<td width=\"89\" valign=\"bottom\"><a href=\\'https://tw.rd.yahoo.com/referurl/stock/other/nav/portfolio/*https://tw.stock.yahoo.com/pf/mypf\\' onMouseOut=\"MM_swapImgRestore()\" onMouseOver=\"MM_swapImage(\\'Image51\\',\\'\\',\\'https://s.yimg.com/f/i/tw/stock/yimg/t2_ivst_v.png\\',1)\"><img src=\"https://s.yimg.com/f/i/tw/stock/yimg/t2_ivst.png\" name=\"Image51\" width=\"85\" height=\"24\" border=\"0\" title=\"\\u6295\\u8cc7\\u7d44\\u5408\" alt=\"\\u6295\\u8cc7\\u7d44\\u5408\"/></a></td>\\n<td width=\"89\" valign=\"bottom\"><a href=\\'https://tw.rd.yahoo.com/referurl/stock/other/nav/industry/*https://tw.stock.yahoo.com/h/getclass.php\\'><img src=\"https://s.yimg.com/f/i/tw/stock/yimg/t3_tdy_o.png\" name=\"Image55\" width=\"85\" height=\"31\" border=\"0\" title=\"\\u7576\\u65e5\\u884c\\u60c5\" alt=\"\\u7576\\u65e5\\u884c\\u60c5\"></a></td>\\n<td width=\"57\" valign=\"bottom\"><a href=\\'https://tw.rd.yahoo.com/referurl/stock/other/nav/tse/*https://tw.stock.yahoo.com/s/tse.php\\' onMouseOut=\"MM_swapImgRestore()\" onMouseOver=\"MM_swapImage(\\'Image53\\',\\'\\',\\'https://s.yimg.com/f/i/tw/stock/yimg/t4_big_v.png\\',1)\"><img src=\"https://s.yimg.com/f/i/tw/stock/yimg/t4_big.png\" name=\"Image53\" width=\"53\" height=\"24\" border=\"0\" title=\"\\u5927\\u76e4\" alt=\"\\u5927\\u76e4\"/></a></td>\\n<td width=\"57\" valign=\"bottom\"><a href=\\'https://tw.rd.yahoo.com/referurl/stock/other/nav/indice/*https://tw.stock.yahoo.com/s/nine.php\\' onMouseOut=\"MM_swapImgRestore()\" onMouseOver=\"MM_swapImage(\\'Image54\\',\\'\\',\\'https://s.yimg.com/f/i/tw/stock/yimg/t5_cls_v.png\\',1)\"><img src=\"https://s.yimg.com/f/i/tw/stock/yimg/t5_cls.png\" name=\"Image54\" width=\"53\" height=\"24\" border=\"0\" title=\"\\u985e\\u80a1\" alt=\"\\u985e\\u80a1\"/></a></td>\\n<td width=\"57\" valign=\"bottom\"><a href=\\'https://tw.rd.yahoo.com/referurl/stock/other/nav/futures/*https://tw.stock.yahoo.com/future/\\' onMouseOut=\"MM_swapImgRestore()\" onMouseOver=\"MM_swapImage(\\'Image52\\',\\'\\',\\'https://s.yimg.com/f/i/tw/stock/yimg/t6_ftr_v_future.png\\',1)\"><img src=\"https://s.yimg.com/f/i/tw/stock/yimg/t6_ftr_future.png\" name=\"Image52\" width=\"53\" height=\"24\" border=\"0\" title=\"\\u671f\\u6b0a\" alt=\"\\u671f\\u6b0a\"/></a></td>\\n<td width=\"89\" valign=\"bottom\"><a href=\\'https://tw.rd.yahoo.com/referurl/stock/other/nav/hkcn/*https://tw.stock.yahoo.com/hkcn/\\' onMouseOut=\"MM_swapImgRestore()\" onMouseOver=\"MM_swapImage(\\'Image56\\',\\'\\',\\'https://s.yimg.com/f/i/tw/stock/yimg/t7_hk_v.png\\',1)\"><img src=\"https://s.yimg.com/f/i/tw/stock/yimg/t7_hk.png\" name=\"Image56\" width=\"85\" height=\"24\" border=\"0\" title=\"\\u6e2f\\u6eec\\u6df1\\u80a1\" alt=\"\\u6e2f\\u6eec\\u6df1\\u80a1\"/></a></td>\\n<td width=\"57\" valign=\"bottom\"><a href=\\'https://tw.rd.yahoo.com/referurl/stock/other/nav/us/*https://tw.stock.yahoo.com/us/\\' onMouseOut=\"MM_swapImgRestore()\" onMouseOver=\"MM_swapImage(\\'Image57\\',\\'\\',\\'https://s.yimg.com/f/i/tw/stock/yimg/t8_us_v.png\\',1)\"><img src=\"https://s.yimg.com/f/i/tw/stock/yimg/t8_us.png\" name=\"Image57\" width=\"53\" height=\"24\" border=\"0\" title=\"\\u7f8e\\u80a1\" alt=\"\\u7f8e\\u80a1\"/></a></td>\\n<td width=\"57\" valign=\"bottom\"><a href=\\'https://tw.rd.yahoo.com/referurl/stock/other/nav/news/*https://tw.stock.yahoo.com/news_index.html\\' onMouseOut=\"MM_swapImgRestore()\" onMouseOver=\"MM_swapImage(\\'Image58\\',\\'\\',\\'https://s.yimg.com/f/i/tw/stock/yimg/t9_nws_v.png\\',1)\"><img src=\"https://s.yimg.com/f/i/tw/stock/yimg/t9_nws.png\" name=\"Image58\" width=\"53\" height=\"24\" border=\"0\" title=\"\\u65b0\\u805e\" alt=\"\\u65b0\\u805e\"/></a></td>\\n<td width=\"77\" valign=\"bottom\"><a href=\\'https://tw.rd.yahoo.com/referurl/stock/other/SIG=125gf33ql/**https://tw.screener.finance.yahoo.net/screener/basic.html\\' onMouseOut=\"MM_swapImgRestore()\" onMouseOver=\"MM_swapImage(\\'Image59\\',\\'\\',\\'https://s.yimg.com/f/i/tw/stock/yimg/t10a_fd_v_new.png\\',1)\"><img src=\"https://s.yimg.com/f/i/tw/stock/yimg/t10a_fd_new.png\" name=\"Image59\" width=\"73\" height=\"24\" border=\"0\" title=\"Y\\u9078\\u80a1\" alt=\"Y\\u9078\\u80a1\"/></a></td>\\n<td width=\"57\" valign=\"bottom\"><a href=\\'https://tw.rd.yahoo.com/referurl/stock/other/SIG=125gf33ql/**https://tw.campaign.yahoo.com/stock/house/2014/\\' onMouseOut=\"MM_swapImgRestore()\" onMouseOver=\"MM_swapImage(\\'Image60\\',\\'\\',\\'https://s.yimg.com/f/i/tw/stock/yimg/t11_hou_v.png\\',1)\"><img src=\"https://s.yimg.com/f/i/tw/stock/yimg/t11_hou.png\" name=\"Image60\" width=\"53\" height=\"24\" border=\"0\" title=\"\\u623f\\u5e02\" alt=\"\\u623f\\u5e02\"/></a></td> </tr>\\n </table></td>\\n </tr>\\n <tr>\\n <td height=\"8\" background=\"https://s.yimg.com/f/i/tw/stock/revamp/bg02.gif\"></td>\\n </tr>\\n <tr>\\n <td height=\"36\" bgcolor=\"#4f627b\"><table width=\"740\" border=\"0\" align=\"center\" cellpadding=\"0\" cellspacing=\"2\">\\n <tr><form name=\"menu\" action=\"https://tw.stock.yahoo.com/h/stockmenu.php\" onsubmit=\"return stockmenu_submit(this);\"> <td valign=\"top\"><a href=\"javascript:open_win(\\'/h/kimosel.php\\',\\'menu\\',\\'stock_id\\',\\'stock_name\\')\" onMouseOut=\"MM_swapImgRestore()\" onMouseOver=\"MM_swapImage(\\'button01\\',\\'\\',\\'https://s.yimg.com/f/i/tw/stock/revamp/button01_f2.gif\\',1);\" class=\"yui-tw-stock-block yui-nav-but\"><img name=\"button01\" src=\"https://s.yimg.com/f/i/tw/stock/revamp/button01.gif\" width=\"95\" height=\"21\" border=\"0\" alt=\"\"></a></td>\\n <td>\\n <input type=\"hidden\" name=\"stock_name\" value>\\n <input value=\"\\u8f38\\u5165\\u53f0\\u80a1\\u4ee3\\u865f/\\u540d\\u7a31\" onfocus=\"javascript:stkClearMe(this);\" onblur=\"javascript:stkRestore(this,\\'\\u8f38\\u5165\\u53f0\\u80a1\\u4ee3\\u865f/\\u540d\\u7a31\\');\" id=\"stock_id\" name=\"stock_id\" type=\"text\" size=\"15\" />\\n<script language=\"javascript\">\\nif(document.getElementById(\"stock_id\").value == \"\\u8f38\\u5165\\u53f0\\u80a1\\u4ee3\\u865f/\\u540d\\u7a31\")\\n{\\n   document.getElementById(\"stock_id\").style.color = \"#a8a8a8\";\\n}\\n</script>\\n        </td>\\n        <td><label>\\n          <select name=\"func\" onChange=\"return stockmenu_submit(this.form);\">\\n              <option VALUE=\"G\" SELECTED>\\uff0d\\uff0d\\u7576\\u65e5\\u500b\\u80a1\\u80a1\\u50f9\\uff0d\\uff0d</option>\\n              <option VALUE=\"L\">\\uff0d\\uff0d\\u7576\\u65e5\\u500b\\u80a1\\u8d70\\u52e2\\uff0d\\uff0d</option>\\n              <option VALUE=\"I\">\\uff0d\\uff0d\\u500b\\u80a1\\u6210\\u4ea4\\u660e\\u7d30\\uff0d\\uff0d</option>\\n              <option VALUE=\"N\">\\uff0d\\uff0d\\u500b\\u80a1\\u65b0\\u805e\\uff0d\\uff0d</option>\\n              <option VALUE=\"H\">\\uff0d\\uff0d\\u500b\\u80a1\\u5065\\u8a3a\\uff0d\\uff0d</option>\\n              <option VALUE=\"F\">\\uff0d\\uff0d\\u516c\\u53f8\\u57fa\\u672c\\u8cc7\\u6599\\uff0d\\uff0d</option>\\n              <option VALUE=\"C\">\\uff0d\\uff0d\\u500b\\u80a1\\u7c4c\\u78bc\\u5206\\u6790\\uff0d\\uff0d</option>\\n              <option VALUE=\"T\">\\uff0d\\uff0d\\u6b77\\u53f2\\u80a1\\u50f9\\uff2b\\u7dda\\u5716\\uff0d</option>\\n            </select>\\n          </label></td>\\n          <td><label><input style=\"width:40px;\" type=\"submit\" name=\"xSubmit\" value=\"\\u67e5\\u8a62\"/>\\n          </label></td>\\n<!-- type - 3, ref: Array\\n(\\n    [hh] => 21\\n    [mm] => 30\\n)\\n -->\\n        <td width=\"270\" class=\"ssbody\"><div align=\"right\"><span class=\"ssbodyw\">2015/04/13 14:11 \\u8ddd\\u96e2\\u7f8e\\u80a1\\u958b\\u76e4\\u9084\\u67097\\u5c0f\\u664219\\u5206\\u9418</span></div></td>\\n   <td>\\n   <a class=\"refresh\" href=\\'\\' >\\u66f4\\u65b0</a>\\n   </td>\\n   </div></td>      </form></tr>\\n    </table>\\n    <label></label></td>\\n  </tr>\\n  <tr>\\n    <td height=\"4\" bgcolor=\"#FFFFFF\"></td>\\n    </tr>\\n  </table>\\n  </div>\\n<script language=\"javascript\">\\nif(document.getElementById(\"stock_id\").value == \"\\u8f38\\u5165\\u53f0\\u80a1\\u4ee3\\u865f/\\u540d\\u7a31\")\\n{\\n  document.getElementById(\"stock_id\").style.color = \"#a8a8a8\";\\n}\\n</script>\\n<!--\\u4e3b\\u9078\\u55ae end-->\\n\\n\\n\\n</center></div>\\n<!---------------------quary bar start-------------------->\\n<center>\\n<!--\\n<div class=\"mobilizer other-entry\"><a href=\"#\" onclick=\"return YMobilizer.load({app: \\'finance\\', lang: \\'zh-Hant-TW\\'})\" class=\"mob-com\">\\u624b\\u6a5f\\u770b\\u80a1\\u5e02</a></div>\\n-->\\n<table border=\"0\" cellPadding=\"9\" cellSpacing=\"1\" >\\n  <tr>\\n    <td><table width=\"600\" border=\"0\" cellspacing=\"0\" cellpadding=\"2\">\\n      <tr>\\n<!---\\n         <form name=\"menu\" action=\"/s/stockmenu.php\">\\n--->\\n         <form name=\"twstock_other_list_menu\" action=\"/fcgi-bin/stockmenu.fcg\">\\n         <input type=\"hidden\" name=\"stock_name\" value>\\n         <td align=\"center\" width=\"600\" valign=\"middle\"><a href=\"javascript:open_win(\\'/h/kimosel.php\\',\\'twstock_other_list_menu\\',\\'stock_id\\',\\'stock_name\\')\"><font size=\"-1\">\\u80a1\\u7968\\u4ee3\\u865f/\\u540d\\u7a31</font></a>\\n   <input type=text name=\"stock_id\" size=\"5\" value=\"2382\">\\n          <select name=\"func\" size=\"1\" onChange=\"submit();\">\\n            <option VALUE=\"G\" SELECTED>\\uff0d\\uff0d\\u7576\\u65e5\\u500b\\u80a1\\u80a1\\u50f9\\uff0d\\uff0d</option>\\n            <option VALUE=\"L\">\\uff0d\\uff0d\\u7576\\u65e5\\u500b\\u80a1\\u8d70\\u52e2\\uff0d\\uff0d</option>\\n            <option VALUE=\"I\">\\uff0d\\uff0d\\u500b\\u80a1\\u6210\\u4ea4\\u660e\\u7d30\\uff0d\\uff0d</option>\\n\\t    <option VALUE=\"N\">\\uff0d\\uff0d\\u500b\\u80a1\\u65b0\\u805e\\uff0d\\uff0d</option>\\n            <option VALUE=\"H\">\\uff0d\\uff0d\\u500b\\u80a1\\u5065\\u8a3a\\uff0d\\uff0d</option>\\n\\t    <option VALUE=\"F\">\\uff0d\\uff0d\\u516c\\u53f8\\u57fa\\u672c\\u8cc7\\u6599\\uff0d\\uff0d</option>\\n\\t    <option VALUE=\"C\">\\uff0d\\uff0d\\u500b\\u80a1\\u7c4c\\u78bc\\u5206\\u6790\\uff0d\\uff0d</option>\\n            <option VALUE=\"T\">\\uff0d\\uff0d\\u6b77\\u53f2\\u80a1\\u50f9\\uff2b\\u7dda\\u5716\\uff0d</option>\\n          </select>\\u3000<input type=\"submit\" value=\"\\u67e5\\u8a62\"> <INPUT TYPE=\"button\" name=\"reload\" value=\"\\u66f4\\u65b0\" onClick=\"location.reload()\"><font size=\"-1\">\\n <a HREF=\"https://tw.help.yahoo.com/kb/helpcentral\">\\u5e38\\u898b\\u554f\\u984c</a></font>\\n</td></form>\\n      </tr>\\n    </table>\\n    </td>\\n  </tr>\\n</table>\\n</center>\\n<!---------------------quary bar end-------------------->\\n\\n\\n<!---------------------content start-------------------->\\n<center>\\n\\n  <table width=\"630\" border=\"0\" cellspacing=\"0\" cellpadding=\"3\">\\n      <tr class=\"yui-stock-genpage-pright\"> \\n      <td width=\"630\" align=\"left\" colspan=\"2\"><font color=\"#F70000\"><b>2382\\u5ee3\\u9054</b></font>\\n     <a href=\"/q/q_2382.html\" class=\"bg\">\\u8d70\\u52e2\\u5716</a>\\n     <a href=\"/q/t/2382.html\" class=\"bg\">\\u6210\\u4ea4\\u660e\\u7d30</a>\\n     <a href=\"/t/d/k_2382.html\">\\u6280\\u8853\\u5206\\u6790</a>\\n              <a href=\"/n/j/2382/h.html\">\\u65b0\\u805e</a>\\n                   <a href=\"/d/s/company_2382.html\">\\u57fa\\u672c\\u8cc7\\u6599</a>\\n                   <span>\\u7c4c\\u78bc\\u5206\\u6790</span>\\n          \\t <a target=\\'_blank\\' href=\\'https://tw.rd.yahoo.com/referurl/stock/other/SIG=125v47s73/**https://tw.screener.finance.yahoo.net/screener/check.html?symid=2382\\'>\\u500b\\u80a1\\u5065\\u8a3a</a>\\n         <a target=\\'_blank\\' class=\\'last\\' style=\\'color:red\\' href=\\'https://tw.money.yahoo.com\\'>\\u65b0\\u7248\\u7406\\u8ca1</a>\\n      </td>\\n    </tr>\\n    <tr > \\n         <td width=\"630\" ><img src=\"/p/1.gif\" class=\"yui-stock-genpage-img\" width=\"630\" height=\"1\"></td>\\n    </tr>\\n    <tr> \\n      <td class=\"tt yui-td-left\" height=\"18\">\\u4e3b\\u529b\\u9032\\u51fa\\u3000<a href=credit_2382.html>\\u8cc7\\u5238\\u8b8a\\u5316</a>\\u3000\\u3000\\u3000\\u3000\\u3000\\u3000\\u3000\\u3000\\u3000\\u3000\\u3000\\u3000\\u3000\\u3000\\u3000\\u3000\\u3000\\u3000\\u3000\\u3000\\u3000\\u3000\\u3000\\u3000\\u3000\\u3000</td>\\n    </tr>\\n  </table>\\n</center>\\n\\n<table width=\"630\" border=\"0\" cellspacing=\"0\" cellpadding=\"0\" align=\"center\">\\n <tr bgcolor=\"#FEC003\">   \\n <td colspan=\"2\"> \\n        <table border=\"0\" width=\"100%\" cellpadding=\"2\" height=\"23\">\\n          <tr>\\n            <td width=\"180\" align=\"left\" class=\"tt\">\\u8cc7\\u6599\\u65e5\\u671f\\uff1a104 /04 /10 \\n            </td> \\n            <td width=\"240\" align=\"center\" class=\"ttt\">\\u500b \\u80a1 \\u7576 \\u65e5 \\u4e3b \\u529b \\u9032 \\u51fa</td>\\n  <td width=\"180\" align=\"right\" class=\"tt\">\\u55ae\\u4f4d\\uff1a\\u5f35\\u6578\\n            </td></tr>\\n        </table>\\n <table width=\"100%\" border=\"0\" cellspacing=\"1\" cellpadding=\"3\">\\n          <tr bgcolor=\"#FFF0C1\"> \\n          <td class=\"ttt\" align=\"center\">\\u8cb7\\u8d85\\u5238\\u5546</td>\\n          <td class=\"ttt\" align=\"center\">\\u8cb7\\u9032</td>\\n          <td class=\"ttt\" align=\"center\">\\u8ce3\\u51fa</td>\\n          <td class=\"ttt\" align=\"center\">\\u8cb7\\u8d85</td>\\n          <td class=\"ttt\" align=\"center\">\\u8ce3\\u8d85\\u5238\\u5546</td>\\n          <td class=\"ttt\" align=\"center\">\\u8cb7\\u9032</td>\\n          <td class=\"ttt\" align=\"center\">\\u8ce3\\u51fa</td>\\n     <td class=\"ttt\" align=\"center\">\\u8ce3\\u8d85</td>\\n        </tr>\\n            <tr bgcolor=\"#FFFFFF\">                                      \\n          <td class=\"ttt\" align=\"center\">\\u6469\\u6839\\u5927\\u901a   </td>\\n          <td class=\"ttt\" align=\"center\">3848 </td>\\n          <td class=\"ttt\" align=\"center\">1450 </td>\\n          <td class=\"ttt\" align=\"center\">+2398 </td>\\n          <td class=\"ttt\" align=\"center\">\\u82b1\\u65d7\\u74b0\\u7403   </td>\\n          <td class=\"ttt\" align=\"center\">0 </td>\\n          <td class=\"ttt\" align=\"center\">2810 </td>\\n          <td class=\"ttt\" align=\"center\">-2810 </td>\\n          </tr>\\n                  <tr bgcolor=\"#FFFFFF\">                                      \\n          <td class=\"ttt\" align=\"center\">\\u53f0\\u7063\\u6771\\u65b9\\u532f </td>\\n          <td class=\"ttt\" align=\"center\">1064 </td>\\n          <td class=\"ttt\" align=\"center\">0 </td>\\n          <td class=\"ttt\" align=\"center\">+1064 </td>\\n          <td class=\"ttt\" align=\"center\">\\u9999\\u6e2f\\u4e0a\\u6d77\\u532f </td>\\n          <td class=\"ttt\" align=\"center\">0 </td>\\n          <td class=\"ttt\" align=\"center\">2079 </td>\\n          <td class=\"ttt\" align=\"center\">-2079 </td>\\n          </tr>\\n                  <tr bgcolor=\"#FFFFFF\">                                      \\n          <td class=\"ttt\" align=\"center\">\\u5143\\u5927\\u5bf6\\u4f86   </td>\\n          <td class=\"ttt\" align=\"center\">764 </td>\\n          <td class=\"ttt\" align=\"center\">227 </td>\\n          <td class=\"ttt\" align=\"center\">+537 </td>\\n          <td class=\"ttt\" align=\"center\">\\u7f8e\\u5546\\u9ad8\\u76db   </td>\\n          <td class=\"ttt\" align=\"center\">5 </td>\\n          <td class=\"ttt\" align=\"center\">1406 </td>\\n          <td class=\"ttt\" align=\"center\">-1401 </td>\\n          </tr>\\n                  <tr bgcolor=\"#FFFFFF\">                                      \\n          <td class=\"ttt\" align=\"center\">\\u6c38\\u8c50\\u91d1\\u8b49\\u5238 </td>\\n          <td class=\"ttt\" align=\"center\">524 </td>\\n          <td class=\"ttt\" align=\"center\">71 </td>\\n          <td class=\"ttt\" align=\"center\">+453 </td>\\n          <td class=\"ttt\" align=\"center\">\\u53f0\\u7063\\u6469\\u6839\\u58eb </td>\\n          <td class=\"ttt\" align=\"center\">65 </td>\\n          <td class=\"ttt\" align=\"center\">526 </td>\\n          <td class=\"ttt\" align=\"center\">-461 </td>\\n          </tr>\\n                  <tr bgcolor=\"#FFFFFF\">                                      \\n          <td class=\"ttt\" align=\"center\">\\u51f1\\u57fa\\u8b49\\u5238   </td>\\n          <td class=\"ttt\" align=\"center\">476 </td>\\n          <td class=\"ttt\" align=\"center\">74 </td>\\n          <td class=\"ttt\" align=\"center\">+402 </td>\\n          <td class=\"ttt\" align=\"center\">\\u6e2f\\u5546\\u5fb7\\u610f\\u5fd7 </td>\\n          <td class=\"ttt\" align=\"center\">280 </td>\\n          <td class=\"ttt\" align=\"center\">619 </td>\\n          <td class=\"ttt\" align=\"center\">-339 </td>\\n          </tr>\\n                  <tr bgcolor=\"#FFFFFF\">                                      \\n          <td class=\"ttt\" align=\"center\">\\u81fa\\u9280       </td>\\n          <td class=\"ttt\" align=\"center\">322 </td>\\n          <td class=\"ttt\" align=\"center\">3 </td>\\n          <td class=\"ttt\" align=\"center\">+319 </td>\\n          <td class=\"ttt\" align=\"center\">\\u745e\\u58eb\\u4fe1\\u8cb8   </td>\\n          <td class=\"ttt\" align=\"center\">381 </td>\\n          <td class=\"ttt\" align=\"center\">582 </td>\\n          <td class=\"ttt\" align=\"center\">-201 </td>\\n          </tr>\\n                  <tr bgcolor=\"#FFFFFF\">                                      \\n          <td class=\"ttt\" align=\"center\">\\u7fa4\\u76ca\\u91d1\\u9f0e   </td>\\n          <td class=\"ttt\" align=\"center\">285 </td>\\n          <td class=\"ttt\" align=\"center\">24 </td>\\n          <td class=\"ttt\" align=\"center\">+261 </td>\\n          <td class=\"ttt\" align=\"center\">\\u806f\\u90a6\\u5546\\u9280   </td>\\n          <td class=\"ttt\" align=\"center\">0 </td>\\n          <td class=\"ttt\" align=\"center\">26 </td>\\n          <td class=\"ttt\" align=\"center\">-26 </td>\\n          </tr>\\n                  <tr bgcolor=\"#FFFFFF\">                                      \\n          <td class=\"ttt\" align=\"center\">\\u83ef\\u5357\\u6c38\\u660c   </td>\\n          <td class=\"ttt\" align=\"center\">217 </td>\\n          <td class=\"ttt\" align=\"center\">6 </td>\\n          <td class=\"ttt\" align=\"center\">+211 </td>\\n          <td class=\"ttt\" align=\"center\">\\u91d1\\u6e2f\\u8b49\\u5238   </td>\\n          <td class=\"ttt\" align=\"center\">0 </td>\\n          <td class=\"ttt\" align=\"center\">3 </td>\\n          <td class=\"ttt\" align=\"center\">-3 </td>\\n          </tr>\\n                  <tr bgcolor=\"#FFFFFF\">                                      \\n          <td class=\"ttt\" align=\"center\">\\u5143\\u5bcc       </td>\\n          <td class=\"ttt\" align=\"center\">191 </td>\\n          <td class=\"ttt\" align=\"center\">11 </td>\\n          <td class=\"ttt\" align=\"center\">+180 </td>\\n          <td class=\"ttt\" align=\"center\">\\u5bf6\\u76db       </td>\\n          <td class=\"ttt\" align=\"center\">1 </td>\\n          <td class=\"ttt\" align=\"center\">2 </td>\\n          <td class=\"ttt\" align=\"center\">-1 </td>\\n          </tr>\\n                  <tr bgcolor=\"#FFFFFF\">                                      \\n          <td class=\"ttt\" align=\"center\">\\u65b0\\u52a0\\u5761\\u5546\\u745e </td>\\n          <td class=\"ttt\" align=\"center\">659 </td>\\n          <td class=\"ttt\" align=\"center\">493 </td>\\n          <td class=\"ttt\" align=\"center\">+166 </td>\\n          <td class=\"ttt\" align=\"center\">\\u5149\\u9686       </td>\\n          <td class=\"ttt\" align=\"center\">0 </td>\\n          <td class=\"ttt\" align=\"center\">0 </td>\\n          <td class=\"ttt\" align=\"center\">0 </td>\\n          </tr>\\n                  <tr bgcolor=\"#FFFFFF\">                                      \\n          <td class=\"ttt\" align=\"center\">\\u65e5\\u76db\\u8b49\\u5238   </td>\\n          <td class=\"ttt\" align=\"center\">130 </td>\\n          <td class=\"ttt\" align=\"center\">13 </td>\\n          <td class=\"ttt\" align=\"center\">+117 </td>\\n          <td class=\"ttt\" align=\"center\">\\u5b89\\u6cf0       </td>\\n          <td class=\"ttt\" align=\"center\">0 </td>\\n          <td class=\"ttt\" align=\"center\">0 </td>\\n          <td class=\"ttt\" align=\"center\">0 </td>\\n          </tr>\\n                  <tr bgcolor=\"#FFFFFF\">                                      \\n          <td class=\"ttt\" align=\"center\">\\u53f0\\u7063\\u5de5\\u9280   </td>\\n          <td class=\"ttt\" align=\"center\">118 </td>\\n          <td class=\"ttt\" align=\"center\">2 </td>\\n          <td class=\"ttt\" align=\"center\">+116 </td>\\n          <td class=\"ttt\" align=\"center\">\\u65b0\\u767e\\u738b     </td>\\n          <td class=\"ttt\" align=\"center\">0 </td>\\n          <td class=\"ttt\" align=\"center\">0 </td>\\n          <td class=\"ttt\" align=\"center\">0 </td>\\n          </tr>\\n                  <tr bgcolor=\"#FFFFFF\">                                      \\n          <td class=\"ttt\" align=\"center\">\\u65b0\\u5149\\u8b49\\u5238   </td>\\n          <td class=\"ttt\" align=\"center\">126 </td>\\n          <td class=\"ttt\" align=\"center\">10 </td>\\n          <td class=\"ttt\" align=\"center\">+116 </td>\\n          <td class=\"ttt\" align=\"center\">\\u842c\\u6cf0       </td>\\n          <td class=\"ttt\" align=\"center\">0 </td>\\n          <td class=\"ttt\" align=\"center\">0 </td>\\n          <td class=\"ttt\" align=\"center\">0 </td>\\n          </tr>\\n                  <tr bgcolor=\"#FFFFFF\">                                      \\n          <td class=\"ttt\" align=\"center\">\\u570b\\u6cf0\\u8b49\\u5238   </td>\\n          <td class=\"ttt\" align=\"center\">78 </td>\\n          <td class=\"ttt\" align=\"center\">0 </td>\\n          <td class=\"ttt\" align=\"center\">+78 </td>\\n          <td class=\"ttt\" align=\"center\">\\u6e2f\\u5546\\u91ce\\u6751   </td>\\n          <td class=\"ttt\" align=\"center\">0 </td>\\n          <td class=\"ttt\" align=\"center\">0 </td>\\n          <td class=\"ttt\" align=\"center\">0 </td>\\n          </tr>\\n                  <tr bgcolor=\"#FFFFFF\">                                      \\n          <td class=\"ttt\" align=\"center\">\\u6e2f\\u5546\\u9ea5\\u683c\\u91cc </td>\\n          <td class=\"ttt\" align=\"center\">68 </td>\\n          <td class=\"ttt\" align=\"center\">0 </td>\\n          <td class=\"ttt\" align=\"center\">+68 </td>\\n          <td class=\"ttt\" align=\"center\">\\u5168\\u6cf0\\u8b49\\u5238   </td>\\n          <td class=\"ttt\" align=\"center\">0 </td>\\n          <td class=\"ttt\" align=\"center\">0 </td>\\n          <td class=\"ttt\" align=\"center\">0 </td>\\n          </tr>\\n          </table>\\n    </td>\\n  </tr>\\n</table>\\n<!---------------------content end-------------------->\\n<table border=\"0\" align=\"center\" cellPadding=\"0\" cellSpacing=\"0\" width=\"750\" >\\n  <tr>\\n    <td height=\"90\" valign=\"bottom\">\\n      <DIV id=yhtw_mastfoot>\\n<!-- APT Vendor: Yahoo, Format: Standard Graphical -->\\n<DIV class=ln>\\n<A href=\"https://beap-bc.yahoo.com/yc/YnY9MS4wLjAmYnM9KDE3c2hjNzdnNyhnaWQkX0dfc1pERXhOaTdpdmZsUWtaQkkzUUpCTVM0eE53QUFBQUQ3eWtWcyxzdCQxNDI4OTA1NDgzOTc5ODI2LHNpJDI0NDA2MSxzcCQxNTI5NTIyMjcsY3IkMTI4MzYyNTU2MSx2JDIuMCxhaWQkVHR6SjFzb3J3eVktLGN0JDI1LHlieCQwNU0wWkhkcnMzMk5BN1BsaVFDYXNRLGJpJDIyNDI3MzA2MSxtbWUkNDAyOTAwNjAwMzU2MTg0NDg5MixsbmckemgtdHcsciQwLHJkJDExMmZrZzZxZSx5b28kMSxhZ3AkMjcxNzAxNDQ5LGFwJEZPT1RDKSk/1/*http://tw.yahoo.com/info/utos.html\">&#26381;&#21209;&#26781;&#27454;</A>\\n<A href=\"https://beap-bc.yahoo.com/yc/YnY9MS4wLjAmYnM9KDE3c2pjNHMxbShnaWQkX0dfc1pERXhOaTdpdmZsUWtaQkkzUUpCTVM0eE53QUFBQUQ3eWtWcyxzdCQxNDI4OTA1NDgzOTc5ODI2LHNpJDI0NDA2MSxzcCQxNTI5NTIyMjcsY3IkMTI4MzYyNTU2MSx2JDIuMCxhaWQkVHR6SjFzb3J3eVktLGN0JDI1LHlieCQwNU0wWkhkcnMzMk5BN1BsaVFDYXNRLGJpJDIyNDI3MzA2MSxtbWUkNDAyOTAwNjAwMzU2MTg0NDg5MixsbmckemgtdHcsciQxLHJkJDExMzNuMTlwOSx5b28kMSxhZ3AkMjcxNzAxNDQ5LGFwJEZPT1RDKSk/1/*http://privacy.yahoo.com/privacy/tw\">&#38577;&#31169;&#27402;</A>\\n</DIV><script>var url = \"\"; if(url && url.search(\"http\") != -1){new Image().src = url;}</script><!--QYZ 224273061,1283625561,202.43.201.78;;FOOTC;152952227;1;--><script language=javascript>\\nif(window.xzq_d==null)window.xzq_d=new Object();\\nwindow.xzq_d[\\'TtzJ1sorwyY-\\']=\\'(as$138t9f3sm,aid$TtzJ1sorwyY-,bi$224273061,agp$271701449,cr$1283625561,ct$25,at$HR,eob$gd1_match_id=-1:ypos=PP.FOOT-FOOTC)\\';\\n</script><noscript><img width=1 height=1 alt=\"\" src=\"https://csc.beap.bc.yahoo.com/yi?bv=1.0.0&bs=(1348onsho(gid$_G_sZDExNi7ivflQkZBI3QJBMS4xNwAAAAD7ykVs,st$1428905483979826,si$244061,sp$152952227,pv$1,v$2.0))&t=JR_3-DR_3&al=(as$138t9f3sm,aid$TtzJ1sorwyY-,bi$224273061,agp$271701449,cr$1283625561,ct$25,at$HR,eob$gd1_match_id=-1:ypos=PP.FOOT-FOOTC)\"></noscript><!-- SpaceID=152952227 loc=FOOT1 noad --><!-- fac-gd2-noad --><!-- gd2-status-2 --><!--QYZ CMS_NONE_AVAIL,,202.43.201.78;;FOOT1;152952227;2;--><script language=javascript>\\nif(window.xzq_d==null)window.xzq_d=new Object();\\nwindow.xzq_d[\\'B.zJ1sorwyY-\\']=\\'(as$125btmtl7,aid$B.zJ1sorwyY-,cr$-1,ct$25,at$HR,eob$gd1_match_id=-1:ypos=FOOT1)\\';\\n</script><noscript><img width=1 height=1 alt=\"\" src=\"https://csc.beap.bc.yahoo.com/yi?bv=1.0.0&bs=(1348onsho(gid$_G_sZDExNi7ivflQkZBI3QJBMS4xNwAAAAD7ykVs,st$1428905483979826,si$244061,sp$152952227,pv$1,v$2.0))&t=JR_3-DR_3&al=(as$125btmtl7,aid$B.zJ1sorwyY-,cr$-1,ct$25,at$HR,eob$gd1_match_id=-1:ypos=FOOT1)\"></noscript><!-- SpaceID=152952227 loc=FOOT2 noad --><!-- fac-gd2-noad --><!-- gd2-status-2 --><!--QYZ CMS_NONE_AVAIL,,202.43.201.78;;FOOT2;152952227;2;--><script language=javascript>\\nif(window.xzq_d==null)window.xzq_d=new Object();\\nwindow.xzq_d[\\'wPvJ1sorwyY-\\']=\\'(as$1252p2ppf,aid$wPvJ1sorwyY-,cr$-1,ct$25,at$HR,eob$gd1_match_id=-1:ypos=FOOT2)\\';\\n</script><noscript><img width=1 height=1 alt=\"\" src=\"https://csc.beap.bc.yahoo.com/yi?bv=1.0.0&bs=(1348onsho(gid$_G_sZDExNi7ivflQkZBI3QJBMS4xNwAAAAD7ykVs,st$1428905483979826,si$244061,sp$152952227,pv$1,v$2.0))&t=JR_3-DR_3&al=(as$1252p2ppf,aid$wPvJ1sorwyY-,cr$-1,ct$25,at$HR,eob$gd1_match_id=-1:ypos=FOOT2)\"></noscript><!-- SpaceID=152952227 loc=FOOTY noad --><!-- fac-gd2-noad --><!-- gd2-status-2 --><!--QYZ CMS_NONE_AVAIL,,202.43.201.78;;FOOTY;152952227;2;--><!-- SpaceID=152952227 loc=FOOT9 noad --><!-- fac-gd2-noad --><!-- gd2-status-2 --><!--QYZ CMS_NONE_AVAIL,,202.43.201.78;;FOOT9;152952227;2;--><!-- SpaceID=152952227 loc=FSRVY noad --><!-- fac-gd2-noad --><!-- gd2-status-2 --><!--QYZ CMS_NONE_SELECTED,,202.43.201.78;;FSRVY;152952227;2;--><script language=javascript>\\nif(window.xzq_d==null)window.xzq_d=new Object();\\nwindow.xzq_d[\\'6yrK1sorwyY-\\']=\\'(as$1258oeesm,aid$6yrK1sorwyY-,cr$-1,ct$25,at$HR,eob$gd1_match_id=-1:ypos=FSRVY)\\';\\n</script><noscript><img width=1 height=1 alt=\"\" src=\"https://csc.beap.bc.yahoo.com/yi?bv=1.0.0&bs=(1348onsho(gid$_G_sZDExNi7ivflQkZBI3QJBMS4xNwAAAAD7ykVs,st$1428905483979826,si$244061,sp$152952227,pv$1,v$2.0))&t=JR_3-DR_3&al=(as$1258oeesm,aid$6yrK1sorwyY-,cr$-1,ct$25,at$HR,eob$gd1_match_id=-1:ypos=FSRVY)\"></noscript><!-- SpaceID=152952227 loc=SIP noad --><!-- fac-gd2-noad --><!-- gd2-status-2 --><!--QYZ CMS_NONE_AVAIL,,202.43.201.78;;SIP;152952227;2;--><script language=javascript>\\nif(window.xzq_d==null)window.xzq_d=new Object();\\nwindow.xzq_d[\\'pDrK1sorwyY-\\']=\\'(as$125s87gnv,aid$pDrK1sorwyY-,cr$-1,ct$25,at$HR,eob$gd1_match_id=-1:ypos=SIP)\\';\\n</script><noscript><img width=1 height=1 alt=\"\" src=\"https://csc.beap.bc.yahoo.com/yi?bv=1.0.0&bs=(1348onsho(gid$_G_sZDExNi7ivflQkZBI3QJBMS4xNwAAAAD7ykVs,st$1428905483979826,si$244061,sp$152952227,pv$1,v$2.0))&t=JR_3-DR_3&al=(as$125s87gnv,aid$pDrK1sorwyY-,cr$-1,ct$25,at$HR,eob$gd1_match_id=-1:ypos=SIP)\"></noscript><!-- SpaceID=152952227 loc=BLAP noad --><!-- fac-gd2-noad --><!-- gd2-status-2 --><!--QYZ CMS_NONE_AVAIL,,202.43.201.78;;BLAP;152952227;2;--><script language=javascript>\\nif(window.xzq_d==null)window.xzq_d=new Object();\\nwindow.xzq_d[\\'XUrK1sorwyY-\\']=\\'(as$125tqp55j,aid$XUrK1sorwyY-,cr$-1,ct$25,at$HR,eob$gd1_match_id=-1:ypos=BLAP)\\';\\n</script><noscript><img width=1 height=1 alt=\"\" src=\"https://csc.beap.bc.yahoo.com/yi?bv=1.0.0&bs=(1348onsho(gid$_G_sZDExNi7ivflQkZBI3QJBMS4xNwAAAAD7ykVs,st$1428905483979826,si$244061,sp$152952227,pv$1,v$2.0))&t=JR_3-DR_3&al=(as$125tqp55j,aid$XUrK1sorwyY-,cr$-1,ct$25,at$HR,eob$gd1_match_id=-1:ypos=BLAP)\"></noscript><!-- SpaceID=152952227 loc=RTG1 noad --><!-- fac-gd2-noad --><!-- gd2-status-2 --><!--QYZ CMS_NONE_AVAIL,,202.43.201.78;;RTG1;152952227;2;--><script language=javascript>\\nif(window.xzq_d==null)window.xzq_d=new Object();\\nwindow.xzq_d[\\'FlrK1sorwyY-\\']=\\'(as$125k7hkor,aid$FlrK1sorwyY-,cr$-1,ct$25,at$HR,eob$gd1_match_id=-1:ypos=RTG1)\\';\\n</script><noscript><img width=1 height=1 alt=\"\" src=\"https://csc.beap.bc.yahoo.com/yi?bv=1.0.0&bs=(1348onsho(gid$_G_sZDExNi7ivflQkZBI3QJBMS4xNwAAAAD7ykVs,st$1428905483979826,si$244061,sp$152952227,pv$1,v$2.0))&t=JR_3-DR_3&al=(as$125k7hkor,aid$FlrK1sorwyY-,cr$-1,ct$25,at$HR,eob$gd1_match_id=-1:ypos=RTG1)\"></noscript><!-- SpaceID=152952227 loc=RS3 noad --><!-- fac-gd2-noad --><!-- gd2-status-2 --><!--QYZ CMS_NONE_AVAIL,,202.43.201.78;;RS3;152952227;2;--><script language=javascript>\\nif(window.xzq_d==null)window.xzq_d=new Object();\\nwindow.xzq_d[\\'z2nK1sorwyY-\\']=\\'(as$125hb7b3o,aid$z2nK1sorwyY-,cr$-1,ct$25,at$HR,eob$gd1_match_id=-1:ypos=RS3)\\';\\n</script><noscript><img width=1 height=1 alt=\"\" src=\"https://csc.beap.bc.yahoo.com/yi?bv=1.0.0&bs=(1348onsho(gid$_G_sZDExNi7ivflQkZBI3QJBMS4xNwAAAAD7ykVs,st$1428905483979826,si$244061,sp$152952227,pv$1,v$2.0))&t=JR_3-DR_3&al=(as$125hb7b3o,aid$z2nK1sorwyY-,cr$-1,ct$25,at$HR,eob$gd1_match_id=-1:ypos=RS3)\"></noscript><!-- SpaceID=152952227 loc=ADBCN noad --><!-- fac-gd2-noad --><!-- gd2-status-2 --><!--QYZ CMS_NONE_AVAIL,,202.43.201.78;;ADBCN;152952227;2;--><script language=javascript>\\nif(window.xzq_d==null)window.xzq_d=new Object();\\nwindow.xzq_d[\\'iHnK1sorwyY-\\']=\\'(as$1251l60oe,aid$iHnK1sorwyY-,cr$-1,ct$25,at$HR,eob$gd1_match_id=-1:ypos=ADBCN)\\';\\n</script><noscript><img width=1 height=1 alt=\"\" src=\"https://csc.beap.bc.yahoo.com/yi?bv=1.0.0&bs=(1348onsho(gid$_G_sZDExNi7ivflQkZBI3QJBMS4xNwAAAAD7ykVs,st$1428905483979826,si$244061,sp$152952227,pv$1,v$2.0))&t=JR_3-DR_3&al=(as$1251l60oe,aid$iHnK1sorwyY-,cr$-1,ct$25,at$HR,eob$gd1_match_id=-1:ypos=ADBCN)\"></noscript><!-- SpaceID=152952227 loc=YMPIX noad --><!-- fac-gd2-noad --><!-- gd2-status-2 --><!--QYZ CMS_NONE_AVAIL,,202.43.201.78;;YMPIX;152952227;2;--><script language=javascript>\\nif(window.xzq_d==null)window.xzq_d=new Object();\\nwindow.xzq_d[\\'QYnK1sorwyY-\\']=\\'(as$125rg2d7c,aid$QYnK1sorwyY-,cr$-1,ct$25,at$HR,eob$gd1_match_id=-1:ypos=YMPIX)\\';\\n</script><noscript><img width=1 height=1 alt=\"\" src=\"https://csc.beap.bc.yahoo.com/yi?bv=1.0.0&bs=(1348onsho(gid$_G_sZDExNi7ivflQkZBI3QJBMS4xNwAAAAD7ykVs,st$1428905483979826,si$244061,sp$152952227,pv$1,v$2.0))&t=JR_3-DR_3&al=(as$125rg2d7c,aid$QYnK1sorwyY-,cr$-1,ct$25,at$HR,eob$gd1_match_id=-1:ypos=YMPIX)\"></noscript><!-- SpaceID=152952227 loc=RMPIX noad --><!-- fac-gd2-noad --><!-- gd2-status-2 --><!--QYZ CMS_NONE_AVAIL,,202.43.201.78;;RMPIX;152952227;2;--><script language=javascript>\\nif(window.xzq_d==null)window.xzq_d=new Object();\\nwindow.xzq_d[\\'.pjK1sorwyY-\\']=\\'(as$125klk2ts,aid$.pjK1sorwyY-,cr$-1,ct$25,at$HR,eob$gd1_match_id=-1:ypos=RMPIX)\\';\\n</script><noscript><img width=1 height=1 alt=\"\" src=\"https://csc.beap.bc.yahoo.com/yi?bv=1.0.0&bs=(1348onsho(gid$_G_sZDExNi7ivflQkZBI3QJBMS4xNwAAAAD7ykVs,st$1428905483979826,si$244061,sp$152952227,pv$1,v$2.0))&t=JR_3-DR_3&al=(as$125klk2ts,aid$.pjK1sorwyY-,cr$-1,ct$25,at$HR,eob$gd1_match_id=-1:ypos=RMPIX)\"></noscript><DIV class=\"other\">\\u5609\\u5be6\\u8cc7\\u8a0a\\u3000\\u7248\\u6b0a\\u6240\\u6709 &copy; 2015 SysJust Co., LTD.  All Rights Reserved.</DIV>\\n<div class=\"other\">\\n\\u500b\\u80a1\\u57fa\\u672c\\u8cc7\\u6599\\u53ca\\u76e4\\u5f8c\\u8cc7\\u8a0a\\u7531<a href=\"https://tw.rd.yahoo.com/referurl/stock/provider/sysjust/footer/SIG=11231m527/**http%3A%2F%2Fwww.moneydj.com%2F\">\\u5609\\u5be6\\u8cc7\\u8a0a</a>\\u63d0\\u4f9b\\uff0c\\u672c\\u8cc7\\u6599\\u50c5\\u4f9b\\u53c3\\u8003,\\n\\u4f7f\\u7528\\u8005\\u4f9d\\u672c\\u8cc7\\u6599\\u4ea4\\u6613\\u767c\\u751f\\u4ea4\\u6613\\u640d\\u5931\\u9700\\u81ea\\u884c\\u8ca0\\u8cac\\uff0cYahoo!\\u5947\\u6469\\u5c0d\\u8cc7\\u6599\\u5167\\u5bb9\\u932f\\u8aa4\\u3001\\u66f4\\u65b0\\u5ef6\\u8aa4\\u6216\\u50b3\\u8f38\\u4e2d\\u65b7\\u4e0d\\u8ca0\\u4efb\\u4f55\\u8cac\\u4efb\\u3002\\uff08\\u8acb\\u770bYahoo!\\u5947\\u6469\\u4e4b<a href=\"https://tw.info.yahoo.com/ann/disclaimers.html\">\\u514d\\u8cac\\u689d\\u6b3e</a>\\uff09\\n</div>\\n  </tr>\\n</table>\\n<!-- (begin) Yahoo! Web Analytics -->\\n<script type=\"text/javascript\" src=\"https://s.yimg.com/mi/apac/ywa.js\"></script> \\n<div id=\"ywa-data\" style=\"display:none;\" docgroup=\"\" docname=\"\"></div>\\n<script type=\"text/javascript\" src=\"https://s.yimg.com/f/i/tw/stock/ywa_tracker.js\"></script>\\n<noscript>\\n<div><img src=\"https://apac.analytics.yahoo.com/p.pl?a=1000934693535&js=no\" width=\"1\" height=\"1\" alt=\"\" /></div>\\n</noscript>\\n<!-- (end) Yahoo! Web Analytics -->\\n<script type=\"text/javascript\" src=\"https://s.yimg.com/f/i/tw/house/frame_check_20140305_min.js\"></script>\\n</body>\\n<script src=\"https://s.yimg.com/f/i/tw/mb/universal_header/uh_tw_v11.js\" type=\"text/javascript\"></script>\\n<!-- Begin comScore Tag -->\\n<script>\\n  var _comscore = _comscore || [];\\n  _comscore.push({\\n    c1: \"2\",\\n    c2: \"7241469\",\\n    c5: \"152952227\",\\n    c7: \"https%3A%2F%2Ftw.stock.yahoo.com%2Fd%2Fs%2Fmajor_2382.html\"\\n  });\\n  (function() {\\n    var s = document.createElement(\"script\"), el = document.getElementsByTagName(\"script\")[0]; s.async = true;\\n    s.src = (document.location.protocol == \"https:\" ? \"https://s.yimg.com/lq\" : \"http://l.yimg.com/d\") + \"/lib/3pm/cs_0.2.js\";\\n    el.parentNode.insertBefore(s, el);\\n  })();\\n</script>\\n<noscript><img src=\"https://sb.scorecardresearch.com/p?c1=2&c2=7241469&c7=https%3A%2F%2Ftw.stock.yahoo.com%2Fd%2Fs%2Fmajor_2382.html&c5=152952227&cv=2.0&cj=1\" width=\"1\" height=\"1\" alt=\"\"/></noscript>\\n<!-- End comScore Tag -->\\n</html>\\n\\n<script language=javascript>\\n(function(){window.xzq_p=function(R){M=R};window.xzq_svr=function(R){J=R};function F(S){var T=document;if(T.xzq_i==null){T.xzq_i=new Array();T.xzq_i.c=0}var R=T.xzq_i;R[++R.c]=new Image();R[R.c].src=S}window.xzq_sr=function(){var S=window;var Y=S.xzq_d;if(Y==null){return }if(J==null){return }var T=J+M;if(T.length>P){C();return }var X=\"\";var U=0;var W=Math.random();var V=(Y.hasOwnProperty!=null);var R;for(R in Y){if(typeof Y[R]==\"string\"){if(V&&!Y.hasOwnProperty(R)){continue}if(T.length+X.length+Y[R].length<=P){X+=Y[R]}else{if(T.length+Y[R].length>P){}else{U++;N(T,X,U,W);X=Y[R]}}}}if(U){U++}N(T,X,U,W);C()};function N(R,U,S,T){if(U.length>0){R+=\"&al=\"}F(R+U+\"&s=\"+S+\"&r=\"+T)}function C(){window.xzq_d=null;M=null;J=null}function K(R){xzq_sr()}function B(R){xzq_sr()}function L(U,V,W){if(W){var R=W.toString();var T=U;var Y=R.match(new RegExp(\"\\\\\\\\\\\\\\\\(([^\\\\\\\\\\\\\\\\)]*)\\\\\\\\\\\\\\\\)\"));Y=(Y[1].length>0?Y[1]:\"e\");T=T.replace(new RegExp(\"\\\\\\\\\\\\\\\\([^\\\\\\\\\\\\\\\\)]*\\\\\\\\\\\\\\\\)\",\"g\"),\"(\"+Y+\")\");if(R.indexOf(T)<0){var X=R.indexOf(\"{\");if(X>0){R=R.substring(X,R.length)}else{return W}R=R.replace(new RegExp(\"([^a-zA-Z0-9$_])this([^a-zA-Z0-9$_])\",\"g\"),\"$1xzq_this$2\");var Z=T+\";var rv = f( \"+Y+\",this);\";var S=\"{var a0 = \\'\"+Y+\"\\';var ofb = \\'\"+escape(R)+\"\\' ;var f = new Function( a0, \\'xzq_this\\', unescape(ofb));\"+Z+\"return rv;}\";return new Function(Y,S)}else{return W}}return V}window.xzq_eh=function(){if(E||I){this.onload=L(\"xzq_onload(e)\",K,this.onload,0);if(E&&typeof (this.onbeforeunload)!=O){this.onbeforeunload=L(\"xzq_dobeforeunload(e)\",B,this.onbeforeunload,0)}}};window.xzq_s=function(){setTimeout(\"xzq_sr()\",1)};var J=null;var M=null;var Q=navigator.appName;var H=navigator.appVersion;var G=navigator.userAgent;var A=parseInt(H);var D=Q.indexOf(\"Microsoft\");var E=D!=-1&&A>=4;var I=(Q.indexOf(\"Netscape\")!=-1||Q.indexOf(\"Opera\")!=-1)&&A>=4;var O=\"undefined\";var P=2000})();\\n</script><script language=javascript>\\nif(window.xzq_svr)xzq_svr(\\'https://csc.beap.bc.yahoo.com/\\');\\nif(window.xzq_p)xzq_p(\\'yi?bv=1.0.0&bs=(1348onsho(gid$_G_sZDExNi7ivflQkZBI3QJBMS4xNwAAAAD7ykVs,st$1428905483979826,si$244061,sp$152952227,pv$1,v$2.0))&t=JR_3-DR_3\\');\\nif(window.xzq_s)xzq_s();\\n</script><noscript><img width=1 height=1 alt=\"\" src=\"https://csc.beap.bc.yahoo.com/yi?bv=1.0.0&bs=(1348onsho(gid$_G_sZDExNi7ivflQkZBI3QJBMS4xNwAAAAD7ykVs,st$1428905483979826,si$244061,sp$152952227,pv$1,v$2.0))&t=JR_3-DR_3\"></noscript>\\n<!-- w155.finance.tp2.yahoo.com Mon Apr 13 14:11:23 CST 2015 -->\\n'"
      ]
     },
     "execution_count": 4,
     "metadata": {},
     "output_type": "execute_result"
    }
   ],
   "source": [
    "res.text"
   ]
  },
  {
   "cell_type": "markdown",
   "metadata": {},
   "source": [
    "##Check 編碼"
   ]
  },
  {
   "cell_type": "code",
   "execution_count": 5,
   "metadata": {
    "collapsed": false
   },
   "outputs": [
    {
     "data": {
      "text/plain": [
       "'Big5'"
      ]
     },
     "execution_count": 5,
     "metadata": {},
     "output_type": "execute_result"
    }
   ],
   "source": [
    "res.encoding"
   ]
  },
  {
   "cell_type": "markdown",
   "metadata": {},
   "source": [
    "###把我們的好幫手pandas叫進來弄表格"
   ]
  },
  {
   "cell_type": "code",
   "execution_count": 7,
   "metadata": {
    "collapsed": true
   },
   "outputs": [],
   "source": [
    "import pandas as pd"
   ]
  },
  {
   "cell_type": "code",
   "execution_count": 8,
   "metadata": {
    "collapsed": true
   },
   "outputs": [],
   "source": [
    "tables=pd.read_html(res.text)"
   ]
  },
  {
   "cell_type": "code",
   "execution_count": 9,
   "metadata": {
    "collapsed": false
   },
   "outputs": [
    {
     "data": {
      "text/plain": [
       "11"
      ]
     },
     "execution_count": 9,
     "metadata": {},
     "output_type": "execute_result"
    }
   ],
   "source": [
    "len(tables)"
   ]
  },
  {
   "cell_type": "code",
   "execution_count": 10,
   "metadata": {
    "collapsed": false
   },
   "outputs": [
    {
     "data": {
      "text/plain": [
       "[(1, 2),\n",
       " (6, 12),\n",
       " (1, 11),\n",
       " (1, 6),\n",
       " (2, 2),\n",
       " (1, 1),\n",
       " (2, 1),\n",
       " (18, 132),\n",
       " (1, 3),\n",
       " (16, 8),\n",
       " (1, 1)]"
      ]
     },
     "execution_count": 10,
     "metadata": {},
     "output_type": "execute_result"
    }
   ],
   "source": [
    "map(lambda x:x.shape,tables)"
   ]
  },
  {
   "cell_type": "markdown",
   "metadata": {},
   "source": [
    "我們要倒數第二個"
   ]
  },
  {
   "cell_type": "code",
   "execution_count": 11,
   "metadata": {
    "collapsed": false
   },
   "outputs": [
    {
     "data": {
      "text/html": [
       "<div style=\"max-height:1000px;max-width:1500px;overflow:auto;\">\n",
       "<table border=\"1\" class=\"dataframe\">\n",
       "  <thead>\n",
       "    <tr style=\"text-align: right;\">\n",
       "      <th></th>\n",
       "      <th>0</th>\n",
       "      <th>1</th>\n",
       "      <th>2</th>\n",
       "      <th>3</th>\n",
       "      <th>4</th>\n",
       "      <th>5</th>\n",
       "      <th>6</th>\n",
       "      <th>7</th>\n",
       "    </tr>\n",
       "  </thead>\n",
       "  <tbody>\n",
       "    <tr>\n",
       "      <th>0</th>\n",
       "      <td>買超券商</td>\n",
       "      <td>買進</td>\n",
       "      <td>賣出</td>\n",
       "      <td>買超</td>\n",
       "      <td>賣超券商</td>\n",
       "      <td>買進</td>\n",
       "      <td>賣出</td>\n",
       "      <td>賣超</td>\n",
       "    </tr>\n",
       "    <tr>\n",
       "      <th>1</th>\n",
       "      <td>摩根大通</td>\n",
       "      <td>3848</td>\n",
       "      <td>1450</td>\n",
       "      <td>+2398</td>\n",
       "      <td>花旗環球</td>\n",
       "      <td>0</td>\n",
       "      <td>2810</td>\n",
       "      <td>-2810</td>\n",
       "    </tr>\n",
       "    <tr>\n",
       "      <th>2</th>\n",
       "      <td>台灣東方匯</td>\n",
       "      <td>1064</td>\n",
       "      <td>0</td>\n",
       "      <td>+1064</td>\n",
       "      <td>香港上海匯</td>\n",
       "      <td>0</td>\n",
       "      <td>2079</td>\n",
       "      <td>-2079</td>\n",
       "    </tr>\n",
       "    <tr>\n",
       "      <th>3</th>\n",
       "      <td>元大寶來</td>\n",
       "      <td>764</td>\n",
       "      <td>227</td>\n",
       "      <td>+537</td>\n",
       "      <td>美商高盛</td>\n",
       "      <td>5</td>\n",
       "      <td>1406</td>\n",
       "      <td>-1401</td>\n",
       "    </tr>\n",
       "    <tr>\n",
       "      <th>4</th>\n",
       "      <td>永豐金證券</td>\n",
       "      <td>524</td>\n",
       "      <td>71</td>\n",
       "      <td>+453</td>\n",
       "      <td>台灣摩根士</td>\n",
       "      <td>65</td>\n",
       "      <td>526</td>\n",
       "      <td>-461</td>\n",
       "    </tr>\n",
       "    <tr>\n",
       "      <th>5</th>\n",
       "      <td>凱基證券</td>\n",
       "      <td>476</td>\n",
       "      <td>74</td>\n",
       "      <td>+402</td>\n",
       "      <td>港商德意志</td>\n",
       "      <td>280</td>\n",
       "      <td>619</td>\n",
       "      <td>-339</td>\n",
       "    </tr>\n",
       "    <tr>\n",
       "      <th>6</th>\n",
       "      <td>臺銀</td>\n",
       "      <td>322</td>\n",
       "      <td>3</td>\n",
       "      <td>+319</td>\n",
       "      <td>瑞士信貸</td>\n",
       "      <td>381</td>\n",
       "      <td>582</td>\n",
       "      <td>-201</td>\n",
       "    </tr>\n",
       "    <tr>\n",
       "      <th>7</th>\n",
       "      <td>群益金鼎</td>\n",
       "      <td>285</td>\n",
       "      <td>24</td>\n",
       "      <td>+261</td>\n",
       "      <td>聯邦商銀</td>\n",
       "      <td>0</td>\n",
       "      <td>26</td>\n",
       "      <td>-26</td>\n",
       "    </tr>\n",
       "    <tr>\n",
       "      <th>8</th>\n",
       "      <td>華南永昌</td>\n",
       "      <td>217</td>\n",
       "      <td>6</td>\n",
       "      <td>+211</td>\n",
       "      <td>金港證券</td>\n",
       "      <td>0</td>\n",
       "      <td>3</td>\n",
       "      <td>-3</td>\n",
       "    </tr>\n",
       "    <tr>\n",
       "      <th>9</th>\n",
       "      <td>元富</td>\n",
       "      <td>191</td>\n",
       "      <td>11</td>\n",
       "      <td>+180</td>\n",
       "      <td>寶盛</td>\n",
       "      <td>1</td>\n",
       "      <td>2</td>\n",
       "      <td>-1</td>\n",
       "    </tr>\n",
       "    <tr>\n",
       "      <th>10</th>\n",
       "      <td>新加坡商瑞</td>\n",
       "      <td>659</td>\n",
       "      <td>493</td>\n",
       "      <td>+166</td>\n",
       "      <td>光隆</td>\n",
       "      <td>0</td>\n",
       "      <td>0</td>\n",
       "      <td>0</td>\n",
       "    </tr>\n",
       "    <tr>\n",
       "      <th>11</th>\n",
       "      <td>日盛證券</td>\n",
       "      <td>130</td>\n",
       "      <td>13</td>\n",
       "      <td>+117</td>\n",
       "      <td>安泰</td>\n",
       "      <td>0</td>\n",
       "      <td>0</td>\n",
       "      <td>0</td>\n",
       "    </tr>\n",
       "    <tr>\n",
       "      <th>12</th>\n",
       "      <td>台灣工銀</td>\n",
       "      <td>118</td>\n",
       "      <td>2</td>\n",
       "      <td>+116</td>\n",
       "      <td>新百王</td>\n",
       "      <td>0</td>\n",
       "      <td>0</td>\n",
       "      <td>0</td>\n",
       "    </tr>\n",
       "    <tr>\n",
       "      <th>13</th>\n",
       "      <td>新光證券</td>\n",
       "      <td>126</td>\n",
       "      <td>10</td>\n",
       "      <td>+116</td>\n",
       "      <td>萬泰</td>\n",
       "      <td>0</td>\n",
       "      <td>0</td>\n",
       "      <td>0</td>\n",
       "    </tr>\n",
       "    <tr>\n",
       "      <th>14</th>\n",
       "      <td>國泰證券</td>\n",
       "      <td>78</td>\n",
       "      <td>0</td>\n",
       "      <td>+78</td>\n",
       "      <td>港商野村</td>\n",
       "      <td>0</td>\n",
       "      <td>0</td>\n",
       "      <td>0</td>\n",
       "    </tr>\n",
       "    <tr>\n",
       "      <th>15</th>\n",
       "      <td>港商麥格里</td>\n",
       "      <td>68</td>\n",
       "      <td>0</td>\n",
       "      <td>+68</td>\n",
       "      <td>全泰證券</td>\n",
       "      <td>0</td>\n",
       "      <td>0</td>\n",
       "      <td>0</td>\n",
       "    </tr>\n",
       "  </tbody>\n",
       "</table>\n",
       "</div>"
      ],
      "text/plain": [
       "        0     1     2      3      4    5     6      7\n",
       "0    買超券商    買進    賣出     買超   賣超券商   買進    賣出     賣超\n",
       "1    摩根大通  3848  1450  +2398   花旗環球    0  2810  -2810\n",
       "2   台灣東方匯  1064     0  +1064  香港上海匯    0  2079  -2079\n",
       "3    元大寶來   764   227   +537   美商高盛    5  1406  -1401\n",
       "4   永豐金證券   524    71   +453  台灣摩根士   65   526   -461\n",
       "5    凱基證券   476    74   +402  港商德意志  280   619   -339\n",
       "6      臺銀   322     3   +319   瑞士信貸  381   582   -201\n",
       "7    群益金鼎   285    24   +261   聯邦商銀    0    26    -26\n",
       "8    華南永昌   217     6   +211   金港證券    0     3     -3\n",
       "9      元富   191    11   +180     寶盛    1     2     -1\n",
       "10  新加坡商瑞   659   493   +166     光隆    0     0      0\n",
       "11   日盛證券   130    13   +117     安泰    0     0      0\n",
       "12   台灣工銀   118     2   +116    新百王    0     0      0\n",
       "13   新光證券   126    10   +116     萬泰    0     0      0\n",
       "14   國泰證券    78     0    +78   港商野村    0     0      0\n",
       "15  港商麥格里    68     0    +68   全泰證券    0     0      0"
      ]
     },
     "execution_count": 11,
     "metadata": {},
     "output_type": "execute_result"
    }
   ],
   "source": [
    "tables[-2]"
   ]
  },
  {
   "cell_type": "markdown",
   "metadata": {},
   "source": [
    "<h1 style=\"color:##FF4444; text-align: center\">再來是變漂亮的問題</h1>"
   ]
  },
  {
   "cell_type": "markdown",
   "metadata": {},
   "source": [
    "<h3>處理表格，當然就交給\"專業\"的熊貓 \"**pandas**\"</h3>"
   ]
  },
  {
   "cell_type": "code",
   "execution_count": 29,
   "metadata": {
    "collapsed": true
   },
   "outputs": [],
   "source": [
    "table=tables[-2]"
   ]
  },
  {
   "cell_type": "markdown",
   "metadata": {},
   "source": [
    ".iloc是取絕對位置(似座標), .loc用標記的名稱來取位置"
   ]
  },
  {
   "cell_type": "code",
   "execution_count": 30,
   "metadata": {
    "collapsed": true
   },
   "outputs": [],
   "source": [
    "t1=table.iloc[:,0:3][1:]\n",
    "t2=table.iloc[:,4:7][1:]"
   ]
  },
  {
   "cell_type": "code",
   "execution_count": 31,
   "metadata": {
    "collapsed": false
   },
   "outputs": [],
   "source": [
    "t2.columns=[0,1,2]"
   ]
  },
  {
   "cell_type": "code",
   "execution_count": 32,
   "metadata": {
    "collapsed": false
   },
   "outputs": [
    {
     "data": {
      "text/html": [
       "<div style=\"max-height:1000px;max-width:1500px;overflow:auto;\">\n",
       "<table border=\"1\" class=\"dataframe\">\n",
       "  <thead>\n",
       "    <tr style=\"text-align: right;\">\n",
       "      <th></th>\n",
       "      <th>0</th>\n",
       "      <th>1</th>\n",
       "      <th>2</th>\n",
       "    </tr>\n",
       "  </thead>\n",
       "  <tbody>\n",
       "    <tr>\n",
       "      <th>0</th>\n",
       "      <td>摩根大通</td>\n",
       "      <td>3848</td>\n",
       "      <td>1450</td>\n",
       "    </tr>\n",
       "    <tr>\n",
       "      <th>1</th>\n",
       "      <td>台灣東方匯</td>\n",
       "      <td>1064</td>\n",
       "      <td>0</td>\n",
       "    </tr>\n",
       "    <tr>\n",
       "      <th>2</th>\n",
       "      <td>元大寶來</td>\n",
       "      <td>764</td>\n",
       "      <td>227</td>\n",
       "    </tr>\n",
       "    <tr>\n",
       "      <th>3</th>\n",
       "      <td>永豐金證券</td>\n",
       "      <td>524</td>\n",
       "      <td>71</td>\n",
       "    </tr>\n",
       "    <tr>\n",
       "      <th>4</th>\n",
       "      <td>凱基證券</td>\n",
       "      <td>476</td>\n",
       "      <td>74</td>\n",
       "    </tr>\n",
       "    <tr>\n",
       "      <th>5</th>\n",
       "      <td>臺銀</td>\n",
       "      <td>322</td>\n",
       "      <td>3</td>\n",
       "    </tr>\n",
       "    <tr>\n",
       "      <th>6</th>\n",
       "      <td>群益金鼎</td>\n",
       "      <td>285</td>\n",
       "      <td>24</td>\n",
       "    </tr>\n",
       "    <tr>\n",
       "      <th>7</th>\n",
       "      <td>華南永昌</td>\n",
       "      <td>217</td>\n",
       "      <td>6</td>\n",
       "    </tr>\n",
       "    <tr>\n",
       "      <th>8</th>\n",
       "      <td>元富</td>\n",
       "      <td>191</td>\n",
       "      <td>11</td>\n",
       "    </tr>\n",
       "    <tr>\n",
       "      <th>9</th>\n",
       "      <td>新加坡商瑞</td>\n",
       "      <td>659</td>\n",
       "      <td>493</td>\n",
       "    </tr>\n",
       "    <tr>\n",
       "      <th>10</th>\n",
       "      <td>日盛證券</td>\n",
       "      <td>130</td>\n",
       "      <td>13</td>\n",
       "    </tr>\n",
       "    <tr>\n",
       "      <th>11</th>\n",
       "      <td>台灣工銀</td>\n",
       "      <td>118</td>\n",
       "      <td>2</td>\n",
       "    </tr>\n",
       "    <tr>\n",
       "      <th>12</th>\n",
       "      <td>新光證券</td>\n",
       "      <td>126</td>\n",
       "      <td>10</td>\n",
       "    </tr>\n",
       "    <tr>\n",
       "      <th>13</th>\n",
       "      <td>國泰證券</td>\n",
       "      <td>78</td>\n",
       "      <td>0</td>\n",
       "    </tr>\n",
       "    <tr>\n",
       "      <th>14</th>\n",
       "      <td>港商麥格里</td>\n",
       "      <td>68</td>\n",
       "      <td>0</td>\n",
       "    </tr>\n",
       "    <tr>\n",
       "      <th>15</th>\n",
       "      <td>花旗環球</td>\n",
       "      <td>0</td>\n",
       "      <td>2810</td>\n",
       "    </tr>\n",
       "    <tr>\n",
       "      <th>16</th>\n",
       "      <td>香港上海匯</td>\n",
       "      <td>0</td>\n",
       "      <td>2079</td>\n",
       "    </tr>\n",
       "    <tr>\n",
       "      <th>17</th>\n",
       "      <td>美商高盛</td>\n",
       "      <td>5</td>\n",
       "      <td>1406</td>\n",
       "    </tr>\n",
       "    <tr>\n",
       "      <th>18</th>\n",
       "      <td>台灣摩根士</td>\n",
       "      <td>65</td>\n",
       "      <td>526</td>\n",
       "    </tr>\n",
       "    <tr>\n",
       "      <th>19</th>\n",
       "      <td>港商德意志</td>\n",
       "      <td>280</td>\n",
       "      <td>619</td>\n",
       "    </tr>\n",
       "    <tr>\n",
       "      <th>20</th>\n",
       "      <td>瑞士信貸</td>\n",
       "      <td>381</td>\n",
       "      <td>582</td>\n",
       "    </tr>\n",
       "    <tr>\n",
       "      <th>21</th>\n",
       "      <td>聯邦商銀</td>\n",
       "      <td>0</td>\n",
       "      <td>26</td>\n",
       "    </tr>\n",
       "    <tr>\n",
       "      <th>22</th>\n",
       "      <td>金港證券</td>\n",
       "      <td>0</td>\n",
       "      <td>3</td>\n",
       "    </tr>\n",
       "    <tr>\n",
       "      <th>23</th>\n",
       "      <td>寶盛</td>\n",
       "      <td>1</td>\n",
       "      <td>2</td>\n",
       "    </tr>\n",
       "    <tr>\n",
       "      <th>24</th>\n",
       "      <td>光隆</td>\n",
       "      <td>0</td>\n",
       "      <td>0</td>\n",
       "    </tr>\n",
       "    <tr>\n",
       "      <th>25</th>\n",
       "      <td>安泰</td>\n",
       "      <td>0</td>\n",
       "      <td>0</td>\n",
       "    </tr>\n",
       "    <tr>\n",
       "      <th>26</th>\n",
       "      <td>新百王</td>\n",
       "      <td>0</td>\n",
       "      <td>0</td>\n",
       "    </tr>\n",
       "    <tr>\n",
       "      <th>27</th>\n",
       "      <td>萬泰</td>\n",
       "      <td>0</td>\n",
       "      <td>0</td>\n",
       "    </tr>\n",
       "    <tr>\n",
       "      <th>28</th>\n",
       "      <td>港商野村</td>\n",
       "      <td>0</td>\n",
       "      <td>0</td>\n",
       "    </tr>\n",
       "    <tr>\n",
       "      <th>29</th>\n",
       "      <td>全泰證券</td>\n",
       "      <td>0</td>\n",
       "      <td>0</td>\n",
       "    </tr>\n",
       "  </tbody>\n",
       "</table>\n",
       "</div>"
      ],
      "text/plain": [
       "        0     1     2\n",
       "0    摩根大通  3848  1450\n",
       "1   台灣東方匯  1064     0\n",
       "2    元大寶來   764   227\n",
       "3   永豐金證券   524    71\n",
       "4    凱基證券   476    74\n",
       "5      臺銀   322     3\n",
       "6    群益金鼎   285    24\n",
       "7    華南永昌   217     6\n",
       "8      元富   191    11\n",
       "9   新加坡商瑞   659   493\n",
       "10   日盛證券   130    13\n",
       "11   台灣工銀   118     2\n",
       "12   新光證券   126    10\n",
       "13   國泰證券    78     0\n",
       "14  港商麥格里    68     0\n",
       "15   花旗環球     0  2810\n",
       "16  香港上海匯     0  2079\n",
       "17   美商高盛     5  1406\n",
       "18  台灣摩根士    65   526\n",
       "19  港商德意志   280   619\n",
       "20   瑞士信貸   381   582\n",
       "21   聯邦商銀     0    26\n",
       "22   金港證券     0     3\n",
       "23     寶盛     1     2\n",
       "24     光隆     0     0\n",
       "25     安泰     0     0\n",
       "26    新百王     0     0\n",
       "27     萬泰     0     0\n",
       "28   港商野村     0     0\n",
       "29   全泰證券     0     0"
      ]
     },
     "execution_count": 32,
     "metadata": {},
     "output_type": "execute_result"
    }
   ],
   "source": [
    "table=pd.concat([t1,t2],axis=0,ignore_index=True)\n",
    "table"
   ]
  },
  {
   "cell_type": "code",
   "execution_count": 33,
   "metadata": {
    "collapsed": true
   },
   "outputs": [],
   "source": [
    "table.columns=['agent','buy','sell']"
   ]
  },
  {
   "cell_type": "code",
   "execution_count": 34,
   "metadata": {
    "collapsed": true
   },
   "outputs": [],
   "source": [
    "table['stock_id']=stock_id"
   ]
  },
  {
   "cell_type": "markdown",
   "metadata": {},
   "source": [
    "##把日期找出來\n",
    "直接到頁面對著“資料日期”開檢查元素\n",
    "\n",
    "---\n",
    "<b style=\"color:#FF9999\">檢查元素的小秘密</b>\n",
    "* 選取特定元素[參考css selector](http://www.w3schools.com/cssref/css_selectors.asp)\n",
    "  - .class\n",
    "  - \\#id\n",
    "* 進入console,用JavaScript語法查找\n",
    "  - 如document.querySelectorAll('td.tt')"
   ]
  },
  {
   "cell_type": "markdown",
   "metadata": {},
   "source": [
    "---\n",
    "找東西的好幫手\n",
    "* ##PyQuery (from pyquery import PyQuery)\n",
    "* ##Beautiful Soup (from bs4 import BeautifulSoup)"
   ]
  },
  {
   "cell_type": "code",
   "execution_count": 35,
   "metadata": {
    "collapsed": true
   },
   "outputs": [],
   "source": [
    "from pyquery import PyQuery"
   ]
  },
  {
   "cell_type": "code",
   "execution_count": 36,
   "metadata": {
    "collapsed": true
   },
   "outputs": [],
   "source": [
    "S=PyQuery(res.text)"
   ]
  },
  {
   "cell_type": "code",
   "execution_count": 42,
   "metadata": {
    "collapsed": false
   },
   "outputs": [
    {
     "name": "stdout",
     "output_type": "stream",
     "text": [
      "主力進出 資券變化 資料日期：104 /04 /10 單位：張數\n"
     ]
    }
   ],
   "source": [
    "print S('td.tt').text()"
   ]
  },
  {
   "cell_type": "code",
   "execution_count": 43,
   "metadata": {
    "collapsed": true
   },
   "outputs": [],
   "source": [
    "ss=S('td.tt')[1]"
   ]
  },
  {
   "cell_type": "code",
   "execution_count": 45,
   "metadata": {
    "collapsed": false
   },
   "outputs": [
    {
     "data": {
      "text/plain": [
       "u'\\u8cc7\\u6599\\u65e5\\u671f\\uff1a104 /04 /10 \\n            '"
      ]
     },
     "execution_count": 45,
     "metadata": {},
     "output_type": "execute_result"
    }
   ],
   "source": [
    "ss.text"
   ]
  },
  {
   "cell_type": "markdown",
   "metadata": {},
   "source": [
    "###處理字串的小把戲\n",
    "- replace 取代\n",
    "- rstrip 把最右邊的給刪了\n",
    "- split 用什麼分開"
   ]
  },
  {
   "cell_type": "code",
   "execution_count": 48,
   "metadata": {
    "collapsed": false
   },
   "outputs": [
    {
     "data": {
      "text/plain": [
       "u'104 /04 /10'"
      ]
     },
     "execution_count": 48,
     "metadata": {},
     "output_type": "execute_result"
    }
   ],
   "source": [
    "date_origin=(ss.text.replace(u'\\u8cc7\\u6599\\u65e5\\u671f\\uff1a','')).rstrip(u'\\n ')\n",
    "date_origin"
   ]
  },
  {
   "cell_type": "code",
   "execution_count": 55,
   "metadata": {
    "collapsed": false
   },
   "outputs": [
    {
     "data": {
      "text/plain": [
       "[104, 4, 10]"
      ]
     },
     "execution_count": 55,
     "metadata": {},
     "output_type": "execute_result"
    }
   ],
   "source": [
    "day=map(lambda x:int(x),date_origin.split(\"/\"))\n",
    "day"
   ]
  },
  {
   "cell_type": "markdown",
   "metadata": {},
   "source": [
    "##引入處理日期的套件"
   ]
  },
  {
   "cell_type": "code",
   "execution_count": 51,
   "metadata": {
    "collapsed": true
   },
   "outputs": [],
   "source": [
    "from datetime import date,datetime "
   ]
  },
  {
   "cell_type": "code",
   "execution_count": 56,
   "metadata": {
    "collapsed": false
   },
   "outputs": [],
   "source": [
    "[y,m,d]=day\n",
    "y+=1911"
   ]
  },
  {
   "cell_type": "code",
   "execution_count": 59,
   "metadata": {
    "collapsed": false
   },
   "outputs": [
    {
     "name": "stdout",
     "output_type": "stream",
     "text": [
      "2015-04-10\n"
     ]
    }
   ],
   "source": [
    "print date(y,m,d)"
   ]
  },
  {
   "cell_type": "code",
   "execution_count": 60,
   "metadata": {
    "collapsed": true
   },
   "outputs": [],
   "source": [
    "table['date']=date(y,m,d)"
   ]
  },
  {
   "cell_type": "code",
   "execution_count": 64,
   "metadata": {
    "collapsed": false
   },
   "outputs": [],
   "source": [
    "table=table[['date','stock_id','agent','buy','sell']]"
   ]
  },
  {
   "cell_type": "markdown",
   "metadata": {},
   "source": [
    "#進資料庫\n",
    "用sql lite來玩玩"
   ]
  },
  {
   "cell_type": "code",
   "execution_count": 66,
   "metadata": {
    "collapsed": true
   },
   "outputs": [],
   "source": [
    "import sqlite3"
   ]
  },
  {
   "cell_type": "code",
   "execution_count": 67,
   "metadata": {
    "collapsed": true
   },
   "outputs": [],
   "source": [
    "conn = sqlite3.connect('demo.db')"
   ]
  },
  {
   "cell_type": "markdown",
   "metadata": {},
   "source": [
    "<b style='color:#99FF99'>shift+tab</b>是查找要怎麼用指令的好幫手"
   ]
  },
  {
   "cell_type": "code",
   "execution_count": 69,
   "metadata": {
    "collapsed": true
   },
   "outputs": [],
   "source": [
    "table.to_sql(name = \"stock_major\", con=conn, if_exists=\"replace\")"
   ]
  },
  {
   "cell_type": "code",
   "execution_count": 71,
   "metadata": {
    "collapsed": false
   },
   "outputs": [
    {
     "ename": "TypeError",
     "evalue": "'module' object is not callable",
     "output_type": "error",
     "traceback": [
      "\u001b[0;31m---------------------------------------------------------------------------\u001b[0m",
      "\u001b[0;31mTypeError\u001b[0m                                 Traceback (most recent call last)",
      "\u001b[0;32m<ipython-input-71-d9fbb11df220>\u001b[0m in \u001b[0;36m<module>\u001b[0;34m()\u001b[0m\n\u001b[0;32m----> 1\u001b[0;31m \u001b[0msqlite3\u001b[0m\u001b[0;34m(\u001b[0m\u001b[0;34m'stock_major'\u001b[0m\u001b[0;34m)\u001b[0m\u001b[0;34m\u001b[0m\u001b[0m\n\u001b[0m",
      "\u001b[0;31mTypeError\u001b[0m: 'module' object is not callable"
     ]
    }
   ],
   "source": [
    "sqlite3('stock_major')"
   ]
  },
  {
   "cell_type": "code",
   "execution_count": null,
   "metadata": {
    "collapsed": true
   },
   "outputs": [],
   "source": []
  }
 ],
 "metadata": {
  "kernelspec": {
   "display_name": "Python 2",
   "language": "python",
   "name": "python2"
  },
  "language_info": {
   "codemirror_mode": {
    "name": "ipython",
    "version": 2
   },
   "file_extension": ".py",
   "mimetype": "text/x-python",
   "name": "python",
   "nbconvert_exporter": "python",
   "pygments_lexer": "ipython2",
   "version": "2.7.9"
  }
 },
 "nbformat": 4,
 "nbformat_minor": 0
}
