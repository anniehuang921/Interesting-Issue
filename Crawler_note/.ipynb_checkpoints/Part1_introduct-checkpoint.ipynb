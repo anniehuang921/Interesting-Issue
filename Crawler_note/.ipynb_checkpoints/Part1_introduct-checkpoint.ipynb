{
 "cells": [
  {
   "cell_type": "markdown",
   "metadata": {},
   "source": [
    "##引用套件--- <爬蟲用>"
   ]
  },
  {
   "cell_type": "code",
   "execution_count": 2,
   "metadata": {
    "collapsed": true
   },
   "outputs": [],
   "source": [
    "import requests"
   ]
  },
  {
   "cell_type": "markdown",
   "metadata": {},
   "source": [
    "##常見的內文類型\n",
    "* HTML(Page)\n",
    "* Data(JSON/XML)\n",
    "\n",
    "    \n",
    "    * JSON:一副dictionary樣\n",
    "    * XML:一堆尖尖<><>\n",
    "* File"
   ]
  },
  {
   "cell_type": "markdown",
   "metadata": {},
   "source": [
    "##用到的好幫手\n",
    "<h2 style=\"color:#7777FF\">Google Chrome Developer Tools</h2>\n",
    ">(在你爬的頁面)右鍵 -->檢查元素\n",
    "\n",
    "![Cromebar](image/Crome_bar.png)"
   ]
  },
  {
   "cell_type": "markdown",
   "metadata": {},
   "source": [
    "裡面的玄機：\n",
    "###Elements:網頁原始碼\n",
    "---\n",
    "###Network是我的的重鎮所在！\n",
    "內容所在地，入選的有XHR,Script,Documents,(WebSockets)\n",
    "\n",
    "點進去一個項目 --> Header -->General\n",
    "*  StatusCode:\n",
    "    - 200 是直接顯示\n",
    "    - 30x 是換到其他的direct\n",
    "* Cookie很重要:\n",
    "    放一些瀏覽器的變數\n",
    "* X-Requested-With :\n",
    "        XMLHttpRequest\n",
    "  出現X就是要多看一眼\n",
    "---"
   ]
  },
  {
   "cell_type": "markdown",
   "metadata": {},
   "source": [
    "<b style=\"color:#FF22FF\">小撇步</b>：\n",
    "我們把\n",
    "\n",
    "**Crome設定-->進階設定-->隱私權-->內容設定-->\"JavaScript\"**\n",
    "\n",
    "的選項給關掉，就可以知道是會直接出現(get)，還是要另外去找"
   ]
  },
  {
   "cell_type": "markdown",
   "metadata": {},
   "source": [
    "* 如果得到30x\n",
    "\n",
    "(vvv.ooo)幫忙換到其他網址(TTT.ooo)的,意即:接他vvv.ooo之後會出現另一個網址TTT.ooo，不過TTT.ooo的history會出現是轉址的\n",
    "![objectmove](image/objectmove.png)\n",
    "\n",
    "---"
   ]
  },
  {
   "cell_type": "markdown",
   "metadata": {},
   "source": [
    "##Console:可以打JS指令...javaScript\n",
    "歡迎常用\n",
    "**<b style=\"color:#33FF33\">document.getquery(\"CSS.Selector\")<b>** [愛用w3c之CSS.Selector篇]('http://www.w3schools.com/cssref/css_selectors.asp')"
   ]
  },
  {
   "cell_type": "markdown",
   "metadata": {},
   "source": [
    "### 可以參考 [c3h3 大神講義](http://nbviewer.ipython.org/github/c3h3/NCCU-PyData-Courses-2013Spring/blob/master/Lecture1/crawler/Lecture2_WebCrawler.ipynb) [還有](http://nbviewer.ipython.org/github/c3h3/NCCU-PyData-Courses-2013Spring/blob/master/Lecture1/crawler/Lecture2_WebCrawler_Examples.ipynb)"
   ]
  },
  {
   "cell_type": "code",
   "execution_count": null,
   "metadata": {
    "collapsed": true
   },
   "outputs": [],
   "source": []
  }
 ],
 "metadata": {
  "kernelspec": {
   "display_name": "Python 2",
   "language": "python",
   "name": "python2"
  },
  "language_info": {
   "codemirror_mode": {
    "name": "ipython",
    "version": 2
   },
   "file_extension": ".py",
   "mimetype": "text/x-python",
   "name": "python",
   "nbconvert_exporter": "python",
   "pygments_lexer": "ipython2",
   "version": "2.7.9"
  }
 },
 "nbformat": 4,
 "nbformat_minor": 0
}
