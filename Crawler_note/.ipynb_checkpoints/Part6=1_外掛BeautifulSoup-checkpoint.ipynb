{
 "cells": [
  {
   "cell_type": "markdown",
   "metadata": {},
   "source": [
    "先讀個隨便什麼進來"
   ]
  },
  {
   "cell_type": "code",
   "execution_count": 1,
   "metadata": {
    "collapsed": true
   },
   "outputs": [],
   "source": [
    "import requests"
   ]
  },
  {
   "cell_type": "code",
   "execution_count": 2,
   "metadata": {
    "collapsed": true
   },
   "outputs": [],
   "source": [
    "cookie={\"over18\":\"1\"}"
   ]
  },
  {
   "cell_type": "code",
   "execution_count": 3,
   "metadata": {
    "collapsed": false
   },
   "outputs": [],
   "source": [
    "requests.cookies?"
   ]
  },
  {
   "cell_type": "code",
   "execution_count": 4,
   "metadata": {
    "collapsed": true
   },
   "outputs": [],
   "source": [
    "res=requests.get(\"https://www.ptt.cc/bbs/Gossiping/index.html\",cookies=cookie)"
   ]
  },
  {
   "cell_type": "code",
   "execution_count": 5,
   "metadata": {
    "collapsed": false
   },
   "outputs": [
    {
     "data": {
      "text/plain": [
       "'utf-8'"
      ]
     },
     "execution_count": 5,
     "metadata": {},
     "output_type": "execute_result"
    }
   ],
   "source": [
    "res.encoding"
   ]
  },
  {
   "cell_type": "code",
   "execution_count": 6,
   "metadata": {
    "collapsed": false
   },
   "outputs": [
    {
     "name": "stdout",
     "output_type": "stream",
     "text": [
      "<!DOCTYPE html>\n",
      "<html>\n",
      "\t<head>\n",
      "\t\t<meta charset=\"utf-8\" />\n",
      "\t\t\n",
      "\n",
      "<meta name=\"viewport\" content=\"width=device-width\">\n",
      "\n",
      "<title>看板 Gossiping 文章列表 - 批踢踢實業坊</title>\n",
      "\n",
      "<link rel=\"stylesheet\" type=\"text/css\" href=\"//images.ptt.cc/v2.13/bbs-common.css\" />\n",
      "<link rel=\"stylesheet\" type=\"text/css\" href=\"//images.ptt.cc/v2.13/bbs.css\" media=\"screen\" />\n",
      "<link rel=\"stylesheet\" type=\"text/css\" href=\"//images.ptt.cc/v2.13/pushstream.css\" media=\"screen\" />\n",
      "<link rel=\"stylesheet\" type=\"text/css\" href=\"//images.ptt.cc/v2.13/bbs-print.css\" media=\"print\" />\n",
      "\n",
      "\n",
      "<script src=\"//ajax.googleapis.com/ajax/libs/jquery/2.1.1/jquery.min.js\"></script>\n",
      "<script src=\"//images.ptt.cc/v2.13/bbs.js\"></script>\n",
      "\n",
      "\n",
      "\t\t\n",
      "\n",
      "<script type=\"text/javascript\">\n",
      "\n",
      "  var _gaq = _gaq || [];\n",
      "  _gaq.push(['_setAccount', 'UA-32365737-1']);\n",
      "  _gaq.push(['_setDomainName', 'ptt.cc']);\n",
      "  _gaq.push(['_trackPageview']);\n",
      "\n",
      "  (function() {\n",
      "    var ga = document.createElement('script'); ga.type = 'text/javascript'; ga.async = true;\n",
      "    ga.src = ('https:' == document.location.protocol ? 'https://ssl' : 'http://www') + '.google-analytics.com/ga.js';\n",
      "    var s = document.getElementsByTagName('script')[0]; s.parentNode.insertBefore(ga, s);\n",
      "  })();\n",
      "\n",
      "</script>\n",
      "\n",
      "\n",
      "\t</head>\n",
      "    <body>\n",
      "\t\t\n",
      "<div id=\"topbar-container\">\n",
      "\t<div id=\"topbar\" class=\"bbs-content\">\n",
      "\t\t<a id=\"logo\" href=\"/\">批踢踢實業坊</a>\n",
      "\t\t<span>&rsaquo;</span>\n",
      "\t\t<a class=\"board\" href=\"/bbs/Gossiping/index.html\"><span class=\"board-label\">看板 </span>Gossiping</a>\n",
      "\t\t<a class=\"right small\" href=\"/about.html\">關於我們</a>\n",
      "\t\t<a class=\"right small\" href=\"/contact.html\">聯絡資訊</a>\n",
      "\t</div>\n",
      "</div>\n",
      "\n",
      "<div id=\"main-container\">\n",
      "\t<div id=\"action-bar-container\">\n",
      "\t\t<div class=\"action-bar\">\n",
      "\t\t\t<div class=\"btn-group\">\n",
      "\t\t\t\t<a class=\"btn selected\" href=\"/bbs/Gossiping/index.html\">看板</a>\n",
      "\t\t\t\t<a class=\"btn\" href=\"/man/Gossiping/index.html\">精華區</a>\n",
      "\t\t\t</div>\n",
      "\t\t\t<div class=\"btn-group pull-right\">\n",
      "\t\t\t\t<a class=\"btn wide\" href=\"/bbs/Gossiping/index1.html\">最舊</a>\n",
      "\t\t\t\t<a class=\"btn wide\" href=\"/bbs/Gossiping/index7657.html\">&lsaquo; 上頁</a>\n",
      "\t\t\t\t<a class=\"btn wide disabled\">下頁 &rsaquo;</a>\n",
      "\t\t\t\t<a class=\"btn wide\" href=\"/bbs/Gossiping/index.html\">最新</a>\n",
      "\t\t\t</div>\n",
      "\t\t</div>\n",
      "\t</div>\n",
      "\n",
      "\t<div class=\"r-list-container bbs-screen\">\n",
      "\t\t\n",
      "\t\t\n",
      "            \n",
      "        \n",
      "        \n",
      "\t\t<div class=\"r-ent\">\n",
      "\t\t\t<div class=\"nrec\"><span class=\"hl f2\">5</span></div>\n",
      "\t\t\t<div class=\"mark\"></div>\n",
      "\t\t\t<div class=\"title\">\n",
      "\t\t\t\n",
      "\t\t\t\t<a href=\"/bbs/Gossiping/M.1432035819.A.8A6.html\">[問卦] 如何對付小型無人機?</a>\n",
      "\t\t\t\n",
      "\t\t\t</div>\n",
      "\t\t\t<div class=\"meta\">\n",
      "\t\t\t\t<div class=\"date\"> 5/19</div>\n",
      "\t\t\t\t<div class=\"author\">sean12345678</div>\n",
      "\t\t\t</div>\n",
      "\t\t</div>\n",
      "\n",
      "\t\t\n",
      "            \n",
      "        \n",
      "        \n",
      "\t\t<div class=\"r-ent\">\n",
      "\t\t\t<div class=\"nrec\"><span class=\"hl f2\">1</span></div>\n",
      "\t\t\t<div class=\"mark\"></div>\n",
      "\t\t\t<div class=\"title\">\n",
      "\t\t\t\n",
      "\t\t\t\t<a href=\"/bbs/Gossiping/M.1432035834.A.73F.html\">Re: [問卦] 高中如何轉學</a>\n",
      "\t\t\t\n",
      "\t\t\t</div>\n",
      "\t\t\t<div class=\"meta\">\n",
      "\t\t\t\t<div class=\"date\"> 5/19</div>\n",
      "\t\t\t\t<div class=\"author\">songgood</div>\n",
      "\t\t\t</div>\n",
      "\t\t</div>\n",
      "\n",
      "\t\t\n",
      "            \n",
      "        \n",
      "        \n",
      "\t\t<div class=\"r-ent\">\n",
      "\t\t\t<div class=\"nrec\"><span class=\"hl f2\">2</span></div>\n",
      "\t\t\t<div class=\"mark\"></div>\n",
      "\t\t\t<div class=\"title\">\n",
      "\t\t\t\n",
      "\t\t\t\t<a href=\"/bbs/Gossiping/M.1432035857.A.EFC.html\">Re: [新聞] 找谷阿莫5分鐘看經典小說？楊照：別摧殘</a>\n",
      "\t\t\t\n",
      "\t\t\t</div>\n",
      "\t\t\t<div class=\"meta\">\n",
      "\t\t\t\t<div class=\"date\"> 5/19</div>\n",
      "\t\t\t\t<div class=\"author\">sechan</div>\n",
      "\t\t\t</div>\n",
      "\t\t</div>\n",
      "\n",
      "\t\t\n",
      "            \n",
      "        \n",
      "        \n",
      "\t\t<div class=\"r-ent\">\n",
      "\t\t\t<div class=\"nrec\"><span class=\"hl f2\">6</span></div>\n",
      "\t\t\t<div class=\"mark\"></div>\n",
      "\t\t\t<div class=\"title\">\n",
      "\t\t\t\n",
      "\t\t\t\t<a href=\"/bbs/Gossiping/M.1432035859.A.81B.html\">[問卦] 有沒有火狐掛掉的八卦?</a>\n",
      "\t\t\t\n",
      "\t\t\t</div>\n",
      "\t\t\t<div class=\"meta\">\n",
      "\t\t\t\t<div class=\"date\"> 5/19</div>\n",
      "\t\t\t\t<div class=\"author\">karlglover</div>\n",
      "\t\t\t</div>\n",
      "\t\t</div>\n",
      "\n",
      "\t\t\n",
      "            \n",
      "        \n",
      "        \n",
      "\t\t<div class=\"r-ent\">\n",
      "\t\t\t<div class=\"nrec\"><span class=\"hl f2\">2</span></div>\n",
      "\t\t\t<div class=\"mark\"></div>\n",
      "\t\t\t<div class=\"title\">\n",
      "\t\t\t\n",
      "\t\t\t\t<a href=\"/bbs/Gossiping/M.1432035938.A.797.html\">Re: [問卦] 正妹看AKB48 vs 肥宅看SJ</a>\n",
      "\t\t\t\n",
      "\t\t\t</div>\n",
      "\t\t\t<div class=\"meta\">\n",
      "\t\t\t\t<div class=\"date\"> 5/19</div>\n",
      "\t\t\t\t<div class=\"author\">bjzx5</div>\n",
      "\t\t\t</div>\n",
      "\t\t</div>\n",
      "\n",
      "\t\t\n",
      "            \n",
      "        \n",
      "        \n",
      "\t\t<div class=\"r-ent\">\n",
      "\t\t\t<div class=\"nrec\"><span class=\"hl f2\">1</span></div>\n",
      "\t\t\t<div class=\"mark\"></div>\n",
      "\t\t\t<div class=\"title\">\n",
      "\t\t\t\n",
      "\t\t\t\t<a href=\"/bbs/Gossiping/M.1432035959.A.84E.html\">Re: [新聞] 湯英伸的冤魂 仍在台灣上空盤旋</a>\n",
      "\t\t\t\n",
      "\t\t\t</div>\n",
      "\t\t\t<div class=\"meta\">\n",
      "\t\t\t\t<div class=\"date\"> 5/19</div>\n",
      "\t\t\t\t<div class=\"author\">jeanvanjohn</div>\n",
      "\t\t\t</div>\n",
      "\t\t</div>\n",
      "\n",
      "\t\t\n",
      "            \n",
      "        \n",
      "        \n",
      "\t\t<div class=\"r-ent\">\n",
      "\t\t\t<div class=\"nrec\"><span class=\"hl f2\">5</span></div>\n",
      "\t\t\t<div class=\"mark\"></div>\n",
      "\t\t\t<div class=\"title\">\n",
      "\t\t\t\n",
      "\t\t\t\t<a href=\"/bbs/Gossiping/M.1432035963.A.4EB.html\">[問卦] 爸爸再洗懶趴</a>\n",
      "\t\t\t\n",
      "\t\t\t</div>\n",
      "\t\t\t<div class=\"meta\">\n",
      "\t\t\t\t<div class=\"date\"> 5/19</div>\n",
      "\t\t\t\t<div class=\"author\">vvvccc1d</div>\n",
      "\t\t\t</div>\n",
      "\t\t</div>\n",
      "\n",
      "\t\t\n",
      "            \n",
      "        \n",
      "        \n",
      "\t\t<div class=\"r-ent\">\n",
      "\t\t\t<div class=\"nrec\"><span class=\"hl f2\">2</span></div>\n",
      "\t\t\t<div class=\"mark\"></div>\n",
      "\t\t\t<div class=\"title\">\n",
      "\t\t\t\n",
      "\t\t\t\t<a href=\"/bbs/Gossiping/M.1432035967.A.507.html\">Re: [新聞] 印傭狠殺前雇主　兇嫌：「打我還罵我爛貨</a>\n",
      "\t\t\t\n",
      "\t\t\t</div>\n",
      "\t\t\t<div class=\"meta\">\n",
      "\t\t\t\t<div class=\"date\"> 5/19</div>\n",
      "\t\t\t\t<div class=\"author\">tachikoma</div>\n",
      "\t\t\t</div>\n",
      "\t\t</div>\n",
      "\n",
      "\t\t\n",
      "            \n",
      "        \n",
      "        \n",
      "\t\t<div class=\"r-ent\">\n",
      "\t\t\t<div class=\"nrec\"></div>\n",
      "\t\t\t<div class=\"mark\"></div>\n",
      "\t\t\t<div class=\"title\">\n",
      "\t\t\t\n",
      "\t\t\t\t<a href=\"/bbs/Gossiping/M.1432035998.A.602.html\">[新聞] 男子抗議司法總統府前自焚送醫　府籲：</a>\n",
      "\t\t\t\n",
      "\t\t\t</div>\n",
      "\t\t\t<div class=\"meta\">\n",
      "\t\t\t\t<div class=\"date\"> 5/19</div>\n",
      "\t\t\t\t<div class=\"author\">raichu312</div>\n",
      "\t\t\t</div>\n",
      "\t\t</div>\n",
      "\n",
      "\t\t\n",
      "            \n",
      "        \n",
      "        \n",
      "\t\t<div class=\"r-ent\">\n",
      "\t\t\t<div class=\"nrec\"></div>\n",
      "\t\t\t<div class=\"mark\"></div>\n",
      "\t\t\t<div class=\"title\">\n",
      "\t\t\t\n",
      "\t\t\t\t<a href=\"/bbs/Gossiping/M.1432036035.A.351.html\">Re: [新聞] 找谷阿莫5分鐘看經典小說？楊照：別摧殘</a>\n",
      "\t\t\t\n",
      "\t\t\t</div>\n",
      "\t\t\t<div class=\"meta\">\n",
      "\t\t\t\t<div class=\"date\"> 5/19</div>\n",
      "\t\t\t\t<div class=\"author\">MikuKing</div>\n",
      "\t\t\t</div>\n",
      "\t\t</div>\n",
      "\n",
      "\t\t\n",
      "            \n",
      "        \n",
      "        \n",
      "\t\t<div class=\"r-ent\">\n",
      "\t\t\t<div class=\"nrec\"></div>\n",
      "\t\t\t<div class=\"mark\"></div>\n",
      "\t\t\t<div class=\"title\">\n",
      "\t\t\t\n",
      "\t\t\t\t<a href=\"/bbs/Gossiping/M.1432036039.A.E8B.html\">[問卦] 大家的發文口頭蟬是什麼呢？</a>\n",
      "\t\t\t\n",
      "\t\t\t</div>\n",
      "\t\t\t<div class=\"meta\">\n",
      "\t\t\t\t<div class=\"date\"> 5/19</div>\n",
      "\t\t\t\t<div class=\"author\">subway0983</div>\n",
      "\t\t\t</div>\n",
      "\t\t</div>\n",
      "\n",
      "\t\t\n",
      "            \n",
      "        \n",
      "        \n",
      "\t\t<div class=\"r-ent\">\n",
      "\t\t\t<div class=\"nrec\"></div>\n",
      "\t\t\t<div class=\"mark\"></div>\n",
      "\t\t\t<div class=\"title\">\n",
      "\t\t\t\n",
      "\t\t\t\t<a href=\"/bbs/Gossiping/M.1432036078.A.4A3.html\">Re: [問卦] 高樓層的&#34;辦公&#34;跟&#34;店面&#34; 到底有什麼差?</a>\n",
      "\t\t\t\n",
      "\t\t\t</div>\n",
      "\t\t\t<div class=\"meta\">\n",
      "\t\t\t\t<div class=\"date\"> 5/19</div>\n",
      "\t\t\t\t<div class=\"author\">livingocean</div>\n",
      "\t\t\t</div>\n",
      "\t\t</div>\n",
      "\n",
      "\t\t\n",
      "        \n",
      "        <div class=\"r-list-sep\"></div>\n",
      "            \n",
      "                \n",
      "        \n",
      "        \n",
      "\t\t<div class=\"r-ent\">\n",
      "\t\t\t<div class=\"nrec\"></div>\n",
      "\t\t\t<div class=\"mark\">!</div>\n",
      "\t\t\t<div class=\"title\">\n",
      "\t\t\t\n",
      "\t\t\t\t<a href=\"/bbs/Gossiping/M.1422793398.A.ADA.html\">[公告] 八卦版版規 (2015.02.01)</a>\n",
      "\t\t\t\n",
      "\t\t\t</div>\n",
      "\t\t\t<div class=\"meta\">\n",
      "\t\t\t\t<div class=\"date\"> 2/01</div>\n",
      "\t\t\t\t<div class=\"author\">yoco315</div>\n",
      "\t\t\t</div>\n",
      "\t\t</div>\n",
      "\n",
      "            \n",
      "                \n",
      "        \n",
      "        \n",
      "\t\t<div class=\"r-ent\">\n",
      "\t\t\t<div class=\"nrec\"><span class=\"hl f3\">37</span></div>\n",
      "\t\t\t<div class=\"mark\"></div>\n",
      "\t\t\t<div class=\"title\">\n",
      "\t\t\t\n",
      "\t\t\t\t<a href=\"/bbs/Gossiping/M.1431608812.A.EC6.html\">[徵求]5/13晚上7點左右 高雄翠華路上 行車紀錄器</a>\n",
      "\t\t\t\n",
      "\t\t\t</div>\n",
      "\t\t\t<div class=\"meta\">\n",
      "\t\t\t\t<div class=\"date\"> 5/14</div>\n",
      "\t\t\t\t<div class=\"author\">xaxnxdxy</div>\n",
      "\t\t\t</div>\n",
      "\t\t</div>\n",
      "\n",
      "            \n",
      "                \n",
      "        \n",
      "        \n",
      "\t\t<div class=\"r-ent\">\n",
      "\t\t\t<div class=\"nrec\"><span class=\"hl f1\">爆</span></div>\n",
      "\t\t\t<div class=\"mark\"></div>\n",
      "\t\t\t<div class=\"title\">\n",
      "\t\t\t\n",
      "\t\t\t\t<a href=\"/bbs/Gossiping/M.1431612192.A.B47.html\">[爆卦] 五十天誤一生的支付命令</a>\n",
      "\t\t\t\n",
      "\t\t\t</div>\n",
      "\t\t\t<div class=\"meta\">\n",
      "\t\t\t\t<div class=\"date\"> 5/14</div>\n",
      "\t\t\t\t<div class=\"author\">billy3321</div>\n",
      "\t\t\t</div>\n",
      "\t\t</div>\n",
      "\n",
      "            \n",
      "                \n",
      "        \n",
      "        \n",
      "\t\t<div class=\"r-ent\">\n",
      "\t\t\t<div class=\"nrec\"><span class=\"hl f3\">26</span></div>\n",
      "\t\t\t<div class=\"mark\"></div>\n",
      "\t\t\t<div class=\"title\">\n",
      "\t\t\t\n",
      "\t\t\t\t<a href=\"/bbs/Gossiping/M.1431694385.A.A73.html\">[徵求] 5/8晚上高雄翠華路死亡車禍，求行車紀錄</a>\n",
      "\t\t\t\n",
      "\t\t\t</div>\n",
      "\t\t\t<div class=\"meta\">\n",
      "\t\t\t\t<div class=\"date\"> 5/15</div>\n",
      "\t\t\t\t<div class=\"author\">DaYue</div>\n",
      "\t\t\t</div>\n",
      "\t\t</div>\n",
      "\n",
      "            \n",
      "                \n",
      "        \n",
      "        \n",
      "\t\t<div class=\"r-ent\">\n",
      "\t\t\t<div class=\"nrec\"><span class=\"hl f0\">X9</span></div>\n",
      "\t\t\t<div class=\"mark\">M</div>\n",
      "\t\t\t<div class=\"title\">\n",
      "\t\t\t\n",
      "\t\t\t\t<a href=\"/bbs/Gossiping/M.1430490549.A.168.html\">[公告] 五月份閒聊文</a>\n",
      "\t\t\t\n",
      "\t\t\t</div>\n",
      "\t\t\t<div class=\"meta\">\n",
      "\t\t\t\t<div class=\"date\"> 5/01</div>\n",
      "\t\t\t\t<div class=\"author\">APPLEin5566</div>\n",
      "\t\t\t</div>\n",
      "\t\t</div>\n",
      "\n",
      "            \n",
      "        \n",
      "\t</div>\n",
      "\n",
      "    \n",
      "<div class=\"bbs-screen bbs-footer-message\">本網站已依台灣網站內容分級規定處理。此區域為限制級，未滿十八歲者不得瀏覽。</div>\n",
      "\n",
      "</div>\n",
      "\n",
      "    </body>\n",
      "</html>\n",
      "\n"
     ]
    }
   ],
   "source": [
    "print res.text"
   ]
  },
  {
   "cell_type": "markdown",
   "metadata": {},
   "source": [
    "##好的，是漂亮湯"
   ]
  },
  {
   "cell_type": "code",
   "execution_count": 7,
   "metadata": {
    "collapsed": true
   },
   "outputs": [],
   "source": [
    "from bs4 import BeautifulSoup"
   ]
  },
  {
   "cell_type": "code",
   "execution_count": 8,
   "metadata": {
    "collapsed": true
   },
   "outputs": [],
   "source": [
    "s=BeautifulSoup(res.text)"
   ]
  },
  {
   "cell_type": "code",
   "execution_count": 9,
   "metadata": {
    "collapsed": false
   },
   "outputs": [],
   "source": [
    "Article=s.findAll(\"a\")\n",
    "Art=filter(lambda x: \"/bbs/Gossiping/M\" in x.attrs.get(\"href\",\"\"),Article)\n",
    "#推文數則放在span  class=\"h1 "
   ]
  },
  {
   "cell_type": "markdown",
   "metadata": {},
   "source": [
    "##<b style=\"color:#7777FF\">存檔會自動幫你close的方法</b>"
   ]
  },
  {
   "cell_type": "code",
   "execution_count": null,
   "metadata": {
    "collapsed": true
   },
   "outputs": [],
   "source": [
    "Art"
   ]
  },
  {
   "cell_type": "code",
   "execution_count": 30,
   "metadata": {
    "collapsed": false
   },
   "outputs": [
    {
     "ename": "UnicodeEncodeError",
     "evalue": "'ascii' codec can't encode characters in position 1-2: ordinal not in range(128)",
     "output_type": "error",
     "traceback": [
      "\u001b[0;31m---------------------------------------------------------------------------\u001b[0m",
      "\u001b[0;31mUnicodeEncodeError\u001b[0m                        Traceback (most recent call last)",
      "\u001b[0;32m<ipython-input-30-13073a7c43a0>\u001b[0m in \u001b[0;36m<module>\u001b[0;34m()\u001b[0m\n\u001b[1;32m      1\u001b[0m \u001b[0;32mwith\u001b[0m \u001b[0mopen\u001b[0m\u001b[0;34m(\u001b[0m\u001b[0;34m\"text.csv\"\u001b[0m\u001b[0;34m,\u001b[0m \u001b[0;34m\"w\"\u001b[0m\u001b[0;34m)\u001b[0m \u001b[0;32mas\u001b[0m \u001b[0mf\u001b[0m\u001b[0;34m:\u001b[0m\u001b[0;34m\u001b[0m\u001b[0m\n\u001b[1;32m      2\u001b[0m     \u001b[0;32mfor\u001b[0m \u001b[0mi\u001b[0m \u001b[0;32min\u001b[0m \u001b[0mrange\u001b[0m\u001b[0;34m(\u001b[0m\u001b[0mlen\u001b[0m\u001b[0;34m(\u001b[0m\u001b[0mArt\u001b[0m\u001b[0;34m)\u001b[0m\u001b[0;34m)\u001b[0m\u001b[0;34m:\u001b[0m\u001b[0;34m\u001b[0m\u001b[0m\n\u001b[0;32m----> 3\u001b[0;31m         \u001b[0mf\u001b[0m\u001b[0;34m.\u001b[0m\u001b[0mwrite\u001b[0m\u001b[0;34m(\u001b[0m\u001b[0mArt\u001b[0m\u001b[0;34m[\u001b[0m\u001b[0mi\u001b[0m\u001b[0;34m]\u001b[0m\u001b[0;34m.\u001b[0m\u001b[0mtext\u001b[0m\u001b[0;34m)\u001b[0m\u001b[0;34m\u001b[0m\u001b[0m\n\u001b[0m",
      "\u001b[0;31mUnicodeEncodeError\u001b[0m: 'ascii' codec can't encode characters in position 1-2: ordinal not in range(128)"
     ]
    }
   ],
   "source": [
    "with open(\"text.csv\", \"w\") as f:\n",
    "    for i in range(len(Art)):\n",
    "        f.write(Art[i].text)"
   ]
  },
  {
   "cell_type": "markdown",
   "metadata": {},
   "source": [
    "##給一個list存進去"
   ]
  },
  {
   "cell_type": "code",
   "execution_count": 36,
   "metadata": {
    "collapsed": false
   },
   "outputs": [
    {
     "name": "stdout",
     "output_type": "stream",
     "text": [
      "[u'[\\u554f\\u5366] \\u6709\\u7121\\u53e3\\u8c9d\\u7684\\u516b\\u5366?', u'Re: [\\u554f\\u5366] \\u5929\\u6a4b\\u4e0b\\u7b97\\u4e0d\\u7b97\\u662f\\u5bb6?', u'[\\u554f\\u5366] \\u6709\\u6c92\\u6709\\u96e2\\u8077\\u7406\\u7531\\u7684\\u516b\\u5366?', u'[\\u554f\\u5366] \\u72d7\\u662f\\u600e\\u9ebc\\u8a8d\\u5f97\\u5f9e\\u6c92\\u770b\\u904e\\u7684\\u4e3b\\u4eba\\u5c0f\\u5b69', u'[\\u554f\\u5366] \\u5c0f\\u9f8d\\u5973\\u7684\\u521d\\u591c\\u6709\\u9ad8\\u6f6e\\u55ce', u'[\\u554f\\u5366] \\u5982\\u4f55\\u7a31\\u547c\\u9577\\u7684\\u5f88\\u50cf\\u9999\\u8549\\u7684\\u4eba?', u'[\\u554f\\u5366] \\u6709\\u6c92\\u6709\\u5361\\u8fb2\\u4e4b\\u795e\\u7de8\\u7684\\u66f2\\u7684\\u516b\\u5366', u'[\\u554f\\u5366] \\u5982\\u679c\\u6b77\\u53f2\\u91cd\\u65b0\\u4f86\\u4e00\\u6b21 \\u79d1\\u6280\\u767c\\u5c55\\u9084\\u662f\\u4e00\\u6a23\\u55ce?', u'[\\u65b0\\u805e] Lexus\\u96e8\\u5237\\u593e3\\u5343\\u5143\\u3000\\u8eca\\u4e3b\\u9ad8\\u820810\\u79d2\\u5f8c\\u66b4\\u6012', u'Re: [\\u65b0\\u805e] \\u82b1\\u5927\\u9322\\u8003\\u82f1\\u6aa2 \\u5927\\u5b78\\u751f\\u558a\\u5ee2\\u7562\\u696d\\u9580\\u6abb', u'[\\u554f\\u5366] \\u708e\\u4e9e\\u7db8\\u7684\\u65b0\\u805e \\u4f60\\u6211\\u90fd\\u63a8\\u4e86\\u4e00\\u628a', u'Re: [\\u65b0\\u805e] \\u7981\\u516c\\u6709\\u5730\\u7a2e\\u83dc \\u67ef\\u6587\\u54f2\\uff1a\\u5f88\\u5947\\u602a', u'[\\u554f\\u5366] \\u53bb\\u5e74\\u6b66\\u5668\\u8cbf\\u6613\\u7684\\u516b\\u5366?', u'Re: [\\u65b0\\u805e] \\u570b\\u9053\\u7ffb\\u8986\\u885d\\u5c0d\\u5411\\u56b4\\u91cd\\u8eca\\u798d\\u3000\\u8ffd\\u649e\\u5f71\\u7247\\u66dd\\u5149', u'[\\u554f\\u5366] \\u6709\\u6c92\\u6709\\u5ba2\\u670d\\u96fb\\u8a71\\u90fd\\u80fd\\u639b\\u9ede\\u7684\\u516b\\u5366\\uff1f', u'[\\u65b0\\u805e] \\u67ef\\uff1a\\u5927\\u5de8\\u86cb\\u8cbf\\u7136\\u505c\\u5de5\\u3000\\u5357\\u6e2f\\u7dda\\u53ef\\u80fd\\u5d29\\u584c', u'Re: [\\u554f\\u5366] \\u70ba\\u4f55\\u53f0\\u7063\\u9678\\u8ecd\\u7684\\u6b66\\u5668\\u90fd\\u662f\\u7528\\u65bc\\u53cd\\u821f\\u6ce2??', u'[\\u516c\\u544a] \\u516b\\u5366\\u7248\\u7248\\u898f (2015.02.01)', u'[\\u5fb5\\u6c42\\uff3d4/10\\u570b\\u90531\\u865f259.5\\u516c\\u91cc\\u865521:40\\u5de6\\u53f3\\u7684\\u884c\\u8eca\\u7d00\\u9304', u'[\\u7206\\u5366] \\u3010\\u6ce2\\u591a\\u91ce\\u7d50\\u8863\\u3011\\u8207 Ptt \\u9109\\u6c11\\u6709\\u7d04', u'[\\u516c\\u544a] \\u56db\\u6708\\u4efd\\u7f6e\\u5e95\\u9592\\u804a\\u6587']\n"
     ]
    }
   ],
   "source": [
    "c=[]\n",
    "for i in range(len(Art)):\n",
    "    c.append(Art[i].text)\n",
    "print c"
   ]
  },
  {
   "cell_type": "markdown",
   "metadata": {},
   "source": [
    "##有請熊貓來解答"
   ]
  },
  {
   "cell_type": "code",
   "execution_count": 37,
   "metadata": {
    "collapsed": true
   },
   "outputs": [],
   "source": [
    "import pandas as pd"
   ]
  },
  {
   "cell_type": "code",
   "execution_count": 38,
   "metadata": {
    "collapsed": true
   },
   "outputs": [],
   "source": [
    "dfs=pd.DataFrame(c)"
   ]
  },
  {
   "cell_type": "code",
   "execution_count": 41,
   "metadata": {
    "collapsed": false
   },
   "outputs": [
    {
     "data": {
      "text/html": [
       "<div style=\"max-height:1000px;max-width:1500px;overflow:auto;\">\n",
       "<table border=\"1\" class=\"dataframe\">\n",
       "  <thead>\n",
       "    <tr style=\"text-align: right;\">\n",
       "      <th></th>\n",
       "      <th>今日八卦</th>\n",
       "    </tr>\n",
       "  </thead>\n",
       "  <tbody>\n",
       "    <tr>\n",
       "      <th>0</th>\n",
       "      <td>[問卦] 有無口貝的八卦?</td>\n",
       "    </tr>\n",
       "    <tr>\n",
       "      <th>1</th>\n",
       "      <td>Re: [問卦] 天橋下算不算是家?</td>\n",
       "    </tr>\n",
       "    <tr>\n",
       "      <th>2</th>\n",
       "      <td>[問卦] 有沒有離職理由的八卦?</td>\n",
       "    </tr>\n",
       "    <tr>\n",
       "      <th>3</th>\n",
       "      <td>[問卦] 狗是怎麼認得從沒看過的主人小孩</td>\n",
       "    </tr>\n",
       "    <tr>\n",
       "      <th>4</th>\n",
       "      <td>[問卦] 小龍女的初夜有高潮嗎</td>\n",
       "    </tr>\n",
       "    <tr>\n",
       "      <th>5</th>\n",
       "      <td>[問卦] 如何稱呼長的很像香蕉的人?</td>\n",
       "    </tr>\n",
       "    <tr>\n",
       "      <th>6</th>\n",
       "      <td>[問卦] 有沒有卡農之神編的曲的八卦</td>\n",
       "    </tr>\n",
       "    <tr>\n",
       "      <th>7</th>\n",
       "      <td>[問卦] 如果歷史重新來一次 科技發展還是一樣嗎?</td>\n",
       "    </tr>\n",
       "    <tr>\n",
       "      <th>8</th>\n",
       "      <td>[新聞] Lexus雨刷夾3千元　車主高興10秒後暴怒</td>\n",
       "    </tr>\n",
       "    <tr>\n",
       "      <th>9</th>\n",
       "      <td>Re: [新聞] 花大錢考英檢 大學生喊廢畢業門檻</td>\n",
       "    </tr>\n",
       "    <tr>\n",
       "      <th>10</th>\n",
       "      <td>[問卦] 炎亞綸的新聞 你我都推了一把</td>\n",
       "    </tr>\n",
       "    <tr>\n",
       "      <th>11</th>\n",
       "      <td>Re: [新聞] 禁公有地種菜 柯文哲：很奇怪</td>\n",
       "    </tr>\n",
       "    <tr>\n",
       "      <th>12</th>\n",
       "      <td>[問卦] 去年武器貿易的八卦?</td>\n",
       "    </tr>\n",
       "    <tr>\n",
       "      <th>13</th>\n",
       "      <td>Re: [新聞] 國道翻覆衝對向嚴重車禍　追撞影片曝光</td>\n",
       "    </tr>\n",
       "    <tr>\n",
       "      <th>14</th>\n",
       "      <td>[問卦] 有沒有客服電話都能掛點的八卦？</td>\n",
       "    </tr>\n",
       "    <tr>\n",
       "      <th>15</th>\n",
       "      <td>[新聞] 柯：大巨蛋貿然停工　南港線可能崩塌</td>\n",
       "    </tr>\n",
       "    <tr>\n",
       "      <th>16</th>\n",
       "      <td>Re: [問卦] 為何台灣陸軍的武器都是用於反舟波??</td>\n",
       "    </tr>\n",
       "    <tr>\n",
       "      <th>17</th>\n",
       "      <td>[公告] 八卦版版規 (2015.02.01)</td>\n",
       "    </tr>\n",
       "    <tr>\n",
       "      <th>18</th>\n",
       "      <td>[徵求］4/10國道1號259.5公里處21:40左右的行車紀錄</td>\n",
       "    </tr>\n",
       "    <tr>\n",
       "      <th>19</th>\n",
       "      <td>[爆卦] 【波多野結衣】與 Ptt 鄉民有約</td>\n",
       "    </tr>\n",
       "    <tr>\n",
       "      <th>20</th>\n",
       "      <td>[公告] 四月份置底閒聊文</td>\n",
       "    </tr>\n",
       "  </tbody>\n",
       "</table>\n",
       "</div>"
      ],
      "text/plain": [
       "                                今日八卦\n",
       "0                      [問卦] 有無口貝的八卦?\n",
       "1                 Re: [問卦] 天橋下算不算是家?\n",
       "2                   [問卦] 有沒有離職理由的八卦?\n",
       "3               [問卦] 狗是怎麼認得從沒看過的主人小孩\n",
       "4                    [問卦] 小龍女的初夜有高潮嗎\n",
       "5                 [問卦] 如何稱呼長的很像香蕉的人?\n",
       "6                 [問卦] 有沒有卡農之神編的曲的八卦\n",
       "7          [問卦] 如果歷史重新來一次 科技發展還是一樣嗎?\n",
       "8        [新聞] Lexus雨刷夾3千元　車主高興10秒後暴怒\n",
       "9          Re: [新聞] 花大錢考英檢 大學生喊廢畢業門檻\n",
       "10               [問卦] 炎亞綸的新聞 你我都推了一把\n",
       "11           Re: [新聞] 禁公有地種菜 柯文哲：很奇怪\n",
       "12                   [問卦] 去年武器貿易的八卦?\n",
       "13       Re: [新聞] 國道翻覆衝對向嚴重車禍　追撞影片曝光\n",
       "14              [問卦] 有沒有客服電話都能掛點的八卦？\n",
       "15            [新聞] 柯：大巨蛋貿然停工　南港線可能崩塌\n",
       "16       Re: [問卦] 為何台灣陸軍的武器都是用於反舟波??\n",
       "17           [公告] 八卦版版規 (2015.02.01)\n",
       "18  [徵求］4/10國道1號259.5公里處21:40左右的行車紀錄\n",
       "19            [爆卦] 【波多野結衣】與 Ptt 鄉民有約\n",
       "20                     [公告] 四月份置底閒聊文"
      ]
     },
     "execution_count": 41,
     "metadata": {},
     "output_type": "execute_result"
    }
   ],
   "source": [
    "dfs.columns=[[u'今日八卦']]\n",
    "dfs"
   ]
  },
  {
   "cell_type": "code",
   "execution_count": null,
   "metadata": {
    "collapsed": true
   },
   "outputs": [],
   "source": []
  }
 ],
 "metadata": {
  "kernelspec": {
   "display_name": "Python 2",
   "language": "python",
   "name": "python2"
  },
  "language_info": {
   "codemirror_mode": {
    "name": "ipython",
    "version": 2
   },
   "file_extension": ".py",
   "mimetype": "text/x-python",
   "name": "python",
   "nbconvert_exporter": "python",
   "pygments_lexer": "ipython2",
   "version": "2.7.9"
  }
 },
 "nbformat": 4,
 "nbformat_minor": 0
}
