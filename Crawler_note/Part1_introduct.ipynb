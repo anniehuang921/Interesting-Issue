{
 "cells": [
  {
   "cell_type": "markdown",
   "metadata": {},
   "source": [
    "##引用套件--- <爬蟲用>"
   ]
  },
  {
   "cell_type": "code",
   "execution_count": 2,
   "metadata": {
    "collapsed": true
   },
   "outputs": [],
   "source": [
    "import requests"
   ]
  },
  {
   "cell_type": "markdown",
   "metadata": {},
   "source": [
    "##常見的內文類型\n",
    "* HTML(Page)\n",
    "* Data(JSON/XML)\n",
    "\n",
    "    \n",
    "    * JSON:一副dictionary樣\n",
    "    * XML:一堆尖尖<><>\n",
    "* File"
   ]
  },
  {
   "cell_type": "markdown",
   "metadata": {},
   "source": [
    "##用到的好幫手\n",
    "<h2 style=\"color:#7777FF\">Google Chrome Developer Tools</h2>"
   ]
  },
  {
   "cell_type": "markdown",
   "metadata": {},
   "source": [
    "裡面的玄機：\n",
    "*  StatusCode:\n",
    "    200 是直接顯示\n",
    "    30 是換到其他的direct\n",
    "* Cookie很重要:\n",
    "    放一些瀏覽器的變數\n",
    "* X-Requested-With :\n",
    "        XMLHttpRequest\n",
    "  出現X就是要多看一眼\n"
   ]
  },
  {
   "cell_type": "markdown",
   "metadata": {},
   "source": [
    "小撇步：\n",
    "我們把\"顯示Javascript\"的選項給關掉，就可以知道是會直接出現(get)，還是要另外去找"
   ]
  },
  {
   "cell_type": "markdown",
   "metadata": {},
   "source": [
    "(A)幫忙換到其他網址(B)的>接他(A)之後會出現另一個網址(B)，不過B的history會出現是轉址的\n",
    "![objectmove](files/objectmove.png)"
   ]
  },
  {
   "cell_type": "markdown",
   "metadata": {},
   "source": [
    "### 可以參考 [c3h3 大神講義](http://nbviewer.ipython.org/github/c3h3/NCCU-PyData-Courses-2013Spring/blob/master/Lecture1/crawler/Lecture2_WebCrawler.ipynb) [還有](http://nbviewer.ipython.org/github/c3h3/NCCU-PyData-Courses-2013Spring/blob/master/Lecture1/crawler/Lecture2_WebCrawler_Examples.ipynb)"
   ]
  },
  {
   "cell_type": "code",
   "execution_count": null,
   "metadata": {
    "collapsed": true
   },
   "outputs": [],
   "source": []
  }
 ],
 "metadata": {
  "kernelspec": {
   "display_name": "Python 2",
   "language": "python",
   "name": "python2"
  },
  "language_info": {
   "codemirror_mode": {
    "name": "ipython",
    "version": 2
   },
   "file_extension": ".py",
   "mimetype": "text/x-python",
   "name": "python",
   "nbconvert_exporter": "python",
   "pygments_lexer": "ipython2",
   "version": "2.7.9"
  }
 },
 "nbformat": 4,
 "nbformat_minor": 0
}
