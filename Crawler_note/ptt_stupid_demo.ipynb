{
 "cells": [
  {
   "cell_type": "code",
   "execution_count": 1,
   "metadata": {
    "collapsed": true
   },
   "outputs": [],
   "source": [
    "import requests"
   ]
  },
  {
   "cell_type": "code",
   "execution_count": 2,
   "metadata": {
    "collapsed": true
   },
   "outputs": [],
   "source": [
    "url=\"https://www.ptt.cc/bbs/StupidClown/index.html\""
   ]
  },
  {
   "cell_type": "code",
   "execution_count": 3,
   "metadata": {
    "collapsed": true
   },
   "outputs": [],
   "source": [
    "res=requests.get(url)"
   ]
  },
  {
   "cell_type": "code",
   "execution_count": 4,
   "metadata": {
    "collapsed": false
   },
   "outputs": [
    {
     "data": {
      "text/plain": [
       "'utf-8'"
      ]
     },
     "execution_count": 4,
     "metadata": {},
     "output_type": "execute_result"
    }
   ],
   "source": [
    "res.encoding"
   ]
  },
  {
   "cell_type": "code",
   "execution_count": 5,
   "metadata": {
    "collapsed": false
   },
   "outputs": [
    {
     "name": "stdout",
     "output_type": "stream",
     "text": [
      "<!DOCTYPE html>\n",
      "<html>\n",
      "\t<head>\n",
      "\t\t<meta charset=\"utf-8\" />\n",
      "\t\t\n",
      "\n",
      "<meta name=\"viewport\" content=\"width=device-width\">\n",
      "\n",
      "<title>看板 StupidClown 文章列表 - 批踢踢實業坊</title>\n",
      "\n",
      "<link rel=\"stylesheet\" type=\"text/css\" href=\"//images.ptt.cc/v2.13/bbs-common.css\" />\n",
      "<link rel=\"stylesheet\" type=\"text/css\" href=\"//images.ptt.cc/v2.13/bbs.css\" media=\"screen\" />\n",
      "<link rel=\"stylesheet\" type=\"text/css\" href=\"//images.ptt.cc/v2.13/pushstream.css\" media=\"screen\" />\n",
      "<link rel=\"stylesheet\" type=\"text/css\" href=\"//images.ptt.cc/v2.13/bbs-print.css\" media=\"print\" />\n",
      "\n",
      "\n",
      "<script src=\"//ajax.googleapis.com/ajax/libs/jquery/2.1.1/jquery.min.js\"></script>\n",
      "<script src=\"//images.ptt.cc/v2.13/bbs.js\"></script>\n",
      "\n",
      "\n",
      "\t\t\n",
      "\n",
      "<script type=\"text/javascript\">\n",
      "\n",
      "  var _gaq = _gaq || [];\n",
      "  _gaq.push(['_setAccount', 'UA-32365737-1']);\n",
      "  _gaq.push(['_setDomainName', 'ptt.cc']);\n",
      "  _gaq.push(['_trackPageview']);\n",
      "\n",
      "  (function() {\n",
      "    var ga = document.createElement('script'); ga.type = 'text/javascript'; ga.async = true;\n",
      "    ga.src = ('https:' == document.location.protocol ? 'https://ssl' : 'http://www') + '.google-analytics.com/ga.js';\n",
      "    var s = document.getElementsByTagName('script')[0]; s.parentNode.insertBefore(ga, s);\n",
      "  })();\n",
      "\n",
      "</script>\n",
      "\n",
      "\n",
      "\t</head>\n",
      "    <body>\n",
      "\t\t\n",
      "<div id=\"topbar-container\">\n",
      "\t<div id=\"topbar\" class=\"bbs-content\">\n",
      "\t\t<a id=\"logo\" href=\"/\">批踢踢實業坊</a>\n",
      "\t\t<span>&rsaquo;</span>\n",
      "\t\t<a class=\"board\" href=\"/bbs/StupidClown/index.html\"><span class=\"board-label\">看板 </span>StupidClown</a>\n",
      "\t\t<a class=\"right small\" href=\"/about.html\">關於我們</a>\n",
      "\t\t<a class=\"right small\" href=\"/contact.html\">聯絡資訊</a>\n",
      "\t</div>\n",
      "</div>\n",
      "\n",
      "<div id=\"main-container\">\n",
      "\t<div id=\"action-bar-container\">\n",
      "\t\t<div class=\"action-bar\">\n",
      "\t\t\t<div class=\"btn-group\">\n",
      "\t\t\t\t<a class=\"btn selected\" href=\"/bbs/StupidClown/index.html\">看板</a>\n",
      "\t\t\t\t<a class=\"btn\" href=\"/man/StupidClown/index.html\">精華區</a>\n",
      "\t\t\t</div>\n",
      "\t\t\t<div class=\"btn-group pull-right\">\n",
      "\t\t\t\t<a class=\"btn wide\" href=\"/bbs/StupidClown/index1.html\">最舊</a>\n",
      "\t\t\t\t<a class=\"btn wide\" href=\"/bbs/StupidClown/index2507.html\">&lsaquo; 上頁</a>\n",
      "\t\t\t\t<a class=\"btn wide disabled\">下頁 &rsaquo;</a>\n",
      "\t\t\t\t<a class=\"btn wide\" href=\"/bbs/StupidClown/index.html\">最新</a>\n",
      "\t\t\t</div>\n",
      "\t\t</div>\n",
      "\t</div>\n",
      "\n",
      "\t<div class=\"r-list-container bbs-screen\">\n",
      "\t\t\n",
      "\t\t\n",
      "            \n",
      "        \n",
      "        \n",
      "\t\t<div class=\"r-ent\">\n",
      "\t\t\t<div class=\"nrec\"><span class=\"hl f2\">8</span></div>\n",
      "\t\t\t<div class=\"mark\"></div>\n",
      "\t\t\t<div class=\"title\">\n",
      "\t\t\t\n",
      "\t\t\t\t<a href=\"/bbs/StupidClown/M.1434548786.A.3B8.html\">[無言] 還好不是纜車</a>\n",
      "\t\t\t\n",
      "\t\t\t</div>\n",
      "\t\t\t<div class=\"meta\">\n",
      "\t\t\t\t<div class=\"date\"> 6/17</div>\n",
      "\t\t\t\t<div class=\"author\">asurasho</div>\n",
      "\t\t\t</div>\n",
      "\t\t</div>\n",
      "\n",
      "\t\t\n",
      "            \n",
      "        \n",
      "        \n",
      "\t\t<div class=\"r-ent\">\n",
      "\t\t\t<div class=\"nrec\"><span class=\"hl f2\">3</span></div>\n",
      "\t\t\t<div class=\"mark\"></div>\n",
      "\t\t\t<div class=\"title\">\n",
      "\t\t\t\n",
      "\t\t\t\t<a href=\"/bbs/StupidClown/M.1434549486.A.E1F.html\">新品種枸杞</a>\n",
      "\t\t\t\n",
      "\t\t\t</div>\n",
      "\t\t\t<div class=\"meta\">\n",
      "\t\t\t\t<div class=\"date\"> 6/17</div>\n",
      "\t\t\t\t<div class=\"author\">lapinbonjour</div>\n",
      "\t\t\t</div>\n",
      "\t\t</div>\n",
      "\n",
      "\t\t\n",
      "            \n",
      "        \n",
      "        \n",
      "\t\t<div class=\"r-ent\">\n",
      "\t\t\t<div class=\"nrec\"><span class=\"hl f3\">22</span></div>\n",
      "\t\t\t<div class=\"mark\"></div>\n",
      "\t\t\t<div class=\"title\">\n",
      "\t\t\t\n",
      "\t\t\t\t<a href=\"/bbs/StupidClown/M.1434549607.A.482.html\">[大哭] 不要看！！！我是孕婦！！！</a>\n",
      "\t\t\t\n",
      "\t\t\t</div>\n",
      "\t\t\t<div class=\"meta\">\n",
      "\t\t\t\t<div class=\"date\"> 6/17</div>\n",
      "\t\t\t\t<div class=\"author\">s9858102</div>\n",
      "\t\t\t</div>\n",
      "\t\t</div>\n",
      "\n",
      "\t\t\n",
      "            \n",
      "        \n",
      "        \n",
      "\t\t<div class=\"r-ent\">\n",
      "\t\t\t<div class=\"nrec\"></div>\n",
      "\t\t\t<div class=\"mark\"></div>\n",
      "\t\t\t<div class=\"title\">\n",
      "\t\t\t\n",
      "\t\t\t\t(本文已被刪除) [cuute]\n",
      "\t\t\t\n",
      "\t\t\t</div>\n",
      "\t\t\t<div class=\"meta\">\n",
      "\t\t\t\t<div class=\"date\"> 6/17</div>\n",
      "\t\t\t\t<div class=\"author\">-</div>\n",
      "\t\t\t</div>\n",
      "\t\t</div>\n",
      "\n",
      "\t\t\n",
      "            \n",
      "        \n",
      "        \n",
      "\t\t<div class=\"r-ent\">\n",
      "\t\t\t<div class=\"nrec\"><span class=\"hl f2\">1</span></div>\n",
      "\t\t\t<div class=\"mark\"></div>\n",
      "\t\t\t<div class=\"title\">\n",
      "\t\t\t\n",
      "\t\t\t\t<a href=\"/bbs/StupidClown/M.1434551034.A.425.html\">[無言] 唉，受不了我自己</a>\n",
      "\t\t\t\n",
      "\t\t\t</div>\n",
      "\t\t\t<div class=\"meta\">\n",
      "\t\t\t\t<div class=\"date\"> 6/17</div>\n",
      "\t\t\t\t<div class=\"author\">CharliXCX</div>\n",
      "\t\t\t</div>\n",
      "\t\t</div>\n",
      "\n",
      "\t\t\n",
      "            \n",
      "        \n",
      "        \n",
      "\t\t<div class=\"r-ent\">\n",
      "\t\t\t<div class=\"nrec\"><span class=\"hl f2\">4</span></div>\n",
      "\t\t\t<div class=\"mark\"></div>\n",
      "\t\t\t<div class=\"title\">\n",
      "\t\t\t\n",
      "\t\t\t\t<a href=\"/bbs/StupidClown/M.1434551344.A.1FB.html\">[眼殘] 甘蔗超好笑</a>\n",
      "\t\t\t\n",
      "\t\t\t</div>\n",
      "\t\t\t<div class=\"meta\">\n",
      "\t\t\t\t<div class=\"date\"> 6/17</div>\n",
      "\t\t\t\t<div class=\"author\">genius0107</div>\n",
      "\t\t\t</div>\n",
      "\t\t</div>\n",
      "\n",
      "\t\t\n",
      "            \n",
      "        \n",
      "        \n",
      "\t\t<div class=\"r-ent\">\n",
      "\t\t\t<div class=\"nrec\"><span class=\"hl f2\">5</span></div>\n",
      "\t\t\t<div class=\"mark\"></div>\n",
      "\t\t\t<div class=\"title\">\n",
      "\t\t\t\n",
      "\t\t\t\t<a href=\"/bbs/StupidClown/M.1434552421.A.7E6.html\">Re: [恍神] 康是美</a>\n",
      "\t\t\t\n",
      "\t\t\t</div>\n",
      "\t\t\t<div class=\"meta\">\n",
      "\t\t\t\t<div class=\"date\"> 6/17</div>\n",
      "\t\t\t\t<div class=\"author\">a22525740</div>\n",
      "\t\t\t</div>\n",
      "\t\t</div>\n",
      "\n",
      "\t\t\n",
      "            \n",
      "        \n",
      "        \n",
      "\t\t<div class=\"r-ent\">\n",
      "\t\t\t<div class=\"nrec\"><span class=\"hl f2\">4</span></div>\n",
      "\t\t\t<div class=\"mark\"></div>\n",
      "\t\t\t<div class=\"title\">\n",
      "\t\t\t\n",
      "\t\t\t\t<a href=\"/bbs/StupidClown/M.1434554556.A.607.html\">[恍神] 到底誰笑誰</a>\n",
      "\t\t\t\n",
      "\t\t\t</div>\n",
      "\t\t\t<div class=\"meta\">\n",
      "\t\t\t\t<div class=\"date\"> 6/17</div>\n",
      "\t\t\t\t<div class=\"author\">yaishuan</div>\n",
      "\t\t\t</div>\n",
      "\t\t</div>\n",
      "\n",
      "\t\t\n",
      "            \n",
      "        \n",
      "        \n",
      "\t\t<div class=\"r-ent\">\n",
      "\t\t\t<div class=\"nrec\"><span class=\"hl f3\">18</span></div>\n",
      "\t\t\t<div class=\"mark\"></div>\n",
      "\t\t\t<div class=\"title\">\n",
      "\t\t\t\n",
      "\t\t\t\t(本文已被刪除) [winner10936]\n",
      "\t\t\t\n",
      "\t\t\t</div>\n",
      "\t\t\t<div class=\"meta\">\n",
      "\t\t\t\t<div class=\"date\"> 6/17</div>\n",
      "\t\t\t\t<div class=\"author\">-</div>\n",
      "\t\t\t</div>\n",
      "\t\t</div>\n",
      "\n",
      "\t\t\n",
      "            \n",
      "        \n",
      "        \n",
      "\t\t<div class=\"r-ent\">\n",
      "\t\t\t<div class=\"nrec\"><span class=\"hl f2\">8</span></div>\n",
      "\t\t\t<div class=\"mark\"></div>\n",
      "\t\t\t<div class=\"title\">\n",
      "\t\t\t\n",
      "\t\t\t\t(本文已被刪除) [abeak]\n",
      "\t\t\t\n",
      "\t\t\t</div>\n",
      "\t\t\t<div class=\"meta\">\n",
      "\t\t\t\t<div class=\"date\"> 6/17</div>\n",
      "\t\t\t\t<div class=\"author\">-</div>\n",
      "\t\t\t</div>\n",
      "\t\t</div>\n",
      "\n",
      "\t\t\n",
      "            \n",
      "        \n",
      "        \n",
      "\t\t<div class=\"r-ent\">\n",
      "\t\t\t<div class=\"nrec\"><span class=\"hl f2\">8</span></div>\n",
      "\t\t\t<div class=\"mark\"></div>\n",
      "\t\t\t<div class=\"title\">\n",
      "\t\t\t\n",
      "\t\t\t\t<a href=\"/bbs/StupidClown/M.1434555600.A.A35.html\">[恍神] 登入次數</a>\n",
      "\t\t\t\n",
      "\t\t\t</div>\n",
      "\t\t\t<div class=\"meta\">\n",
      "\t\t\t\t<div class=\"date\"> 6/17</div>\n",
      "\t\t\t\t<div class=\"author\">OrzToT</div>\n",
      "\t\t\t</div>\n",
      "\t\t</div>\n",
      "\n",
      "\t\t\n",
      "            \n",
      "        \n",
      "        \n",
      "\t\t<div class=\"r-ent\">\n",
      "\t\t\t<div class=\"nrec\"><span class=\"hl f2\">2</span></div>\n",
      "\t\t\t<div class=\"mark\"></div>\n",
      "\t\t\t<div class=\"title\">\n",
      "\t\t\t\n",
      "\t\t\t\t<a href=\"/bbs/StupidClown/M.1434557823.A.CCB.html\">[無言] 媽媽妳累（ㄌㄠˇ）了ㄇ</a>\n",
      "\t\t\t\n",
      "\t\t\t</div>\n",
      "\t\t\t<div class=\"meta\">\n",
      "\t\t\t\t<div class=\"date\"> 6/18</div>\n",
      "\t\t\t\t<div class=\"author\">SaiXi</div>\n",
      "\t\t\t</div>\n",
      "\t\t</div>\n",
      "\n",
      "\t\t\n",
      "            \n",
      "        \n",
      "        \n",
      "\t\t<div class=\"r-ent\">\n",
      "\t\t\t<div class=\"nrec\"><span class=\"hl f3\">11</span></div>\n",
      "\t\t\t<div class=\"mark\"></div>\n",
      "\t\t\t<div class=\"title\">\n",
      "\t\t\t\n",
      "\t\t\t\t<a href=\"/bbs/StupidClown/M.1434560772.A.400.html\">[大哭] 忽有龐然大物</a>\n",
      "\t\t\t\n",
      "\t\t\t</div>\n",
      "\t\t\t<div class=\"meta\">\n",
      "\t\t\t\t<div class=\"date\"> 6/18</div>\n",
      "\t\t\t\t<div class=\"author\">rain0129</div>\n",
      "\t\t\t</div>\n",
      "\t\t</div>\n",
      "\n",
      "\t\t\n",
      "            \n",
      "        \n",
      "        \n",
      "\t\t<div class=\"r-ent\">\n",
      "\t\t\t<div class=\"nrec\"><span class=\"hl f2\">3</span></div>\n",
      "\t\t\t<div class=\"mark\"></div>\n",
      "\t\t\t<div class=\"title\">\n",
      "\t\t\t\n",
      "\t\t\t\t<a href=\"/bbs/StupidClown/M.1434565639.A.A12.html\">[眼殘] 我的眼睛快痛死了</a>\n",
      "\t\t\t\n",
      "\t\t\t</div>\n",
      "\t\t\t<div class=\"meta\">\n",
      "\t\t\t\t<div class=\"date\"> 6/18</div>\n",
      "\t\t\t\t<div class=\"author\">zxc77410tw</div>\n",
      "\t\t\t</div>\n",
      "\t\t</div>\n",
      "\n",
      "\t\t\n",
      "            \n",
      "        \n",
      "        \n",
      "\t\t<div class=\"r-ent\">\n",
      "\t\t\t<div class=\"nrec\"><span class=\"hl f2\">4</span></div>\n",
      "\t\t\t<div class=\"mark\"></div>\n",
      "\t\t\t<div class=\"title\">\n",
      "\t\t\t\n",
      "\t\t\t\t<a href=\"/bbs/StupidClown/M.1434565841.A.96C.html\">[無言] 熱到瘋掉啦QAQ</a>\n",
      "\t\t\t\n",
      "\t\t\t</div>\n",
      "\t\t\t<div class=\"meta\">\n",
      "\t\t\t\t<div class=\"date\"> 6/18</div>\n",
      "\t\t\t\t<div class=\"author\">yakilin3</div>\n",
      "\t\t\t</div>\n",
      "\t\t</div>\n",
      "\n",
      "\t\t\n",
      "            \n",
      "        \n",
      "        \n",
      "\t\t<div class=\"r-ent\">\n",
      "\t\t\t<div class=\"nrec\"></div>\n",
      "\t\t\t<div class=\"mark\"></div>\n",
      "\t\t\t<div class=\"title\">\n",
      "\t\t\t\n",
      "\t\t\t\t<a href=\"/bbs/StupidClown/M.1434565987.A.4E7.html\">[無言] 陽台跟洗衣</a>\n",
      "\t\t\t\n",
      "\t\t\t</div>\n",
      "\t\t\t<div class=\"meta\">\n",
      "\t\t\t\t<div class=\"date\"> 6/18</div>\n",
      "\t\t\t\t<div class=\"author\">tiffany1001</div>\n",
      "\t\t\t</div>\n",
      "\t\t</div>\n",
      "\n",
      "\t\t\n",
      "            \n",
      "        \n",
      "        \n",
      "\t\t<div class=\"r-ent\">\n",
      "\t\t\t<div class=\"nrec\"><span class=\"hl f3\">22</span></div>\n",
      "\t\t\t<div class=\"mark\"></div>\n",
      "\t\t\t<div class=\"title\">\n",
      "\t\t\t\n",
      "\t\t\t\t<a href=\"/bbs/StupidClown/M.1434577175.A.AE8.html\">[無言] 那些年的中午</a>\n",
      "\t\t\t\n",
      "\t\t\t</div>\n",
      "\t\t\t<div class=\"meta\">\n",
      "\t\t\t\t<div class=\"date\"> 6/18</div>\n",
      "\t\t\t\t<div class=\"author\">ghost90331</div>\n",
      "\t\t\t</div>\n",
      "\t\t</div>\n",
      "\n",
      "\t\t\n",
      "            \n",
      "        \n",
      "        \n",
      "\t\t<div class=\"r-ent\">\n",
      "\t\t\t<div class=\"nrec\"><span class=\"hl f2\">1</span></div>\n",
      "\t\t\t<div class=\"mark\"></div>\n",
      "\t\t\t<div class=\"title\">\n",
      "\t\t\t\n",
      "\t\t\t\t<a href=\"/bbs/StupidClown/M.1434595620.A.5C0.html\">[聽錯]hey jude 別害怕還是以後別做朋友??</a>\n",
      "\t\t\t\n",
      "\t\t\t</div>\n",
      "\t\t\t<div class=\"meta\">\n",
      "\t\t\t\t<div class=\"date\"> 6/18</div>\n",
      "\t\t\t\t<div class=\"author\">nk070118</div>\n",
      "\t\t\t</div>\n",
      "\t\t</div>\n",
      "\n",
      "\t\t\n",
      "        \n",
      "        <div class=\"r-list-sep\"></div>\n",
      "            \n",
      "                \n",
      "        \n",
      "        \n",
      "\t\t<div class=\"r-ent\">\n",
      "\t\t\t<div class=\"nrec\"></div>\n",
      "\t\t\t<div class=\"mark\">M</div>\n",
      "\t\t\t<div class=\"title\">\n",
      "\t\t\t\n",
      "\t\t\t\t<a href=\"/bbs/StupidClown/M.1158735717.A.828.html\">[公告] 笨板板規</a>\n",
      "\t\t\t\n",
      "\t\t\t</div>\n",
      "\t\t\t<div class=\"meta\">\n",
      "\t\t\t\t<div class=\"date\"> 9/20</div>\n",
      "\t\t\t\t<div class=\"author\">F7</div>\n",
      "\t\t\t</div>\n",
      "\t\t</div>\n",
      "\n",
      "            \n",
      "                \n",
      "        \n",
      "        \n",
      "\t\t<div class=\"r-ent\">\n",
      "\t\t\t<div class=\"nrec\"><span class=\"hl f3\">60</span></div>\n",
      "\t\t\t<div class=\"mark\">M</div>\n",
      "\t\t\t<div class=\"title\">\n",
      "\t\t\t\n",
      "\t\t\t\t<a href=\"/bbs/StupidClown/M.1362048036.A.8CB.html\">[公告]請注意個人資料保密以及集氣/問卷文</a>\n",
      "\t\t\t\n",
      "\t\t\t</div>\n",
      "\t\t\t<div class=\"meta\">\n",
      "\t\t\t\t<div class=\"date\"> 2/28</div>\n",
      "\t\t\t\t<div class=\"author\">F7</div>\n",
      "\t\t\t</div>\n",
      "\t\t</div>\n",
      "\n",
      "            \n",
      "                \n",
      "        \n",
      "        \n",
      "\t\t<div class=\"r-ent\">\n",
      "\t\t\t<div class=\"nrec\"><span class=\"hl f3\">31</span></div>\n",
      "\t\t\t<div class=\"mark\">M</div>\n",
      "\t\t\t<div class=\"title\">\n",
      "\t\t\t\n",
      "\t\t\t\t<a href=\"/bbs/StupidClown/M.1432779417.A.6A4.html\">[公告]關於問卷文將舉辦投票</a>\n",
      "\t\t\t\n",
      "\t\t\t</div>\n",
      "\t\t\t<div class=\"meta\">\n",
      "\t\t\t\t<div class=\"date\"> 5/28</div>\n",
      "\t\t\t\t<div class=\"author\">F7</div>\n",
      "\t\t\t</div>\n",
      "\t\t</div>\n",
      "\n",
      "            \n",
      "                \n",
      "        \n",
      "        \n",
      "\t\t<div class=\"r-ent\">\n",
      "\t\t\t<div class=\"nrec\"><span class=\"hl f3\">13</span></div>\n",
      "\t\t\t<div class=\"mark\">M</div>\n",
      "\t\t\t<div class=\"title\">\n",
      "\t\t\t\n",
      "\t\t\t\t<a href=\"/bbs/StupidClown/M.1433127752.A.2E6.html\">[公告]關於問卷文存續投票開始</a>\n",
      "\t\t\t\n",
      "\t\t\t</div>\n",
      "\t\t\t<div class=\"meta\">\n",
      "\t\t\t\t<div class=\"date\"> 6/01</div>\n",
      "\t\t\t\t<div class=\"author\">F7</div>\n",
      "\t\t\t</div>\n",
      "\t\t</div>\n",
      "\n",
      "            \n",
      "        \n",
      "\t</div>\n",
      "\n",
      "    \n",
      "</div>\n",
      "\n",
      "    </body>\n",
      "</html>\n",
      "\n"
     ]
    }
   ],
   "source": [
    "print res.text"
   ]
  },
  {
   "cell_type": "code",
   "execution_count": 6,
   "metadata": {
    "collapsed": true
   },
   "outputs": [],
   "source": [
    "from pyquery import PyQuery "
   ]
  },
  {
   "cell_type": "code",
   "execution_count": 7,
   "metadata": {
    "collapsed": true
   },
   "outputs": [],
   "source": [
    "s=PyQuery(res.text)"
   ]
  },
  {
   "cell_type": "code",
   "execution_count": 8,
   "metadata": {
    "collapsed": false
   },
   "outputs": [],
   "source": [
    "S=s('div.pull-right a.btn:nth-child(2)')#下一頁"
   ]
  },
  {
   "cell_type": "code",
   "execution_count": 9,
   "metadata": {
    "collapsed": false
   },
   "outputs": [
    {
     "data": {
      "text/plain": [
       "'/bbs/StupidClown/index2507.html'"
      ]
     },
     "execution_count": 9,
     "metadata": {},
     "output_type": "execute_result"
    }
   ],
   "source": [
    "S.attr('href')"
   ]
  },
  {
   "cell_type": "code",
   "execution_count": 10,
   "metadata": {
    "collapsed": true
   },
   "outputs": [],
   "source": [
    "import re"
   ]
  },
  {
   "cell_type": "markdown",
   "metadata": {},
   "source": [
    "###把數字取出來"
   ]
  },
  {
   "cell_type": "code",
   "execution_count": 11,
   "metadata": {
    "collapsed": false
   },
   "outputs": [
    {
     "data": {
      "text/plain": [
       "<_sre.SRE_Match at 0x107195c60>"
      ]
     },
     "execution_count": 11,
     "metadata": {},
     "output_type": "execute_result"
    }
   ],
   "source": [
    "p=re.compile(\"\\d{4}\")\n",
    "m=p.search('/bbs/StupidClown/index2496.html')\n",
    "page=m.group()#group回傳連接到的部分\n",
    "#page\n",
    "m"
   ]
  },
  {
   "cell_type": "code",
   "execution_count": 12,
   "metadata": {
    "collapsed": false
   },
   "outputs": [
    {
     "data": {
      "text/plain": [
       "'/bbs/StupidClown/index2507.html'"
      ]
     },
     "execution_count": 12,
     "metadata": {},
     "output_type": "execute_result"
    }
   ],
   "source": [
    "m=S.attr('href').replace(page,str(int(page)+1))\n",
    "m"
   ]
  },
  {
   "cell_type": "code",
   "execution_count": 13,
   "metadata": {
    "collapsed": false
   },
   "outputs": [],
   "source": [
    "ptt=\"https://www.ptt.cc\"#網址"
   ]
  },
  {
   "cell_type": "code",
   "execution_count": 14,
   "metadata": {
    "collapsed": true
   },
   "outputs": [],
   "source": [
    "M=ptt+m"
   ]
  },
  {
   "cell_type": "code",
   "execution_count": 15,
   "metadata": {
    "collapsed": false
   },
   "outputs": [
    {
     "data": {
      "text/plain": [
       "'https://www.ptt.cc/bbs/StupidClown/index2507.html'"
      ]
     },
     "execution_count": 15,
     "metadata": {},
     "output_type": "execute_result"
    }
   ],
   "source": [
    "M"
   ]
  },
  {
   "cell_type": "markdown",
   "metadata": {},
   "source": [
    "測試單頁，取出每一篇"
   ]
  },
  {
   "cell_type": "code",
   "execution_count": 16,
   "metadata": {
    "collapsed": false
   },
   "outputs": [
    {
     "data": {
      "text/plain": [
       "[<div.r-ent>, <div.r-ent>, <div.r-ent>, <div.r-ent>, <div.r-ent>, <div.r-ent>, <div.r-ent>, <div.r-ent>, <div.r-ent>, <div.r-ent>, <div.r-ent>, <div.r-ent>, <div.r-ent>, <div.r-ent>, <div.r-ent>, <div.r-ent>, <div.r-ent>, <div.r-ent>, <div.r-ent>, <div.r-ent>]"
      ]
     },
     "execution_count": 16,
     "metadata": {},
     "output_type": "execute_result"
    }
   ],
   "source": [
    "res1=requests.get(\"https://www.ptt.cc/bbs/StupidClown/index2497.html\")\n",
    "S1=PyQuery(res1.text)\n",
    "S1('div.r-ent')\n",
    "#S1('div.nrec span')"
   ]
  },
  {
   "cell_type": "markdown",
   "metadata": {},
   "source": [
    "顯示推文數，並忽略刪除文章和內含[問卷]跟[集氣]\n",
    "把推爆的文章存起來##rec"
   ]
  },
  {
   "cell_type": "code",
   "execution_count": 17,
   "metadata": {
    "collapsed": false
   },
   "outputs": [],
   "source": [
    "def rec(R):#R=S1('div.r-ent')篇的集合\n",
    "    c=[]\n",
    "    for i in R:\n",
    "        S2=PyQuery(i)\n",
    "        S2('div.nrec span')\n",
    "        if  len(S2('div.nrec span'))!=0:\n",
    "            #print S2('div.nrec span')[0].text\n",
    "            if S2('div.nrec span')[0].text == u'爆':\n",
    "                #print S2('div.title a').text()\n",
    "                if filter(lambda x: x in S2('div.title a').text(),[u\"[問卷]\",u\"[集氣]\"])==[]:\n",
    "                   c.append(S2)\n",
    "    return c"
   ]
  },
  {
   "cell_type": "code",
   "execution_count": 18,
   "metadata": {
    "collapsed": false
   },
   "outputs": [
    {
     "name": "stdout",
     "output_type": "stream",
     "text": [
      "[[<div.r-ent>]]\n"
     ]
    }
   ],
   "source": [
    "c=[]\n",
    "c.extend(rec(S1('div.r-ent')))\n",
    "print c"
   ]
  },
  {
   "cell_type": "markdown",
   "metadata": {},
   "source": [
    "找出三篇\"爆\"的文章"
   ]
  },
  {
   "cell_type": "code",
   "execution_count": 19,
   "metadata": {
    "collapsed": false
   },
   "outputs": [],
   "source": [
    "def three(R):\n",
    "    \"\"\"\n",
    "    Where site R putting url. \n",
    "    \"\"\"\n",
    "    c=[]\n",
    "    res=requests.get(R)#讀入首頁\n",
    "    s=PyQuery(res.text)#用pyquery帶入\n",
    "    S=s('div.pull-right a.btn:nth-child(2)')#查到擺放“上一頁”的選項\n",
    "    T=S.attr('href')#上一頁的連結\n",
    "    p=re.compile(\"\\d{4}\")#re讀入四位數字型態\n",
    "    t=p.search(S.attr('href'))#尋找連結中符合型態\n",
    "    page=t.group()#把符合型態的取出\n",
    "    T=T.replace(page,str(int(page)+2))\n",
    "    page=str(int(page)+2)#首頁的頁數加一\n",
    "    while len(c)<3:\n",
    "        T=T.replace(page,str(int(page)-1))#置換成前一頁\n",
    "        M=ptt+T#網址\n",
    "    \n",
    "        Res2=requests.get(M)#請求本頁\n",
    "        S3=PyQuery(Res2.text)#用PyQuery帶入\n",
    "        \n",
    "        K=rec(S3('div.r-ent'))\n",
    "        c.extend(K)#新增本頁的\"爆\"文\n",
    "        page=str(int(page)-1)#把page改成上一頁的頁碼\n",
    "        c=c[:3]#不超過三篇\n",
    "    for i in c:\n",
    "        print i('div.title a').text()+\" \"+ptt+i('div.title a').attr('href')\n",
    "    return c"
   ]
  },
  {
   "cell_type": "markdown",
   "metadata": {},
   "source": [
    "##抓到三篇"
   ]
  },
  {
   "cell_type": "code",
   "execution_count": 20,
   "metadata": {
    "collapsed": false
   },
   "outputs": [
    {
     "name": "stdout",
     "output_type": "stream",
     "text": [
      "[有趣] 爸爸不流淚 https://www.ptt.cc/bbs/StupidClown/M.1434387519.A.577.html\n",
      "[恍神] 重口味炒飯 https://www.ptt.cc/bbs/StupidClown/M.1434368947.A.879.html\n",
      "[無言] 好氣又好笑的男朋友 https://www.ptt.cc/bbs/StupidClown/M.1434287660.A.E32.html\n"
     ]
    }
   ],
   "source": [
    "c=three(url)"
   ]
  },
  {
   "cell_type": "markdown",
   "metadata": {},
   "source": [
    "<h1 style=\"text-align:center;color:#228822\">再來讓他每天都跑</h1>"
   ]
  },
  {
   "cell_type": "code",
   "execution_count": 21,
   "metadata": {
    "collapsed": true
   },
   "outputs": [],
   "source": [
    "#!/usr/bin/env python 用python跑"
   ]
  },
  {
   "cell_type": "code",
   "execution_count": 36,
   "metadata": {
    "collapsed": false
   },
   "outputs": [
    {
     "name": "stdout",
     "output_type": "stream",
     "text": [
      "Writing ptt_stupid.py\n"
     ]
    }
   ],
   "source": [
    "%%writefile ptt_stupid.py\n",
    "#!/usr/bin/env python \n",
    "# -*- coding: UTF-8 -*-\n",
    "import requests\n",
    "import os\n",
    "url=\"https://www.ptt.cc/bbs/StupidClown/index.html\"\n",
    "ptt=\"https://www.ptt.cc\"\n",
    "from pyquery import PyQuery\n",
    "import re\n",
    "def rec(R):#R=S1('div.r-ent')\n",
    "    c=[]\n",
    "    for i in R:\n",
    "        S2=PyQuery(i)\n",
    "        if  len(S2('div.nrec span'))!=0 and S2('div.title a').text()!=\"\":\n",
    "            if S2('div.nrec span')[0].text == u'爆':\n",
    "                    if filter(lambda x: x in S2('div.title a').text(),[u\"[問卷]\",u\"[集氣]\"])==[]:\n",
    "                        c.append(S2)\n",
    "    return c\n",
    "def three(R):\n",
    "    \"\"\"\n",
    "    Where site R putting url. \n",
    "    \"\"\"\n",
    "    c=[]\n",
    "    res=requests.get(R)\n",
    "    s=PyQuery(res.text)\n",
    "    S=s('div.pull-right a.btn:nth-child(2)')\n",
    "    T=S.attr('href')\n",
    "    p=re.compile(\"\\d{4}\")\n",
    "    t=p.search(S.attr('href'))\n",
    "    page=t.group()\n",
    "    T=T.replace(page,str(int(page)+2))\n",
    "    page=str(int(page)+2)\n",
    "    while len(c)<5:\n",
    "        T=T.replace(page,str(int(page)-1))\n",
    "        M=ptt+T\n",
    "        Res2=requests.get(M)\n",
    "        S3=PyQuery(Res2.text)\n",
    "        \n",
    "        K=rec(S3('div.r-ent'))\n",
    "        c.extend(K)\n",
    "        page=str(int(page)-1)\n",
    "        #c=c[:5]\n",
    "    SS1=\"<!DOCTYPE html><html><header><meta charset=\\\"utf-8\\\"/></header><body>\"\n",
    "    SS2=[]\n",
    "    for i in c:\n",
    "        SS2.append(\"<a style=\\\"font-size:40px\\\" href=\\\"\"+ptt+i('div.title a').attr('href')+\"\\\">\"+i('div.title a').text()+\"</a>\"+\"</br>\")\n",
    "    SS3=\"</h1></body></html>\"\n",
    "    SS=SS1\n",
    "    for i in range(len(c)):\n",
    "        SS+=SS2[i]\n",
    "    SS=SS+SS3\n",
    "    f=open(\"foo.html\",\"w\")\n",
    "    print >>f,SS.encode('utf-8')\n",
    "    f.close()\n",
    "    return c\n",
    "three(url)\n",
    "import time\n",
    "import random\n",
    "r= random.randint(0,5)\n",
    "time.sleep(r)\n",
    "\n",
    "os.system(\"open foo.html\")"
   ]
  },
  {
   "cell_type": "code",
   "execution_count": 23,
   "metadata": {
    "collapsed": true
   },
   "outputs": [],
   "source": [
    "from pyquery import PyQuery"
   ]
  },
  {
   "cell_type": "code",
   "execution_count": 34,
   "metadata": {
    "collapsed": false
   },
   "outputs": [],
   "source": [
    "rm ptt_stupid.py"
   ]
  },
  {
   "cell_type": "code",
   "execution_count": 26,
   "metadata": {
    "collapsed": false
   },
   "outputs": [
    {
     "name": "stdout",
     "output_type": "stream",
     "text": [
      "Part1_introduct.ipynb               Part8_MongoDB.ipynb\r\n",
      "Part2_StandardTable.ipynb           Part9_youtube.ipynb\r\n",
      "Part2_excerciseBenchmark_mac.ipynb  demo.db\r\n",
      "Part3_json.ipynb                    \u001b[34mimage\u001b[m\u001b[m/\r\n",
      "Part4_saveCSV.ipynb                 login_img.jpg\r\n",
      "Part5_session,login.img.ipynb       ptt_stupid_demo.ipynb\r\n",
      "Part6=1_外掛BeautifulSoup.ipynb     \u001b[34msaveyoutube\u001b[m\u001b[m/\r\n",
      "Part6_cookie.ipynb                  text.csv\r\n",
      "Part7_webdriver.ipynb\r\n"
     ]
    }
   ],
   "source": [
    "ls"
   ]
  },
  {
   "cell_type": "code",
   "execution_count": 27,
   "metadata": {
    "collapsed": false
   },
   "outputs": [
    {
     "data": {
      "text/plain": [
       "u'/Users/annie/AG/Interesting-Issue/Crawler_note'"
      ]
     },
     "execution_count": 27,
     "metadata": {},
     "output_type": "execute_result"
    }
   ],
   "source": [
    "pwd"
   ]
  },
  {
   "cell_type": "code",
   "execution_count": 37,
   "metadata": {
    "collapsed": false
   },
   "outputs": [],
   "source": [
    "%run ptt_stupid.py #可以直接show在網頁上了"
   ]
  },
  {
   "cell_type": "markdown",
   "metadata": {},
   "source": [
    "#每天都讓他跑的執行指令crontab\n",
    "[教學](http://linux.vbird.org/linux_basic/0430cron.php)"
   ]
  },
  {
   "cell_type": "code",
   "execution_count": null,
   "metadata": {
    "collapsed": true
   },
   "outputs": [],
   "source": [
    "#crontab [-u username] [-l|-e|-r]\n",
    "#代表意義\t分鐘\t小時\t日期\t月份\t週\t指令\n",
    "#數字範圍\t0-59\t0-23\t1-31\t1-12\t0-7\t呀就指令啊\n",
    "\n",
    "#cd ~/bin/  \n",
    "#在bin底下加入執行檔\n",
    "\n",
    "#sudo su - (switch user) 有需要再用\n",
    "#exit (不然在root太恐怖了)\n",
    "\n",
    "#ls -l\n",
    "###chmod 444 檔案名 [改變使用者權限 (ugo user group other 或是a all, rwx read write exe, ug+w 或者二進位去算 777 444)]\n",
    "\n",
    "#!crontab -e\n",
    "#00 * * * * /Users/annie/anaconda/bin/python /Users/annie/bin/ptt_stupid.py"
   ]
  },
  {
   "cell_type": "markdown",
   "metadata": {},
   "source": [
    "```\n",
    "SS1=\"<!DOCTYPE html><html><header><meta charset=\\\"utf-8\\\"/></header><body>\"\n",
    "SS2=[]\n",
    "for i in c:\n",
    "            SS2.append(\"<a style=\\\"font-size:40px\\\" href=\\\"\"+ptt+i('div.title a').attr('href')+\"\\\">\"+i('div.title a').text()+\"</a>\")\n",
    "SS3=\"</h1></body></html>\"\n",
    "SS=SS1+SS2[0]+\"<br>\"+SS2[1]+\"<br>\"+SS2[2]+SS3\n",
    "f=open(\"foo.html\",\"w\")\n",
    "print >>f,SS.encode('utf-8')\n",
    "f.close()\n",
    "```"
   ]
  },
  {
   "cell_type": "code",
   "execution_count": 245,
   "metadata": {
    "collapsed": false
   },
   "outputs": [
    {
     "name": "stdout",
     "output_type": "stream",
     "text": [
      "<!DOCTYPE html><html><header><meta charset=\"utf-8\"/></header><body><a style=\"font-size:40px\" href=\"https://www.ptt.cc/bbs/StupidClown/M.1430062647.A.226.html\">[大哭] 應屆新鮮人第一次找工作</a><br><a style=\"font-size:40px\" href=\"https://www.ptt.cc/bbs/StupidClown/M.1430040862.A.81D.html\">[聽錯] 總統是第幾級產業?</a><br><a style=\"font-size:40px\" href=\"https://www.ptt.cc/bbs/StupidClown/M.1429871971.A.F3A.html\">[眼殘] 玩命光頭7</a></h1></body></html>\r\n"
     ]
    }
   ],
   "source": [
    "!cat foo.html"
   ]
  },
  {
   "cell_type": "code",
   "execution_count": 196,
   "metadata": {
    "collapsed": false
   },
   "outputs": [],
   "source": [
    "f=open(\"foo.html\")"
   ]
  }
 ],
 "metadata": {
  "kernelspec": {
   "display_name": "Python 2",
   "language": "python",
   "name": "python2"
  },
  "language_info": {
   "codemirror_mode": {
    "name": "ipython",
    "version": 2
   },
   "file_extension": ".py",
   "mimetype": "text/x-python",
   "name": "python",
   "nbconvert_exporter": "python",
   "pygments_lexer": "ipython2",
   "version": "2.7.10"
  }
 },
 "nbformat": 4,
 "nbformat_minor": 0
}
