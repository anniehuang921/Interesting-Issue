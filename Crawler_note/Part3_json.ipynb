{
 "cells": [
  {
   "cell_type": "markdown",
   "metadata": {},
   "source": [
    "#來解解可能遇到的JSON格式"
   ]
  },
  {
   "cell_type": "markdown",
   "metadata": {},
   "source": [
    "要引的套件先進來"
   ]
  },
  {
   "cell_type": "code",
   "execution_count": 1,
   "metadata": {
    "collapsed": false
   },
   "outputs": [
    {
     "name": "stdout",
     "output_type": "stream",
     "text": [
      "Populating the interactive namespace from numpy and matplotlib\n"
     ]
    }
   ],
   "source": [
    "%pylab inline\n",
    "import requests  ##爬進來用的\n",
    "import pandas as pd\n",
    "import datetime\n",
    "from pyquery import PyQuery ##處理html,譬如說想要找什麼"
   ]
  },
  {
   "cell_type": "markdown",
   "metadata": {},
   "source": [
    "###PChome 想要搜尋的東西\n",
    "然後去把資料抓下來"
   ]
  },
  {
   "cell_type": "code",
   "execution_count": 2,
   "metadata": {
    "collapsed": true
   },
   "outputs": [],
   "source": [
    "ob=\"apple\"\n",
    "res=requests.get(\"http://ecshweb.pchome.com.tw/search/v3.3/?q=%s\"%ob)"
   ]
  },
  {
   "cell_type": "code",
   "execution_count": 3,
   "metadata": {
    "collapsed": false
   },
   "outputs": [
    {
     "data": {
      "text/plain": [
       "'ISO-8859-1'"
      ]
     },
     "execution_count": 3,
     "metadata": {},
     "output_type": "execute_result"
    }
   ],
   "source": [
    "res.encoding"
   ]
  },
  {
   "cell_type": "markdown",
   "metadata": {},
   "source": [
    "##再來的目標是看看裡面有沒有表格 >> table"
   ]
  },
  {
   "cell_type": "code",
   "execution_count": 4,
   "metadata": {
    "collapsed": false
   },
   "outputs": [
    {
     "data": {
      "text/plain": [
       "u'<!DOCTYPE html PUBLIC \"-//W3C//DTD XHTML 1.0 Transitional//EN\" \"http://www.w3.org/TR/xhtml1/DTD/xhtml1-transitional.dtd\">\\n<html xmlns=\"http://www.w3.org/1999/xhtml\">\\n<head>\\n<meta http-equiv=\"Content-Type\" content=\"text/html; charset=UTF-8\"/>\\n<meta name=\"baidu-site-verification\" content=\"CPfgp1JzxusG1iSc\" />\\n<title>PChome \\xe7\\xb7\\x9a\\xe4\\xb8\\x8a\\xe8\\xb3\\xbc\\xe7\\x89\\xa9 - \\xe5\\x95\\x86\\xe5\\x93\\x81\\xe6\\x90\\x9c\\xe5\\xb0\\x8b</title>\\n<link href=\"/opensearch_shopping.xml\" rel=\"search\" type=\"application/opensearchdescription+xml\" title=\"PChome \\xe7\\xb7\\x9a\\xe4\\xb8\\x8a\\xe8\\xb3\\xbc\\xe7\\x89\\xa9 \\xe5\\x95\\x86\\xe5\\x93\\x81\\xe6\\x90\\x9c\\xe5\\xb0\\x8b\"/>\\n<link type=\"text/css\" href=\"/min/g=v3.2shcss&20150114\" rel=\"stylesheet\">\\n<script type=\"text/javascript\" src=\"/min/g=v3.3shjs&20150324\"></script>\\n</head>\\n<body>\\n<div id=\"GLOBALWRAPPER\" class=\"prod_w\">\\n<div id=\"WRAPPER\" class=\"style_shopping\">\\n\\n<!-- HEADER start -->\\n<div id=\"HEADER\">\\n<div class=\"clearfix\">\\n<h1 class=\"logotype left relative\">\\n  <a class=\"prod\" href=\"http://shopping.pchome.com.tw/\">PChome\\xe7\\xb7\\x9a\\xe4\\xb8\\x8a\\xe8\\xb3\\xbc\\xe7\\x89\\xa9</a>\\n  <a class=\"sp absolute\" href=\"http://shopping.pchome.com.tw\">\\xe5\\x9b\\x9e\\xe9\\xa6\\x96\\xe9\\xa0\\x81</a>\\n</h1>\\n<div class=\"site_tool relative\">\\n<sup></sup>\\n<ul class=\"bar_nav absolute\">\\n  <li><a href=\"http://shopping.pchome.com.tw/\">\\xe7\\xb7\\x9a\\xe4\\xb8\\x8a\\xe8\\xb3\\xbc\\xe7\\x89\\xa9</a></li>\\n  <li><a href=\"http://24h.pchome.com.tw/\">24h\\xe8\\xb3\\xbc\\xe7\\x89\\xa9</a></li>\\n  <li><a href=\"http://mall.pchome.com.tw/\">\\xe8\\xb3\\xbc\\xe7\\x89\\xa9\\xe4\\xb8\\xad\\xe5\\xbf\\x83</a></li>\\n  <li><a href=\"http://24h.pchome.com.tw/books\">\\xe6\\x9b\\xb8\\xe5\\xba\\x97</a></li>\\n  <li><a class=\"sp\" href=\"http://global.pchome.com.tw\">\\xe5\\x85\\xa8\\xe7\\x90\\x83\\xe8\\xb3\\xbc\\xe7\\x89\\xa9</a></li>\\n</ul>\\n<ul class=\"bar_service absolute\">\\n  <li><a href=\"http://shopping.pchome.com.tw/?mod=store&func=choice_buy&page_url=shopping&NO=D&C=D\" class=\"cart\">\\xe8\\xb3\\xbc\\xe7\\x89\\xa9\\xe8\\xbb\\x8a</a></li>\\n  <li><a href=\"https://ecvip.pchome.com.tw/\">\\xe9\\xa1\\xa7\\xe5\\xae\\xa2\\xe4\\xb8\\xad\\xe5\\xbf\\x83</a></li>\\n  <li><a href=\"https://ecvip.pchome.com.tw/?m=vendor\">\\xe5\\xbb\\xa0\\xe5\\x95\\x86\\xe5\\x90\\x88\\xe4\\xbd\\x9c</a></li>\\n  <li><a href=\"javascript:(location.href= \\'https://ecvip.pchome.com.tw/?m=myaccount&c=service&f=showBugService&url=\\'+base64encode(window.location.href))\">\\xe6\\x95\\x85\\xe9\\x9a\\x9c\\xe9\\x80\\x9a\\xe5\\xa0\\xb1</a></li>\\n  <li><a href=\"http://www.pchome.com.tw/\">PChome</a></li>\\n</ul>\\n</div>\\n</div>\\n</div>\\n<!-- HEADER end -->\\n\\n<div id=\"CONTENT\">\\n<!-- block_N start -->\\n<dl class=\"block_N clearfix\">\\n<dd class=\"n1\">\\n<ul class=\"path clearfix\">\\n  <li><a href=\"http://www.pchome.com.tw\">PChome</a> &gt;</li>\\n  <li><a href=\"http://shopping.pchome.com.tw\">\\xe7\\xb7\\x9a\\xe4\\xb8\\x8a\\xe8\\xb3\\xbc\\xe7\\x89\\xa9</a> &gt;</li>\\n  <li><span>\\xe5\\x95\\x86\\xe5\\x93\\x81\\xe6\\x90\\x9c\\xe5\\xb0\\x8b\\xe7\\xb5\\x90\\xe6\\x9e\\x9c</span></li>\\n</ul>\\n</dd>\\n\\n<dd class=\"n2\">\\n<div class=\"bar_search site_corner cor1px \">\\n<sup class=\"l\"></sup><sup class=\"r\"></sup>\\n<sub class=\"l\"></sub><sub class=\"r\"></sub>\\n<div class=\"left\">\\n<input type=\"text\" class=\"text left\" id=\"keyword\" autocomplete=\"off\" x-webkit-speech=\"\" x-webkit-grammar=\"builtin:translate\" />\\n<b class=\"ico arrow\"></b>\\n<div class=\"slideNav absolute\">\\n  <b class=\"ico close\"></b>\\n  <p>\\xe6\\x90\\x9c\\xe5\\xb0\\x8b\\xe7\\x9a\\x84\\xe6\\xa2\\x9d\\xe4\\xbb\\xb6</p>\\n  <div class=\"form\">\\n    <input id=\"slideNav_keyword\" type=\"text\" class=\"text\"/>\\n  </div>\\n  <p>\\xe6\\x8e\\x92\\xe9\\x99\\xa4\\xe7\\x9a\\x84\\xe6\\xa2\\x9d\\xe4\\xbb\\xb6</p>\\n  <div class=\"form\">\\n    <input id=\"slideNav_exclude\" type=\"text\" class=\"text\"/>\\n  </div>\\n  <div class=\"form tr\">\\n    <input id=\"slideNav_btn\" type=\"button\" value=\"Search\" class=\"button\" />\\n  </div>\\n</div>\\n<input type=\"button\" class=\"button\" id=\"btn_search\" value=\"\\xe6\\x89\\xbe\\xe5\\x95\\x86\\xe5\\x93\\x81\" />\\n</div>\\n<a href=\"https://ecvip.pchome.com.tw/?m=myaccount&c=service&f=showSearchService\">\\xe8\\xb2\\xb7\\xe4\\xb8\\x8d\\xe5\\x88\\xb0\\xe9\\x80\\x9a\\xe7\\x9f\\xa5\\xe6\\x88\\x91\\xef\\xbc\\x81</a>\\n</div>\\n  <p class=\"absolute\" id=\"SearchInfo\"></p>\\n</dd>\\n\\n<dd class=\"n3\">\\n<p class=\"unblock\">\\xe6\\x82\\xa8\\xe6\\x98\\xaf\\xe4\\xb8\\x8d\\xe6\\x98\\xaf\\xe8\\xa6\\x81\\xe6\\x9f\\xa5\\xef\\xbc\\x9a<span id=\"SpellCheckContainer\"></span></p>\\n<dl class=\"prod_keyword\">\\n  <dd><ul id=\"TagsContainer\" class=\"clearfix\"></ul></dd>\\n</dl>\\n</dd>\\n</dl>\\n<!-- block_N end -->\\n\\n<div class=\"clearfix\">\\n<!-- block_W start -->\\n<dl class=\"block_W sidebar\">\\n  <dt>\\xe4\\xbe\\x9d\\xe9\\xa4\\xa8\\xe5\\x88\\xa5\\xe9\\xa1\\xaf\\xe7\\xa4\\xba\\xe2\\x86\\x93</dt>\\n  <dd class=\"treeview\" id=\"CategoryContainer\"></dd>\\n</dl>\\n<!-- block_W end -->\\n\\n<!-- block_C start -->\\n<div class=\"block_C\">\\n<dl class=\"prod_list\">\\n  <dd id=\"SwitchBar\" class=\"bar_showmode\">\\n    <dl class=\"left\">\\n      <dt>\\xe6\\x90\\x9c\\xe5\\xb0\\x8b\\xef\\xbc\\x9a</dt>\\n      <dd class=\"Scope\"><a href=\"javascript:void(0);\">\\xe5\\x85\\xa8\\xe9\\x83\\xa8</a></dd>\\n      <dd class=\"Scope\"><a href=\"javascript:void(0);\">24H</a></dd>\\n      <dd class=\"Scope\"><a href=\"javascript:void(0);\">24H\\xe6\\x9b\\xb8\\xe5\\xba\\x97</a></dd>\\n      <dd class=\"Scope clear_line\"><a href=\"javascript:void(0);\">\\xe8\\xb3\\xbc\\xe7\\x89\\xa9\\xe4\\xb8\\xad\\xe5\\xbf\\x83</a></dd>\\n    </dl>\\n    <dl class=\"right\">\\n      <dt>\\xe6\\x8e\\x92\\xe5\\xba\\x8f\\xef\\xbc\\x9a</dt>\\n      <dd class=\"Sort\"><a href=\"javascript:void(0);\">\\xe7\\xb2\\xbe\\xe6\\xba\\x96\\xe5\\xba\\xa6</a></dd>\\n      <dd class=\"Sort\"><a href=\"javascript:void(0);\">\\xe6\\x9c\\x89\\xe8\\xb2\\xa8\\xe5\\x84\\xaa\\xe5\\x85\\x88</a></dd>\\n      <dd class=\"Sort\"><a href=\"javascript:void(0);\">\\xe5\\x83\\xb9\\xe9\\x8c\\xa2\\xe7\\x94\\xb1\\xe9\\xab\\x98\\xe8\\x87\\xb3\\xe4\\xbd\\x8e</a></dd>\\n      <dd class=\"Sort\"><a href=\"javascript:void(0);\">\\xe5\\x83\\xb9\\xe9\\x8c\\xa2\\xe7\\x94\\xb1\\xe4\\xbd\\x8e\\xe8\\x87\\xb3\\xe9\\xab\\x98</a></dd>\\n      <dd class=\"Sort clear_line\"><a href=\"javascript:void(0);\">\\xe6\\x96\\xb0\\xe4\\xb8\\x8a\\xe5\\xb8\\x82</a></dd>\\n    </dl>\\n  </dd>\\n  <dd class=\"bar_spinbtn\">\\n    \\xe5\\x83\\xb9\\xe6\\xa0\\xbc\\xe7\\xaf\\x84\\xe5\\x9c\\x8d\\xef\\xbc\\x9a\\n    <input type=\"text\" class=\"spinbtn text\" id=\"MinPrice\"/>\\xef\\xbd\\x9e\\n    <input type=\"text\" class=\"spinbtn text\" id=\"MaxPrice\"/>\\n    <input id=\"btn_PRC\" type=\"button\" class=\"button btn_PRC\" value=\"\\xe6\\x90\\x9c\\xe5\\xb0\\x8b\"/>\\n  </dd>\\n  <dd id=\"notfound_cate\" class=\"bar_noclass tc unblock\">\\xe6\\x9c\\xac\\xe9\\xa1\\x9e\\xe5\\x88\\xa5\\xe6\\x90\\x9c\\xe5\\xb0\\x8b\\xe4\\xb8\\x8d\\xe5\\x88\\xb0\\xe6\\x82\\xa8\\xe8\\xa6\\x81\\xe7\\x9a\\x84\\xe5\\x95\\x86\\xe5\\x93\\x81\\xef\\xbc\\x81</dd>\\n  <dd id=\"notfound\" class=\"bar_noprod unblock\">\\xe6\\x89\\xbe\\xe4\\xb8\\x8d\\xe5\\x88\\xb0\\xe8\\x88\\x87<b id=\"noprod\"></b>\\xe6\\x9c\\x89\\xe9\\x97\\x9c\\xe7\\x9a\\x84\\xe7\\x94\\xa2\\xe5\\x93\\x81</dd>\\n  <dd id=\"ItemContainer\"></dd>\\n</dl>\\n<div id=\"DataLoader\" class=\"ui-loading unblock\">\\n  <ul><li><span class=\"loading bert\"></span></li></ul>\\n</div>\\n<div class=\"bar_pgnumber\">\\n  <p id=\"MoreInfo\" class=\"tc unblock\">\\xe7\\x94\\xb1\\xe6\\x96\\xbc\\xe6\\x90\\x9c\\xe5\\xb0\\x8b\\xe7\\xb5\\x90\\xe6\\x9e\\x9c\\xe7\\xad\\x86\\xe6\\x95\\xb8\\xe8\\xbc\\x83\\xe5\\xa4\\x9a\\xef\\xbc\\x8c\\xe5\\xbb\\xba\\xe8\\xad\\xb0\\xe6\\x82\\xa8\\xe8\\xaa\\xbf\\xe6\\x95\\xb4\\xe6\\x8e\\x92\\xe5\\xba\\x8f\\xe6\\x96\\xb9\\xe5\\xbc\\x8f \\xe6\\x88\\x96 \\xe7\\xaf\\xa9\\xe9\\x81\\xb8\\xe5\\x95\\x86\\xe5\\x93\\x81\\xe5\\x88\\x86\\xe9\\xa1\\x9e <a class=\"goTop\" href=\"javascript:void(0);\">\\xe5\\x9b\\x9e\\xe9\\xa0\\x82\\xe9\\x83\\xa8\\xe8\\xa8\\xad\\xe5\\xae\\x9a\\xe2\\x86\\x91</a></p>\\n</div>\\n</div>\\n<!-- block_C end -->\\n</div>\\n\\n<!-- bt_top start -->\\n<div class=\"bt_top\"><a class=\"goTop\" href=\"javascript:void(0);\">\\xe2\\x96\\xb3\\xe5\\x9b\\x9eTOP</a></div>\\n<!-- bt_top end -->\\n</div>\\n<!-- CONTENT end -->\\n\\n<!-- FOOTER start -->\\n<div id=\"FOOTER\">\\n  <p><a href=\"http://shopping.pchome.com.tw\">PChome\\xe7\\xb7\\x9a\\xe4\\xb8\\x8a\\xe8\\xb3\\xbc\\xe7\\x89\\xa9</a><b>-</b>\\xe7\\xb6\\xb2\\xe8\\xb7\\xaf\\xe5\\xae\\xb6\\xe5\\xba\\xad\\xe5\\x9c\\x8b\\xe9\\x9a\\x9b\\xe8\\xb3\\x87\\xe8\\xa8\\x8a\\xe8\\x82\\xa1\\xe4\\xbb\\xbd\\xe6\\x9c\\x89\\xe9\\x99\\x90\\xe5\\x85\\xac\\xe5\\x8f\\xb8 \\xe7\\x89\\x88\\xe6\\xac\\x8a\\xe6\\x89\\x80\\xe6\\x9c\\x89\\xe2\\x80\\xa7\\xe8\\xbd\\x89\\xe8\\xbc\\x89\\xe5\\xbf\\x85\\xe7\\xa9\\xb6\\n  <a class=\"sp\" href=\"http://faq.pchome.com.tw/faq_solution.html?q_id=16&c_nickname=member&f_id=4\">\\xe9\\x9a\\xb1\\xe7\\xa7\\x81\\xe6\\xac\\x8a\\xe8\\x81\\xb2\\xe6\\x98\\x8e</a></p>\\n  <p>106 \\xe5\\x8f\\xb0\\xe5\\x8c\\x97\\xe5\\xb8\\x82\\xe5\\xa4\\xa7\\xe5\\xae\\x89\\xe5\\x8d\\x80\\xe6\\x95\\xa6\\xe5\\x8c\\x96\\xe5\\x8d\\x97\\xe8\\xb7\\xaf\\xe4\\xba\\x8c\\xe6\\xae\\xb5105\\xe8\\x99\\x9f12\\xe6\\xa8\\x93\\xe3\\x80\\x80\\xe9\\x9b\\xbb\\xe8\\xa9\\xb1(\\xe4\\xb8\\x8a\\xe7\\x8f\\xad\\xe6\\x99\\x82\\xe9\\x96\\x93)\\xef\\xbc\\x9a02-2326-1460<span>(\\xe6\\x9c\\xac\\xe5\\x85\\xac\\xe5\\x8f\\xb8\\xe4\\xb8\\x8d\\xe6\\x9c\\x83\\xe4\\xbb\\xa5\\xe6\\xad\\xa4\\xe9\\x9b\\xbb\\xe8\\xa9\\xb1\\xe8\\x99\\x9f\\xe7\\xa2\\xbc\\xe6\\x92\\xa5\\xe6\\x89\\x93\\xe7\\xb5\\xa6\\xe6\\x82\\xa8\\xef\\xbc\\x8c\\xe5\\xa6\\x82\\xe6\\x9c\\x89\\xe4\\xbe\\x86\\xe9\\x9b\\xbb\\xe9\\xa1\\xaf\\xe7\\xa4\\xba\\xe6\\xad\\xa4\\xe8\\x99\\x9f\\xe7\\xa2\\xbc\\xef\\xbc\\x8c\\xe8\\xab\\x8b\\xe5\\x8b\\xbf\\xe7\\x90\\x86\\xe6\\x9c\\x83)</span></p>\\n  <p class=\"sp\">PChome and PChome Online are trademarks of PChome Online Inc.</p>\\n</div>\\n<!-- FOOTER end -->\\n\\n<!--cart start-->\\n<div id=\"cart\" class=\"site_cart\">\\n  <span id=\"CartLoader\" class=\"the_result\">\\xe5\\x8a\\xa0\\xe5\\x85\\xa5\\xe8\\xb3\\xbc\\xe7\\x89\\xa9\\xe8\\xbb\\x8a\\xe4\\xb8\\xad...</span>\\n  <a id=\"CartBox\" class=\"cart_box\" href=\"http://shopping.pchome.com.tw/?mod=store&func=choice_buy&page_url=shopping&NO=D&C=D\">\\n    <span class=\"price\"></span>\\n    <span class=\"number\"></span>\\n    <span class=\"check\">\\xe7\\xb5\\x90\\xe5\\xb8\\xb3&gt;</span>\\n  </a>\\n</div>\\n<!--cart end-->\\n<dl id=\"RecordList\" class=\"site_record unblock\">\\n  <dd class=\"head\">\\n    <span>\\xe7\\x80\\x8f\\xe8\\xa6\\xbd\\xe7\\xb4\\x80\\xe9\\x8c\\x84</span>\\n    <span id=\"RecordClosing\" class=\"ico close\">\\xc3\\x97</span>\\n  </dd>\\n  <dd class=\"body\"><ul class=\"col2f\"></ul></dd>\\n  <dd id=\"RecordFooter\" class=\"foot\">\\n    <a href=\"https://ecvip.pchome.com.tw/?0x3aeac70a06872cfa63d19a20ea6eaf67e2e2bd7c2e68123d2b5669f3bdd69b313d405cc47a96cac9\" target=\"_blank\"><span>more&gt;</span></a>\\n  </dd>\\n</dl>\\n</div>\\n</div>\\n</body>\\n</html>\\n'"
      ]
     },
     "execution_count": 4,
     "metadata": {},
     "output_type": "execute_result"
    }
   ],
   "source": [
    "res.text #可以看到裡面的資料"
   ]
  },
  {
   "cell_type": "markdown",
   "metadata": {},
   "source": [
    "送給熱心的PyQuery，來幫我們處理"
   ]
  },
  {
   "cell_type": "code",
   "execution_count": 5,
   "metadata": {
    "collapsed": true
   },
   "outputs": [],
   "source": [
    "S=PyQuery(res.text)"
   ]
  },
  {
   "cell_type": "markdown",
   "metadata": {},
   "source": [
    "來check一下"
   ]
  },
  {
   "cell_type": "code",
   "execution_count": 6,
   "metadata": {
    "collapsed": false
   },
   "outputs": [
    {
     "data": {
      "text/plain": [
       "pyquery.pyquery.PyQuery"
      ]
     },
     "execution_count": 6,
     "metadata": {},
     "output_type": "execute_result"
    }
   ],
   "source": [
    "type(S)"
   ]
  },
  {
   "cell_type": "markdown",
   "metadata": {},
   "source": [
    "###重點來了！！我要表格！！"
   ]
  },
  {
   "cell_type": "code",
   "execution_count": 7,
   "metadata": {
    "collapsed": false
   },
   "outputs": [
    {
     "data": {
      "text/plain": [
       "[]"
      ]
     },
     "execution_count": 7,
     "metadata": {},
     "output_type": "execute_result"
    }
   ],
   "source": [
    "S(\"table\")"
   ]
  },
  {
   "cell_type": "markdown",
   "metadata": {},
   "source": [
    "沒有！！沒有就是沒有！\n",
    "\n",
    "---\n",
    "<h1 style=\"color:#FF7777; margin-left: 100px\">本文開始</h1>"
   ]
  },
  {
   "cell_type": "markdown",
   "metadata": {},
   "source": [
    "<h3>愛用Google Chrome Developer Tool</h3>檢視-->開發人員選項-->開發人員工具\n",
    "\n",
    "看要怎麼把跑不出來的JS逼出來\n",
    "\n",
    "![Google Chrome Developer tool](files/googledev.png)"
   ]
  },
  {
   "cell_type": "markdown",
   "metadata": {},
   "source": [
    "去找出例如XHR裡面的動作，點進去看Response，然後從\"數字\"看世界，用\"眼睛\"比一比，看哪一個是代表哪一個table。\n",
    "\n",
    "然後找出你要的，從Headers截URL"
   ]
  },
  {
   "cell_type": "markdown",
   "metadata": {},
   "source": [
    "##接下來請把網址美化\n",
    "http://ecshweb.pchome.com.tw/search/v3.3/all/results?q=apple&page=1&sort=rnk/dc&callback=jQuery171013300529634580016_1428844735717"
   ]
  },
  {
   "cell_type": "markdown",
   "metadata": {},
   "source": [
    "\n",
    "1. 貼到網址欄上\n",
    "    * “?”後面代表參數，可以用各種方法殺了他們\n",
    "    * \"&\"是連接詞，連接不同變數\n",
    "    * 最後\n",
    "    http://ecshweb.pchome.com.tw/search/v3.3/all/results?q=apple\n",
    "    \n",
    "2. 一副”字典“樣(dict),才是我們要的\n",
    "\n",
    "    {\"Id\":\"DGALOL-A9005UIC7\",\"cateId\":\"DYAJ02\",\"picS\":\"\\/pic\\/v1\\/data\\/item\\/201501\\/D\\/G\\/A\\/L\\/O\\/L\\/sDGALOL-A9005UIC7000_54c21bc8dda97\",\"picB\":\"\\/pic\\/v1\\/data\\/item\\/201504\\/D\\/G\\/A\\/L\\/O\\/L\\/DGALOL-A9005UIC7000_55266f056b955.jpg\",\"name\":\"Apple iPhone 5s (32G)\",\"describe\":\"\\u25e44\\/10 \\u6574\\u9ede\\u7279\\u8ce3 \\u25e2Apple iPhone 5s (32G)\",\"price\":18900,\"author\":\"\",\"brand\":\"\",\"publishDate\":\"\",\"isPick\":0}\n",
    "    \n",
    "3. 字典樣-->JSON"
   ]
  },
  {
   "cell_type": "markdown",
   "metadata": {},
   "source": [
    "###來爬爬看"
   ]
  },
  {
   "cell_type": "code",
   "execution_count": 8,
   "metadata": {
    "collapsed": true
   },
   "outputs": [],
   "source": [
    "res_pchome=requests.get(\"http://ecshweb.pchome.com.tw/search/v3.3/all/results?q=apple\")"
   ]
  },
  {
   "cell_type": "code",
   "execution_count": 9,
   "metadata": {
    "collapsed": false
   },
   "outputs": [
    {
     "data": {
      "text/plain": [
       "u'{\"QTime\":81,\"totalRows\":43051,\"totalPage\":2153,\"range\":{\"min\":21,\"max\":205000},\"cateName\":\"\",\"q\":\"apple\",\"subq\":\"\",\"token\":[\"apple\"],\"prods\":[{\"Id\":\"DGBWAV-A9005RJBR\",\"cateId\":\"DGBWAV\",\"picS\":\"\\\\/pic\\\\/v1\\\\/data\\\\/item\\\\/201412\\\\/D\\\\/G\\\\/B\\\\/W\\\\/A\\\\/V\\\\/sDGBWAV-A9005RJBR000_54915252218fe.jpg\",\"picB\":\"\\\\/pic\\\\/v1\\\\/data\\\\/item\\\\/201412\\\\/D\\\\/G\\\\/B\\\\/W\\\\/A\\\\/V\\\\/DGBWAV-A9005RJBR000_549152521f5cc.jpg\",\"name\":\"Apple iPad Air2 WiFi 64G\",\"describe\":\"Apple iPad Air2 WiFi 64G \",\"price\":18900,\"author\":\"\",\"brand\":\"\",\"publishDate\":\"\",\"isPick\":0},{\"Id\":\"DGALUM-A9005P5AN\",\"cateId\":\"DYAJ2J\",\"picS\":\"\\\\/pic\\\\/v1\\\\/data\\\\/item\\\\/201411\\\\/D\\\\/G\\\\/A\\\\/L\\\\/U\\\\/M\\\\/sDGALUM-A9005P5AN000_546da5a74a953.jpg\",\"picB\":\"\\\\/pic\\\\/v1\\\\/data\\\\/item\\\\/201411\\\\/D\\\\/G\\\\/A\\\\/L\\\\/U\\\\/M\\\\/DGALUM-A9005P5AN000_546da5a747b5a.jpg\",\"name\":\"Apple iPhone 6 Plus (64G)\",\"describe\":\"\\\\u2605\\\\u71b1\\\\u92b7\\\\u73fe\\\\u8ca8\\\\u5230!!!\\\\u2605Apple iPhone 6 Plus (64G)\",\"price\":29700,\"author\":\"\",\"brand\":\"\",\"publishDate\":\"\",\"isPick\":0},{\"Id\":\"DGAX73-A9005Y942\",\"cateId\":\"DGAX73\",\"picS\":\"\\\\/pic\\\\/v1\\\\/data\\\\/item\\\\/201503\\\\/D\\\\/G\\\\/A\\\\/X\\\\/7\\\\/3\\\\/sDGAX73-A9005Y942000_54fea751b251a\",\"picB\":\"\\\\/pic\\\\/v1\\\\/data\\\\/item\\\\/201504\\\\/D\\\\/G\\\\/A\\\\/X\\\\/7\\\\/3\\\\/DGAX73-A9005Y942000_5538cead36ead.jpg\",\"name\":\"Apple TV(MD199TA\\\\/A)\",\"describe\":\"\\\\u25e4\\\\u9031\\\\u672b\\\\u5927\\\\u653e\\\\u9001\\\\u25e2 Apple TV(MD199TA\\\\/A) \",\"price\":2399,\"author\":\"\",\"brand\":\"\",\"publishDate\":\"\",\"isPick\":0},{\"Id\":\"DCACCW-A90059PL1\",\"cateId\":\"DCACCW\",\"picS\":\"\\\\/pic\\\\/v1\\\\/data\\\\/item\\\\/201407\\\\/D\\\\/C\\\\/A\\\\/C\\\\/C\\\\/W\\\\/sDCACCW-A90059PL1000_53b2684f8a906.jpg\",\"picB\":\"\\\\/pic\\\\/v1\\\\/data\\\\/item\\\\/201504\\\\/D\\\\/C\\\\/A\\\\/C\\\\/C\\\\/W\\\\/DCACCW-A90059PL1000_55233a5cac62d.jpg\",\"name\":\"Apple Lightning 8pin \\\\u539f\\\\u5ee0\\\\u50b3\\\\u8f38\\\\u7dda iPhone \\\\/ iPad \\\\/ iPod (\\\\u7c21\\\\u5305\\\\u88dd)\",\"describe\":\"\\\\u539f\\\\u50f9$690\\\\u2198\\\\u9650\\\\u6642\\\\u964dApple Lightning 8pin APPLE\\\\u539f\\\\u5ee0\\\\u50b3\\\\u8f38\\\\u7dda(\\\\u7c21\\\\u6613\\\\u5305\\\\u88dd\\\\u7248)\",\"price\":420,\"author\":\"\",\"brand\":\"\",\"publishDate\":\"\",\"isPick\":0},{\"Id\":\"DGALOL-A9005UIC7\",\"cateId\":\"DYAJ2O\",\"picS\":\"\\\\/pic\\\\/v1\\\\/data\\\\/item\\\\/201501\\\\/D\\\\/G\\\\/A\\\\/L\\\\/O\\\\/L\\\\/sDGALOL-A9005UIC7000_54c21bc8dda97\",\"picB\":\"\\\\/pic\\\\/v1\\\\/data\\\\/item\\\\/201504\\\\/D\\\\/G\\\\/A\\\\/L\\\\/O\\\\/L\\\\/DGALOL-A9005UIC7000_552b1ef70c655.jpg\",\"name\":\"Apple iPhone 5s (32G)\",\"describe\":\"Apple iPhone 5s (32G)\",\"price\":19900,\"author\":\"\",\"brand\":\"\",\"publishDate\":\"\",\"isPick\":0},{\"Id\":\"DGALU9-A9005TJEP\",\"cateId\":\"DYAJ2N\",\"picS\":\"\\\\/pic\\\\/v1\\\\/data\\\\/item\\\\/201501\\\\/D\\\\/G\\\\/A\\\\/L\\\\/U\\\\/9\\\\/sDGALU9-A9005TJEP000_54b4cf15b6c6b.png\",\"picB\":\"\\\\/pic\\\\/v1\\\\/data\\\\/item\\\\/201501\\\\/D\\\\/G\\\\/A\\\\/L\\\\/U\\\\/9\\\\/DGALU9-A9005TJEP000_54b4cf15ae803.png\",\"name\":\"Apple iPhone 6 (64G)\",\"describe\":\"\\\\u2605\\\\u71b1\\\\u92b7\\\\u73fe\\\\u8ca8\\\\u5230!!\\\\u2605Apple iPhone 6 (64G)\",\"price\":25900,\"author\":\"\",\"brand\":\"\",\"publishDate\":\"\",\"isPick\":0},{\"Id\":\"DGALUM-A9005TJES\",\"cateId\":\"DYAJ2J\",\"picS\":\"\\\\/pic\\\\/v1\\\\/data\\\\/item\\\\/201501\\\\/D\\\\/G\\\\/A\\\\/L\\\\/U\\\\/M\\\\/sDGALUM-A9005TJES000_54b4cf79a5b12.jpg\",\"picB\":\"\\\\/pic\\\\/v1\\\\/data\\\\/item\\\\/201501\\\\/D\\\\/G\\\\/A\\\\/L\\\\/U\\\\/M\\\\/DGALUM-A9005TJES000_54b4cf79a01aa.jpg\",\"name\":\"Apple iPhone 6 Plus (64G)\",\"describe\":\"\\\\u2605\\\\u71b1\\\\u92b7\\\\u73fe\\\\u8ca8\\\\u5230!!!\\\\u2605Apple iPhone 6 Plus (64G)\",\"price\":29500,\"author\":\"\",\"brand\":\"\",\"publishDate\":\"\",\"isPick\":0},{\"Id\":\"DCACCW-A90060F86\",\"cateId\":\"DCACCW\",\"picS\":\"\\\\/pic\\\\/v1\\\\/data\\\\/item\\\\/201504\\\\/D\\\\/C\\\\/A\\\\/C\\\\/C\\\\/W\\\\/sDCACCW-A90060F86000_552546367c598.jpg\",\"picB\":\"\\\\/pic\\\\/v1\\\\/data\\\\/item\\\\/201504\\\\/D\\\\/C\\\\/A\\\\/C\\\\/C\\\\/W\\\\/DCACCW-A90060F86000_5539a8140e5ec.jpg\",\"name\":\"\\\\u3010yellowknife \\\\u9ec3\\\\u5200\\\\u3011MFi\\\\u539f\\\\u5ee0\\\\u8a8d\\\\u8b49 Apple Lightning \\\\u5145\\\\u96fb\\\\u50b3\\\\u8f38\\\\u7dda (1M) \\\\u767d\",\"describe\":\"\\\\u3010yellowknife \\\\u9ec3\\\\u5200\\\\u3011iPhone6\\\\/6PLUS\\\\u30015S\\\\/5C\\\\/5\\\\u3001iPad\\\\u3001iPod\\\\u5c08\\\\u7528 Lightning \\\\u5145\\\\u96fb\\\\u50b3\\\\u8f38\\\\u7dda (\\\\u767d\\\\u8272) 1M\",\"price\":499,\"author\":\"\",\"brand\":\"\",\"publishDate\":\"\",\"isPick\":0},{\"Id\":\"DGALU9-A9005I8DG\",\"cateId\":\"DYAJ01\",\"picS\":\"\\\\/pic\\\\/v1\\\\/data\\\\/item\\\\/201410\\\\/D\\\\/G\\\\/A\\\\/L\\\\/U\\\\/9\\\\/sDGALU9-A9005I8DG000_543b6fb2b609b.png\",\"picB\":\"\\\\/pic\\\\/v1\\\\/data\\\\/item\\\\/201410\\\\/D\\\\/G\\\\/A\\\\/L\\\\/U\\\\/9\\\\/DGALU9-A9005I8DG000_543b6fb2b35a4.png\",\"name\":\"Apple iPhone 6 (16G)\",\"describe\":\"\\\\u2605\\\\u71b1\\\\u92b7\\\\u73fe\\\\u8ca8\\\\u5230\\\\u2605Apple iPhone 6 (16G)\",\"price\":22500,\"author\":\"\",\"brand\":\"\",\"publishDate\":\"\",\"isPick\":0},{\"Id\":\"DGBP9Z-A9005UAQH\",\"cateId\":\"DYAF18\",\"picS\":\"\\\\/pic\\\\/v1\\\\/data\\\\/item\\\\/201501\\\\/D\\\\/G\\\\/B\\\\/P\\\\/9\\\\/Z\\\\/sDGBP9Z-A9005UAQH000_54c09af85c83e.jpg\",\"picB\":\"\\\\/pic\\\\/v1\\\\/data\\\\/item\\\\/201501\\\\/D\\\\/G\\\\/B\\\\/P\\\\/9\\\\/Z\\\\/DGBP9Z-A9005UAQH000_54c09af85860c.jpg\",\"name\":\"Apple 8Pin & Micro USB \\\\u63a5\\\\u982d \\\\u4e8c\\\\u5408\\\\u4e00\\\\u5145\\\\u96fb\\\\u7dda(\\\\u984f\\\\u8272\\\\u96a8\\\\u6a5f)\",\"describe\":\"\\\\u4e8c\\\\u5408\\\\u4e00 \\\\u50b3\\\\u8f38\\\\u7dda \\\\u5145\\\\u96fb\\\\u7dda Apple Lightning 8Pin & Micro \\\\u63a5\\\\u982d \\\\u6241\\\\u7dda\\\\u578b \\\\u9069\\\\u7528\\\\u591a\\\\u6b3e\\\\u667a\\\\u6167\\\\u578b\\\\u624b\\\\u6a5f EX:Apple iPhone6 5 iPad mini iPad4 Samsung HTC Sony Nokia LG MOTO \",\"price\":188,\"author\":\"\",\"brand\":\"\",\"publishDate\":\"\",\"isPick\":0},{\"Id\":\"DGALU9-A9005RETE\",\"cateId\":\"DYAJ2N\",\"picS\":\"\\\\/pic\\\\/v1\\\\/data\\\\/item\\\\/201412\\\\/D\\\\/G\\\\/A\\\\/L\\\\/U\\\\/9\\\\/sDGALU9-A9005RETE000_548fd33c622b6.png\",\"picB\":\"\\\\/pic\\\\/v1\\\\/data\\\\/item\\\\/201412\\\\/D\\\\/G\\\\/A\\\\/L\\\\/U\\\\/9\\\\/DGALU9-A9005RETE000_548fd33c58e44.png\",\"name\":\"Apple iPhone 6 (64G)\",\"describe\":\"\\\\u2605\\\\u6436\\\\u624b\\\\u71b1\\\\u92b7\\\\u54c1!!\\\\u2605Apple iPhone 6 (64G)\",\"price\":26100,\"author\":\"\",\"brand\":\"\",\"publishDate\":\"\",\"isPick\":0},{\"Id\":\"DCAC62-A9005AHVO\",\"cateId\":\"DCAC62\",\"picS\":\"\\\\/pic\\\\/v1\\\\/data\\\\/item\\\\/201408\\\\/D\\\\/C\\\\/A\\\\/C\\\\/6\\\\/2\\\\/sDCAC62-A9005AHVO000_53feeecc978a7.jpg\",\"picB\":\"\\\\/pic\\\\/v1\\\\/data\\\\/item\\\\/201503\\\\/D\\\\/C\\\\/A\\\\/C\\\\/6\\\\/2\\\\/DCAC62-A9005AHVO000_5514cf0449f6c.jpg\",\"name\":\"APPLE\\\\u539f\\\\u5ee0\\\\u8a8d\\\\u8b49 Lightning \\\\u92c1\\\\u5408\\\\u91d1\\\\u7de8\\\\u7e54\\\\u5145\\\\u96fb\\\\u76f4\\\\u7dda-\\\\u92fc\\\\u9435\\\\u7070 1.2M(APL-WI056-GY)\",\"describe\":\"Apple \\\\u539f\\\\u5ee0\\\\u8a8d\\\\u8b49 iPhone 6 & iPhone 6Plus \\\\u92c1\\\\u5408\\\\u91d1\\\\u7de8\\\\u7e54\\\\u7dda(120cm)\\\\u592a\\\\u7a7a\\\\u7070\",\"price\":549,\"author\":\"\",\"brand\":\"\",\"publishDate\":\"\",\"isPick\":0},{\"Id\":\"DGBV4I-A9005YDVG\",\"cateId\":\"DGBV4I\",\"picS\":\"\\\\/pic\\\\/v1\\\\/data\\\\/item\\\\/201503\\\\/D\\\\/G\\\\/B\\\\/V\\\\/4\\\\/I\\\\/sDGBV4I-A9005YDVG000_55015bd4844bc.jpg\",\"picB\":\"\\\\/pic\\\\/v1\\\\/data\\\\/item\\\\/201503\\\\/D\\\\/G\\\\/B\\\\/V\\\\/4\\\\/I\\\\/DGBV4I-A9005YDVG000_55015bd4815cd.jpg\",\"name\":\"Apple iPad mini LTE 16GB(Wi-Fi+4G) - \\\\u767d\\\\u8272\",\"describe\":\"\\\\u2605\\\\u798f\\\\u5229\\\\u54c1\\\\u9650\\\\u91cf\\\\u51fa\\\\u6e05\\\\u2605  Apple iPad mini 16GB (Wi-Fi + Cellular)\\\\u767d\\\\u8272\",\"price\":8800,\"author\":\"\",\"brand\":\"\",\"publishDate\":\"\",\"isPick\":0},{\"Id\":\"DGBOC3-A9005GX9X\",\"cateId\":\"DGBOC3\",\"picS\":\"\\\\/pic\\\\/v1\\\\/data\\\\/item\\\\/201503\\\\/D\\\\/G\\\\/B\\\\/O\\\\/C\\\\/3\\\\/sDGBOC3-A9005GX9X000_550005b5e30c1.jpg\",\"picB\":\"\\\\/pic\\\\/v1\\\\/data\\\\/item\\\\/201503\\\\/D\\\\/G\\\\/B\\\\/O\\\\/C\\\\/3\\\\/DGBOC3-A9005GX9X000_550a9e106938d.jpg\",\"name\":\"Baseus Apple iphone6 Plus 5.5\\\\u540b \\\\u9251\\\\u58eb\\\\u7cfb\\\\u5217 \\\\u8d85\\\\u8584\\\\u96d9\\\\u91cd\\\\u6750\\\\u7b6bTPU+\\\\u91d1\\\\u5c6c\\\\u4fdd\\\\u8b77\\\\u6bbc\",\"describe\":\"BASEUS iPhone6 Plus 5.5\\\\u540b\\\\u5275\\\\u65b0\\\\u96d9\\\\u91cd\\\\u4fdd\\\\u8b77\",\"price\":648,\"author\":\"\",\"brand\":\"\",\"publishDate\":\"\",\"isPick\":0},{\"Id\":\"DGALUM-A9005T4TV\",\"cateId\":\"DYAJ2P\",\"picS\":\"\\\\/pic\\\\/v1\\\\/data\\\\/item\\\\/201501\\\\/D\\\\/G\\\\/A\\\\/L\\\\/U\\\\/M\\\\/sDGALUM-A9005T4TV000_54aced8d4a298.jpg\",\"picB\":\"\\\\/pic\\\\/v1\\\\/data\\\\/item\\\\/201501\\\\/D\\\\/G\\\\/A\\\\/L\\\\/U\\\\/M\\\\/DGALUM-A9005T4TV000_54aced8d477e8.jpg\",\"name\":\"APPLE iPhone 6 Plus 64G \\\\u62c6\\\\u5c01\\\\u5c55\\\\u793a\\\\u6a5f\",\"describe\":\"APPLE iPhone 6 Plus 64G \\\\u62c6\\\\u5c01\\\\u5c55\\\\u793a\\\\u6a5f  \",\"price\":27900,\"author\":\"\",\"brand\":\"\",\"publishDate\":\"\",\"isPick\":0},{\"Id\":\"DGBWAV-A9005VGC2\",\"cateId\":\"DGBWAV\",\"picS\":\"\\\\/pic\\\\/v1\\\\/data\\\\/item\\\\/201501\\\\/D\\\\/G\\\\/B\\\\/W\\\\/A\\\\/V\\\\/sDGBWAV-A9005VGC2000_54c9e93ed8af9.png\",\"picB\":\"\\\\/pic\\\\/v1\\\\/data\\\\/item\\\\/201501\\\\/D\\\\/G\\\\/B\\\\/W\\\\/A\\\\/V\\\\/DGBWAV-A9005VGC2000_54c9e93ed30b6.jpg\",\"name\":\"Apple iPad Air2 WiFi 16G\",\"describe\":\"Apple iPad Air2 WiFi 16G \",\"price\":15900,\"author\":\"\",\"brand\":\"\",\"publishDate\":\"\",\"isPick\":0},{\"Id\":\"DGBOC3-A9005HCV5\",\"cateId\":\"DGBOC3\",\"picS\":\"\\\\/pic\\\\/v1\\\\/data\\\\/item\\\\/201409\\\\/D\\\\/G\\\\/B\\\\/O\\\\/C\\\\/3\\\\/sDGBOC3-A9005HCV5000_54241a0c5d515.jpg\",\"picB\":\"\\\\/pic\\\\/v1\\\\/data\\\\/item\\\\/201409\\\\/D\\\\/G\\\\/B\\\\/O\\\\/C\\\\/3\\\\/DGBOC3-A9005HCV5000_54241a0c5b23d.jpg\",\"name\":\"VERUS Apple iphone6 Plus 5.5\\\\u540b \\\\u8d85\\\\u8584\\\\u96d9\\\\u4ef6\\\\u5f0f\\\\u91d1\\\\u5c6c\\\\u908a\\\\u6846\\\\u624b\\\\u6a5f\\\\u4fdd\\\\u8b77\\\\u6bbc\",\"describe\":\"VERUS iPhone6 Plus 5.5\\\\u540b \\\\u91d1\\\\u5c6c\\\\u52a0\\\\u77fd\\\\u81a0\\\\u96d9\\\\u91cd\\\\u9632\\\\u8b77\\\\u6bbc\",\"price\":1180,\"author\":\"\",\"brand\":\"\",\"publishDate\":\"\",\"isPick\":0},{\"Id\":\"DGALOL-A9005DLA7\",\"cateId\":\"DYAJ2R\",\"picS\":\"\\\\/pic\\\\/v1\\\\/data\\\\/item\\\\/201408\\\\/D\\\\/G\\\\/A\\\\/L\\\\/O\\\\/L\\\\/sDGALOL-A9005DLA7000_53f304dade024\",\"picB\":\"\\\\/pic\\\\/v1\\\\/data\\\\/item\\\\/201408\\\\/D\\\\/G\\\\/A\\\\/L\\\\/O\\\\/L\\\\/DGALOL-A9005DLA7000_53f304dad8e5e\",\"name\":\"Apple iPhone 5s 16G \\\\u62c6\\\\u5c01\\\\u798f\\\\u5229\\\\u54c1\",\"describe\":\"\\\\u3010\\\\u9001\\\\u5074\\\\u7ffb\\\\u76ae\\\\u59574\\\\u90782\\\\u3011Apple iPhone 5s 16G \\\\u62c6\\\\u5c01\\\\u798f\\\\u5229\\\\u54c1  \",\"price\":15900,\"author\":\"\",\"brand\":\"\",\"publishDate\":\"\",\"isPick\":0},{\"Id\":\"DGBOC7-A9005JUMX\",\"cateId\":\"DGBOC7\",\"picS\":\"\\\\/pic\\\\/v1\\\\/data\\\\/item\\\\/201411\\\\/D\\\\/G\\\\/B\\\\/O\\\\/C\\\\/7\\\\/sDGBOC7-A9005JUMX000_5458cee1c518b.jpg\",\"picB\":\"\\\\/pic\\\\/v1\\\\/data\\\\/item\\\\/201410\\\\/D\\\\/G\\\\/B\\\\/O\\\\/C\\\\/7\\\\/DGBOC7-A9005JUMX000_543c998739458.jpg\",\"name\":\"Rearth Apple iPhone 6 Plus (5.5\\\\u540b) Fusion \\\\u9ad8\\\\u8cea\\\\u611f\\\\u4fdd\\\\u8b77\\\\u6bbc(\\\\u900f\\\\u660e)\",\"describe\":\"Rearth Apple iPhone 6 Plus (5.5\\\\\") Fusion \\\\u9ad8\\\\u8cea\\\\u611f\\\\u4fdd\\\\u8b77\\\\u6bbc(\\\\u900f\\\\u660e)(\\\\u8d08\\\\u9001\\\\u4fdd\\\\u8b77\\\\u8cbc)\",\"price\":590,\"author\":\"\",\"brand\":\"\",\"publishDate\":\"\",\"isPick\":0},{\"Id\":\"DGBWAW-A9005VG9G\",\"cateId\":\"DGBWAW\",\"picS\":\"\\\\/pic\\\\/v1\\\\/data\\\\/item\\\\/201501\\\\/D\\\\/G\\\\/B\\\\/W\\\\/A\\\\/W\\\\/sDGBWAW-A9005VG9G000_54c9e5eed8fe2.jpg\",\"picB\":\"\\\\/pic\\\\/v1\\\\/data\\\\/item\\\\/201501\\\\/D\\\\/G\\\\/B\\\\/W\\\\/A\\\\/W\\\\/DGBWAW-A9005VG9G000_54c9e5eed68d3.jpg\",\"name\":\"Apple iPad mini3 Retina WiFi 64G\",\"describe\":\"Apple iPad mini3 Retina WiFi 64G\",\"price\":15900,\"author\":\"\",\"brand\":\"\",\"publishDate\":\"\",\"isPick\":0}]}'"
      ]
     },
     "execution_count": 9,
     "metadata": {},
     "output_type": "execute_result"
    }
   ],
   "source": [
    "res_pchome.text"
   ]
  },
  {
   "cell_type": "markdown",
   "metadata": {},
   "source": [
    "##把主角請出來"
   ]
  },
  {
   "cell_type": "code",
   "execution_count": 10,
   "metadata": {
    "collapsed": true
   },
   "outputs": [],
   "source": [
    "import json"
   ]
  },
  {
   "cell_type": "code",
   "execution_count": 11,
   "metadata": {
    "collapsed": true
   },
   "outputs": [],
   "source": [
    "data_json=json.loads(res_pchome.text)#令人感動，沒出錯代表他看懂了"
   ]
  },
  {
   "cell_type": "markdown",
   "metadata": {},
   "source": [
    "<h2 style=\"color: #F07777;text-align: center\">本文差不多結束</h2>\n",
    "\n",
    "---\n",
    "老樣子，有請熊貓來弄成表格"
   ]
  },
  {
   "cell_type": "code",
   "execution_count": 12,
   "metadata": {
    "collapsed": true
   },
   "outputs": [],
   "source": [
    "import pandas as pd"
   ]
  },
  {
   "cell_type": "code",
   "execution_count": 16,
   "metadata": {
    "collapsed": false
   },
   "outputs": [
    {
     "data": {
      "text/plain": [
       "{u'QTime': 144,\n",
       " u'cateName': u'',\n",
       " u'prods': [{u'Id': u'DGAX73-A9005Y942',\n",
       "   u'author': u'',\n",
       "   u'brand': u'',\n",
       "   u'cateId': u'DGAX73',\n",
       "   u'describe': u'\\u25e4\\u9031\\u672b\\u5927\\u653e\\u9001\\u25e2Apple TV(MD199TA/A) ',\n",
       "   u'isPick': 0,\n",
       "   u'name': u'Apple TV(MD199TA/A)',\n",
       "   u'picB': u'/pic/v1/data/item/201504/D/G/A/X/7/3/DGAX73-A9005Y942000_55274f1f1e4af.jpg',\n",
       "   u'picS': u'/pic/v1/data/item/201503/D/G/A/X/7/3/sDGAX73-A9005Y942000_54fea751b251a',\n",
       "   u'price': 2399,\n",
       "   u'publishDate': u''},\n",
       "  {u'Id': u'DGALOL-A9005UIC7',\n",
       "   u'author': u'',\n",
       "   u'brand': u'',\n",
       "   u'cateId': u'DYAJ02',\n",
       "   u'describe': u'\\u25e44/10 \\u6574\\u9ede\\u7279\\u8ce3 \\u25e2Apple iPhone 5s (32G)',\n",
       "   u'isPick': 0,\n",
       "   u'name': u'Apple iPhone 5s (32G)',\n",
       "   u'picB': u'/pic/v1/data/item/201504/D/G/A/L/O/L/DGALOL-A9005UIC7000_55266f056b955.jpg',\n",
       "   u'picS': u'/pic/v1/data/item/201501/D/G/A/L/O/L/sDGALOL-A9005UIC7000_54c21bc8dda97',\n",
       "   u'price': 18900,\n",
       "   u'publishDate': u''},\n",
       "  {u'Id': u'DGALUM-A9005P5AN',\n",
       "   u'author': u'',\n",
       "   u'brand': u'',\n",
       "   u'cateId': u'DYAJ00',\n",
       "   u'describe': u'\\u2605\\u71b1\\u92b7\\u73fe\\u8ca8\\u5230!!!\\u2605Apple iPhone 6 Plus (64G)',\n",
       "   u'isPick': 0,\n",
       "   u'name': u'Apple iPhone 6 Plus (64G)',\n",
       "   u'picB': u'/pic/v1/data/item/201411/D/G/A/L/U/M/DGALUM-A9005P5AN000_546da5a747b5a.jpg',\n",
       "   u'picS': u'/pic/v1/data/item/201411/D/G/A/L/U/M/sDGALUM-A9005P5AN000_546da5a74a953.jpg',\n",
       "   u'price': 29700,\n",
       "   u'publishDate': u''},\n",
       "  {u'Id': u'DCACCW-A90059PL1',\n",
       "   u'author': u'',\n",
       "   u'brand': u'',\n",
       "   u'cateId': u'DCACCW',\n",
       "   u'describe': u'\\u539f\\u50f9$690\\u2198\\u6d3b\\u52d5\\u9650\\u6642\\u964dApple Lightning 8pin APPLE\\u539f\\u5ee0\\u50b3\\u8f38\\u7dda(\\u7c21\\u6613\\u5305\\u88dd\\u7248)',\n",
       "   u'isPick': 0,\n",
       "   u'name': u'Apple Lightning 8pin \\u539f\\u5ee0\\u50b3\\u8f38\\u7dda iPhone / iPad / iPod (\\u7c21\\u5305\\u88dd)',\n",
       "   u'picB': u'/pic/v1/data/item/201504/D/C/A/C/C/W/DCACCW-A90059PL1000_55233a5cac62d.jpg',\n",
       "   u'picS': u'/pic/v1/data/item/201407/D/C/A/C/C/W/sDCACCW-A90059PL1000_53b2684f8a906.jpg',\n",
       "   u'price': 420,\n",
       "   u'publishDate': u''},\n",
       "  {u'Id': u'DGALU9-A9005I8DG',\n",
       "   u'author': u'',\n",
       "   u'brand': u'',\n",
       "   u'cateId': u'DYAJ01',\n",
       "   u'describe': u'\\u2605\\u71b1\\u92b7\\u73fe\\u8ca8\\u5230\\u2605Apple iPhone 6 (16G)',\n",
       "   u'isPick': 0,\n",
       "   u'name': u'Apple iPhone 6 (16G)',\n",
       "   u'picB': u'/pic/v1/data/item/201410/D/G/A/L/U/9/DGALU9-A9005I8DG000_543b6fb2b35a4.png',\n",
       "   u'picS': u'/pic/v1/data/item/201410/D/G/A/L/U/9/sDGALU9-A9005I8DG000_543b6fb2b609b.png',\n",
       "   u'price': 22500,\n",
       "   u'publishDate': u''},\n",
       "  {u'Id': u'DGALU9-A9005TJEP',\n",
       "   u'author': u'',\n",
       "   u'brand': u'',\n",
       "   u'cateId': u'DYAJ01',\n",
       "   u'describe': u'\\u2605\\u71b1\\u92b7\\u73fe\\u8ca8\\u5230!!\\u2605Apple iPhone 6 (64G)',\n",
       "   u'isPick': 0,\n",
       "   u'name': u'Apple iPhone 6 (64G)',\n",
       "   u'picB': u'/pic/v1/data/item/201501/D/G/A/L/U/9/DGALU9-A9005TJEP000_54b4cf15ae803.png',\n",
       "   u'picS': u'/pic/v1/data/item/201501/D/G/A/L/U/9/sDGALU9-A9005TJEP000_54b4cf15b6c6b.png',\n",
       "   u'price': 25900,\n",
       "   u'publishDate': u''},\n",
       "  {u'Id': u'DGALUM-A9005TJES',\n",
       "   u'author': u'',\n",
       "   u'brand': u'',\n",
       "   u'cateId': u'DYAJ00',\n",
       "   u'describe': u'\\u2605\\u71b1\\u92b7\\u73fe\\u8ca8\\u5230!!!\\u2605Apple iPhone 6 Plus (64G)',\n",
       "   u'isPick': 0,\n",
       "   u'name': u'Apple iPhone 6 Plus (64G)',\n",
       "   u'picB': u'/pic/v1/data/item/201501/D/G/A/L/U/M/DGALUM-A9005TJES000_54b4cf79a01aa.jpg',\n",
       "   u'picS': u'/pic/v1/data/item/201501/D/G/A/L/U/M/sDGALUM-A9005TJES000_54b4cf79a5b12.jpg',\n",
       "   u'price': 29500,\n",
       "   u'publishDate': u''},\n",
       "  {u'Id': u'DGALU9-A9005RETE',\n",
       "   u'author': u'',\n",
       "   u'brand': u'',\n",
       "   u'cateId': u'DYAJ01',\n",
       "   u'describe': u'\\u2605\\u6436\\u624b\\u71b1\\u92b7\\u54c1!!\\u2605Apple iPhone 6 (64G)',\n",
       "   u'isPick': 0,\n",
       "   u'name': u'Apple iPhone 6 (64G)',\n",
       "   u'picB': u'/pic/v1/data/item/201412/D/G/A/L/U/9/DGALU9-A9005RETE000_548fd33c58e44.png',\n",
       "   u'picS': u'/pic/v1/data/item/201412/D/G/A/L/U/9/sDGALU9-A9005RETE000_548fd33c622b6.png',\n",
       "   u'price': 26100,\n",
       "   u'publishDate': u''},\n",
       "  {u'Id': u'DGBWAV-A9005RJBR',\n",
       "   u'author': u'',\n",
       "   u'brand': u'',\n",
       "   u'cateId': u'DGBWAV',\n",
       "   u'describe': u'Apple iPad Air2 WiFi 64G ',\n",
       "   u'isPick': 0,\n",
       "   u'name': u'Apple iPad Air2 WiFi 64G',\n",
       "   u'picB': u'/pic/v1/data/item/201412/D/G/B/W/A/V/DGBWAV-A9005RJBR000_549152521f5cc.jpg',\n",
       "   u'picS': u'/pic/v1/data/item/201412/D/G/B/W/A/V/sDGBWAV-A9005RJBR000_54915252218fe.jpg',\n",
       "   u'price': 18900,\n",
       "   u'publishDate': u''},\n",
       "  {u'Id': u'DGBWAV-A9005VGC2',\n",
       "   u'author': u'',\n",
       "   u'brand': u'',\n",
       "   u'cateId': u'DGBWAV',\n",
       "   u'describe': u'Apple iPad Air2 WiFi 16G ',\n",
       "   u'isPick': 0,\n",
       "   u'name': u'Apple iPad Air2 WiFi 16G',\n",
       "   u'picB': u'/pic/v1/data/item/201501/D/G/B/W/A/V/DGBWAV-A9005VGC2000_54c9e93ed30b6.jpg',\n",
       "   u'picS': u'/pic/v1/data/item/201501/D/G/B/W/A/V/sDGBWAV-A9005VGC2000_54c9e93ed8af9.png',\n",
       "   u'price': 15900,\n",
       "   u'publishDate': u''},\n",
       "  {u'Id': u'DCAC62-A9005AHVO',\n",
       "   u'author': u'',\n",
       "   u'brand': u'',\n",
       "   u'cateId': u'DCAC62',\n",
       "   u'describe': u'Apple \\u539f\\u5ee0\\u8a8d\\u8b49 iPhone 6 & iPhone 6Plus \\u92c1\\u5408\\u91d1\\u7de8\\u7e54\\u7dda(120cm)\\u592a\\u7a7a\\u7070',\n",
       "   u'isPick': 0,\n",
       "   u'name': u'APPLE\\u539f\\u5ee0\\u8a8d\\u8b49 Lightning \\u92c1\\u5408\\u91d1\\u7de8\\u7e54\\u5145\\u96fb\\u76f4\\u7dda-\\u92fc\\u9435\\u7070 1.2M(APL-WI056-GY)',\n",
       "   u'picB': u'/pic/v1/data/item/201503/D/C/A/C/6/2/DCAC62-A9005AHVO000_5514cf0449f6c.jpg',\n",
       "   u'picS': u'/pic/v1/data/item/201408/D/C/A/C/6/2/sDCAC62-A9005AHVO000_53feeecc978a7.jpg',\n",
       "   u'price': 549,\n",
       "   u'publishDate': u''},\n",
       "  {u'Id': u'DGBOC3-A9005GX9X',\n",
       "   u'author': u'',\n",
       "   u'brand': u'',\n",
       "   u'cateId': u'DGBOC3',\n",
       "   u'describe': u'BASEUS iPhone6 Plus 5.5\\u540b\\u5275\\u65b0\\u96d9\\u91cd\\u4fdd\\u8b77',\n",
       "   u'isPick': 0,\n",
       "   u'name': u'Baseus Apple iphone6 Plus 5.5\\u540b \\u9251\\u58eb\\u7cfb\\u5217 \\u8d85\\u8584\\u96d9\\u91cd\\u6750\\u7b6bTPU+\\u91d1\\u5c6c\\u4fdd\\u8b77\\u6bbc',\n",
       "   u'picB': u'/pic/v1/data/item/201503/D/G/B/O/C/3/DGBOC3-A9005GX9X000_550a9e106938d.jpg',\n",
       "   u'picS': u'/pic/v1/data/item/201503/D/G/B/O/C/3/sDGBOC3-A9005GX9X000_550005b5e30c1.jpg',\n",
       "   u'price': 648,\n",
       "   u'publishDate': u''},\n",
       "  {u'Id': u'DGBOC3-A9005HCV5',\n",
       "   u'author': u'',\n",
       "   u'brand': u'',\n",
       "   u'cateId': u'DGBOC3',\n",
       "   u'describe': u'VERUS iPhone6 Plus 5.5\\u540b \\u91d1\\u5c6c\\u52a0\\u77fd\\u81a0\\u96d9\\u91cd\\u9632\\u8b77\\u6bbc',\n",
       "   u'isPick': 0,\n",
       "   u'name': u'VERUS Apple iphone6 Plus 5.5\\u540b \\u8d85\\u8584\\u96d9\\u4ef6\\u5f0f\\u91d1\\u5c6c\\u908a\\u6846\\u624b\\u6a5f\\u4fdd\\u8b77\\u6bbc',\n",
       "   u'picB': u'/pic/v1/data/item/201409/D/G/B/O/C/3/DGBOC3-A9005HCV5000_54241a0c5b23d.jpg',\n",
       "   u'picS': u'/pic/v1/data/item/201409/D/G/B/O/C/3/sDGBOC3-A9005HCV5000_54241a0c5d515.jpg',\n",
       "   u'price': 1180,\n",
       "   u'publishDate': u''},\n",
       "  {u'Id': u'DGAX89-A9005R0FL',\n",
       "   u'author': u'',\n",
       "   u'brand': u'',\n",
       "   u'cateId': u'DGBWAV',\n",
       "   u'describe': u'Apple iPad Air2 WiFi 64G',\n",
       "   u'isPick': 0,\n",
       "   u'name': u'Apple iPad Air2 WiFi 64G',\n",
       "   u'picB': u'/pic/v1/data/item/201412/D/G/A/X/8/9/DGAX89-A9005R0FL000_5488219ee5480.jpg',\n",
       "   u'picS': u'/pic/v1/data/item/201412/D/G/A/X/8/9/sDGAX89-A9005R0FL000_5488219ee7f75.jpg',\n",
       "   u'price': 18900,\n",
       "   u'publishDate': u''},\n",
       "  {u'Id': u'DCACJ6-A9005RRMO',\n",
       "   u'author': u'',\n",
       "   u'brand': u'',\n",
       "   u'cateId': u'DCACJ6',\n",
       "   u'describe': u'\\u539f\\u50f9$299\\u2198\\u7279\\u50f9\\u4e2d\\u3010MK\\u99ac\\u514b\\u3011iPhone6/6PLUS\\u30015S/5C/5\\u3001iPad\\u3001iPod\\u5c08\\u7528 Lightning \\u5145\\u96fb\\u50b3\\u8f38\\u7dda (\\u767d\\u8272) 1M',\n",
       "   u'isPick': 0,\n",
       "   u'name': u'MK\\u99ac\\u514b Apple iPhone6/iPad/iPod\\u5c08\\u7528 Lightning \\u50b3\\u8f38\\u5145\\u96fb\\u7dda (1M) \\u767d',\n",
       "   u'picB': u'/pic/v1/data/item/201412/D/C/A/C/J/6/DCACJ6-A9005RRMO000_54953e4f433ff.jpg',\n",
       "   u'picS': u'/pic/v1/data/item/201412/D/C/A/C/J/6/sDCACJ6-A9005RRMO000_54953e4f46739.jpg',\n",
       "   u'price': 199,\n",
       "   u'publishDate': u''},\n",
       "  {u'Id': u'DGBP9Z-A9005UAQH',\n",
       "   u'author': u'',\n",
       "   u'brand': u'',\n",
       "   u'cateId': u'DYAF18',\n",
       "   u'describe': u'\\u4e8c\\u5408\\u4e00 \\u50b3\\u8f38\\u7dda \\u5145\\u96fb\\u7dda Apple Lightning 8Pin & Micro \\u63a5\\u982d \\u6241\\u7dda\\u578b \\u9069\\u7528\\u591a\\u6b3e\\u667a\\u6167\\u578b\\u624b\\u6a5f EX:Apple iPhone6 5 iPad mini iPad4 Samsung HTC Sony Nokia LG MOTO ',\n",
       "   u'isPick': 0,\n",
       "   u'name': u'Apple 8Pin & Micro USB \\u63a5\\u982d \\u4e8c\\u5408\\u4e00\\u5145\\u96fb\\u7dda(\\u984f\\u8272\\u96a8\\u6a5f)',\n",
       "   u'picB': u'/pic/v1/data/item/201501/D/G/B/P/9/Z/DGBP9Z-A9005UAQH000_54c09af85860c.jpg',\n",
       "   u'picS': u'/pic/v1/data/item/201501/D/G/B/P/9/Z/sDGBP9Z-A9005UAQH000_54c09af85c83e.jpg',\n",
       "   u'price': 188,\n",
       "   u'publishDate': u''},\n",
       "  {u'Id': u'DGBV4I-A9005YDVG',\n",
       "   u'author': u'',\n",
       "   u'brand': u'',\n",
       "   u'cateId': u'DGBV4I',\n",
       "   u'describe': u'\\u2605\\u798f\\u5229\\u54c1\\u9650\\u91cf\\u51fa\\u6e05\\u2605  Apple iPad mini 16GB (Wi-Fi + Cellular)\\u767d\\u8272',\n",
       "   u'isPick': 0,\n",
       "   u'name': u'Apple iPad mini LTE 16GB(Wi-Fi+4G) - \\u767d\\u8272',\n",
       "   u'picB': u'/pic/v1/data/item/201503/D/G/B/V/4/I/DGBV4I-A9005YDVG000_55015bd4815cd.jpg',\n",
       "   u'picS': u'/pic/v1/data/item/201503/D/G/B/V/4/I/sDGBV4I-A9005YDVG000_55015bd4844bc.jpg',\n",
       "   u'price': 8800,\n",
       "   u'publishDate': u''},\n",
       "  {u'Id': u'DGBWAW-A9005VG9G',\n",
       "   u'author': u'',\n",
       "   u'brand': u'',\n",
       "   u'cateId': u'DGBWAW',\n",
       "   u'describe': u'Apple iPad mini3 Retina WiFi 64G',\n",
       "   u'isPick': 0,\n",
       "   u'name': u'Apple iPad mini3 Retina WiFi 64G',\n",
       "   u'picB': u'/pic/v1/data/item/201501/D/G/B/W/A/W/DGBWAW-A9005VG9G000_54c9e5eed68d3.jpg',\n",
       "   u'picS': u'/pic/v1/data/item/201501/D/G/B/W/A/W/sDGBWAW-A9005VG9G000_54c9e5eed8fe2.jpg',\n",
       "   u'price': 15900,\n",
       "   u'publishDate': u''},\n",
       "  {u'Id': u'DGALOL-A9005DLA7',\n",
       "   u'author': u'',\n",
       "   u'brand': u'',\n",
       "   u'cateId': u'DYAJ02',\n",
       "   u'describe': u'\\u3010\\u9001\\u5074\\u7ffb\\u76ae\\u59574\\u90782\\u3011Apple iPhone 5s 16G \\u62c6\\u5c01\\u798f\\u5229\\u54c1  ',\n",
       "   u'isPick': 0,\n",
       "   u'name': u'Apple iPhone 5s 16G \\u62c6\\u5c01\\u798f\\u5229\\u54c1',\n",
       "   u'picB': u'/pic/v1/data/item/201408/D/G/A/L/O/L/DGALOL-A9005DLA7000_53f304dad8e5e',\n",
       "   u'picS': u'/pic/v1/data/item/201408/D/G/A/L/O/L/sDGALOL-A9005DLA7000_53f304dade024',\n",
       "   u'price': 15900,\n",
       "   u'publishDate': u''},\n",
       "  {u'Id': u'DGBO3L-A9005FKI1',\n",
       "   u'author': u'',\n",
       "   u'brand': u'',\n",
       "   u'cateId': u'DGBO3L',\n",
       "   u'describe': u'Apple Nano / Micro Sim \\u8f49\\u63a5\\u5361\\u7d44 \\u4e09\\u5408\\u4e00 \\u9644\\u91dd Sim\\u5361\\u8f49\\u63db',\n",
       "   u'isPick': 0,\n",
       "   u'name': u'Apple Nano / Micro Sim \\u8f49\\u63a5\\u5361\\u7d44 \\u4e09\\u5408\\u4e00 \\u9644\\u91dd Sim\\u5361\\u8f49\\u63db',\n",
       "   u'picB': u'/pic/v1/data/item/201409/D/G/B/O/3/L/DGBO3L-A9005FKI1000_54183ad2c4ff8.jpg',\n",
       "   u'picS': u'/pic/v1/data/item/201409/D/G/B/O/3/L/sDGBO3L-A9005FKI1000_54183ad2d1356.jpg',\n",
       "   u'price': 105,\n",
       "   u'publishDate': u''}],\n",
       " u'q': u'apple',\n",
       " u'range': {u'max': 205000, u'min': 21},\n",
       " u'subq': u'',\n",
       " u'token': [u'apple'],\n",
       " u'totalPage': 2138,\n",
       " u'totalRows': 42755}"
      ]
     },
     "execution_count": 16,
     "metadata": {},
     "output_type": "execute_result"
    }
   ],
   "source": [
    "data_json #可以先偷看一下"
   ]
  },
  {
   "cell_type": "markdown",
   "metadata": {},
   "source": [
    "###發現我們要的東西在 [u'prods'] 裡面\n",
    "把他們弄張表格來瞧瞧"
   ]
  },
  {
   "cell_type": "code",
   "execution_count": 18,
   "metadata": {
    "collapsed": true
   },
   "outputs": [],
   "source": [
    "data_form=pd.DataFrame(data_json[u'prods'])"
   ]
  },
  {
   "cell_type": "code",
   "execution_count": 19,
   "metadata": {
    "collapsed": false,
    "scrolled": true
   },
   "outputs": [
    {
     "data": {
      "text/html": [
       "<div style=\"max-height:1000px;max-width:1500px;overflow:auto;\">\n",
       "<table border=\"1\" class=\"dataframe\">\n",
       "  <thead>\n",
       "    <tr style=\"text-align: right;\">\n",
       "      <th></th>\n",
       "      <th>Id</th>\n",
       "      <th>author</th>\n",
       "      <th>brand</th>\n",
       "      <th>cateId</th>\n",
       "      <th>describe</th>\n",
       "      <th>isPick</th>\n",
       "      <th>name</th>\n",
       "      <th>picB</th>\n",
       "      <th>picS</th>\n",
       "      <th>price</th>\n",
       "      <th>publishDate</th>\n",
       "    </tr>\n",
       "  </thead>\n",
       "  <tbody>\n",
       "    <tr>\n",
       "      <th>0</th>\n",
       "      <td>DGAX73-A9005Y942</td>\n",
       "      <td></td>\n",
       "      <td></td>\n",
       "      <td>DGAX73</td>\n",
       "      <td>◤週末大放送◢Apple TV(MD199TA/A)</td>\n",
       "      <td>0</td>\n",
       "      <td>Apple TV(MD199TA/A)</td>\n",
       "      <td>/pic/v1/data/item/201504/D/G/A/X/7/3/DGAX73-A9...</td>\n",
       "      <td>/pic/v1/data/item/201503/D/G/A/X/7/3/sDGAX73-A...</td>\n",
       "      <td>2399</td>\n",
       "      <td></td>\n",
       "    </tr>\n",
       "    <tr>\n",
       "      <th>1</th>\n",
       "      <td>DGALOL-A9005UIC7</td>\n",
       "      <td></td>\n",
       "      <td></td>\n",
       "      <td>DYAJ02</td>\n",
       "      <td>◤4/10 整點特賣 ◢Apple iPhone 5s (32G)</td>\n",
       "      <td>0</td>\n",
       "      <td>Apple iPhone 5s (32G)</td>\n",
       "      <td>/pic/v1/data/item/201504/D/G/A/L/O/L/DGALOL-A9...</td>\n",
       "      <td>/pic/v1/data/item/201501/D/G/A/L/O/L/sDGALOL-A...</td>\n",
       "      <td>18900</td>\n",
       "      <td></td>\n",
       "    </tr>\n",
       "    <tr>\n",
       "      <th>2</th>\n",
       "      <td>DGALUM-A9005P5AN</td>\n",
       "      <td></td>\n",
       "      <td></td>\n",
       "      <td>DYAJ00</td>\n",
       "      <td>★熱銷現貨到!!!★Apple iPhone 6 Plus (64G)</td>\n",
       "      <td>0</td>\n",
       "      <td>Apple iPhone 6 Plus (64G)</td>\n",
       "      <td>/pic/v1/data/item/201411/D/G/A/L/U/M/DGALUM-A9...</td>\n",
       "      <td>/pic/v1/data/item/201411/D/G/A/L/U/M/sDGALUM-A...</td>\n",
       "      <td>29700</td>\n",
       "      <td></td>\n",
       "    </tr>\n",
       "    <tr>\n",
       "      <th>3</th>\n",
       "      <td>DCACCW-A90059PL1</td>\n",
       "      <td></td>\n",
       "      <td></td>\n",
       "      <td>DCACCW</td>\n",
       "      <td>原價$690↘活動限時降Apple Lightning 8pin APPLE原廠傳輸線(簡易...</td>\n",
       "      <td>0</td>\n",
       "      <td>Apple Lightning 8pin 原廠傳輸線 iPhone / iPad / iPo...</td>\n",
       "      <td>/pic/v1/data/item/201504/D/C/A/C/C/W/DCACCW-A9...</td>\n",
       "      <td>/pic/v1/data/item/201407/D/C/A/C/C/W/sDCACCW-A...</td>\n",
       "      <td>420</td>\n",
       "      <td></td>\n",
       "    </tr>\n",
       "    <tr>\n",
       "      <th>4</th>\n",
       "      <td>DGALU9-A9005I8DG</td>\n",
       "      <td></td>\n",
       "      <td></td>\n",
       "      <td>DYAJ01</td>\n",
       "      <td>★熱銷現貨到★Apple iPhone 6 (16G)</td>\n",
       "      <td>0</td>\n",
       "      <td>Apple iPhone 6 (16G)</td>\n",
       "      <td>/pic/v1/data/item/201410/D/G/A/L/U/9/DGALU9-A9...</td>\n",
       "      <td>/pic/v1/data/item/201410/D/G/A/L/U/9/sDGALU9-A...</td>\n",
       "      <td>22500</td>\n",
       "      <td></td>\n",
       "    </tr>\n",
       "    <tr>\n",
       "      <th>5</th>\n",
       "      <td>DGALU9-A9005TJEP</td>\n",
       "      <td></td>\n",
       "      <td></td>\n",
       "      <td>DYAJ01</td>\n",
       "      <td>★熱銷現貨到!!★Apple iPhone 6 (64G)</td>\n",
       "      <td>0</td>\n",
       "      <td>Apple iPhone 6 (64G)</td>\n",
       "      <td>/pic/v1/data/item/201501/D/G/A/L/U/9/DGALU9-A9...</td>\n",
       "      <td>/pic/v1/data/item/201501/D/G/A/L/U/9/sDGALU9-A...</td>\n",
       "      <td>25900</td>\n",
       "      <td></td>\n",
       "    </tr>\n",
       "    <tr>\n",
       "      <th>6</th>\n",
       "      <td>DGALUM-A9005TJES</td>\n",
       "      <td></td>\n",
       "      <td></td>\n",
       "      <td>DYAJ00</td>\n",
       "      <td>★熱銷現貨到!!!★Apple iPhone 6 Plus (64G)</td>\n",
       "      <td>0</td>\n",
       "      <td>Apple iPhone 6 Plus (64G)</td>\n",
       "      <td>/pic/v1/data/item/201501/D/G/A/L/U/M/DGALUM-A9...</td>\n",
       "      <td>/pic/v1/data/item/201501/D/G/A/L/U/M/sDGALUM-A...</td>\n",
       "      <td>29500</td>\n",
       "      <td></td>\n",
       "    </tr>\n",
       "    <tr>\n",
       "      <th>7</th>\n",
       "      <td>DGALU9-A9005RETE</td>\n",
       "      <td></td>\n",
       "      <td></td>\n",
       "      <td>DYAJ01</td>\n",
       "      <td>★搶手熱銷品!!★Apple iPhone 6 (64G)</td>\n",
       "      <td>0</td>\n",
       "      <td>Apple iPhone 6 (64G)</td>\n",
       "      <td>/pic/v1/data/item/201412/D/G/A/L/U/9/DGALU9-A9...</td>\n",
       "      <td>/pic/v1/data/item/201412/D/G/A/L/U/9/sDGALU9-A...</td>\n",
       "      <td>26100</td>\n",
       "      <td></td>\n",
       "    </tr>\n",
       "    <tr>\n",
       "      <th>8</th>\n",
       "      <td>DGBWAV-A9005RJBR</td>\n",
       "      <td></td>\n",
       "      <td></td>\n",
       "      <td>DGBWAV</td>\n",
       "      <td>Apple iPad Air2 WiFi 64G</td>\n",
       "      <td>0</td>\n",
       "      <td>Apple iPad Air2 WiFi 64G</td>\n",
       "      <td>/pic/v1/data/item/201412/D/G/B/W/A/V/DGBWAV-A9...</td>\n",
       "      <td>/pic/v1/data/item/201412/D/G/B/W/A/V/sDGBWAV-A...</td>\n",
       "      <td>18900</td>\n",
       "      <td></td>\n",
       "    </tr>\n",
       "    <tr>\n",
       "      <th>9</th>\n",
       "      <td>DGBWAV-A9005VGC2</td>\n",
       "      <td></td>\n",
       "      <td></td>\n",
       "      <td>DGBWAV</td>\n",
       "      <td>Apple iPad Air2 WiFi 16G</td>\n",
       "      <td>0</td>\n",
       "      <td>Apple iPad Air2 WiFi 16G</td>\n",
       "      <td>/pic/v1/data/item/201501/D/G/B/W/A/V/DGBWAV-A9...</td>\n",
       "      <td>/pic/v1/data/item/201501/D/G/B/W/A/V/sDGBWAV-A...</td>\n",
       "      <td>15900</td>\n",
       "      <td></td>\n",
       "    </tr>\n",
       "    <tr>\n",
       "      <th>10</th>\n",
       "      <td>DCAC62-A9005AHVO</td>\n",
       "      <td></td>\n",
       "      <td></td>\n",
       "      <td>DCAC62</td>\n",
       "      <td>Apple 原廠認證 iPhone 6 &amp; iPhone 6Plus 鋁合金編織線(120c...</td>\n",
       "      <td>0</td>\n",
       "      <td>APPLE原廠認證 Lightning 鋁合金編織充電直線-鋼鐵灰 1.2M(APL-WI0...</td>\n",
       "      <td>/pic/v1/data/item/201503/D/C/A/C/6/2/DCAC62-A9...</td>\n",
       "      <td>/pic/v1/data/item/201408/D/C/A/C/6/2/sDCAC62-A...</td>\n",
       "      <td>549</td>\n",
       "      <td></td>\n",
       "    </tr>\n",
       "    <tr>\n",
       "      <th>11</th>\n",
       "      <td>DGBOC3-A9005GX9X</td>\n",
       "      <td></td>\n",
       "      <td></td>\n",
       "      <td>DGBOC3</td>\n",
       "      <td>BASEUS iPhone6 Plus 5.5吋創新雙重保護</td>\n",
       "      <td>0</td>\n",
       "      <td>Baseus Apple iphone6 Plus 5.5吋 鉑士系列 超薄雙重材筫TPU+...</td>\n",
       "      <td>/pic/v1/data/item/201503/D/G/B/O/C/3/DGBOC3-A9...</td>\n",
       "      <td>/pic/v1/data/item/201503/D/G/B/O/C/3/sDGBOC3-A...</td>\n",
       "      <td>648</td>\n",
       "      <td></td>\n",
       "    </tr>\n",
       "    <tr>\n",
       "      <th>12</th>\n",
       "      <td>DGBOC3-A9005HCV5</td>\n",
       "      <td></td>\n",
       "      <td></td>\n",
       "      <td>DGBOC3</td>\n",
       "      <td>VERUS iPhone6 Plus 5.5吋 金屬加矽膠雙重防護殼</td>\n",
       "      <td>0</td>\n",
       "      <td>VERUS Apple iphone6 Plus 5.5吋 超薄雙件式金屬邊框手機保護殼</td>\n",
       "      <td>/pic/v1/data/item/201409/D/G/B/O/C/3/DGBOC3-A9...</td>\n",
       "      <td>/pic/v1/data/item/201409/D/G/B/O/C/3/sDGBOC3-A...</td>\n",
       "      <td>1180</td>\n",
       "      <td></td>\n",
       "    </tr>\n",
       "    <tr>\n",
       "      <th>13</th>\n",
       "      <td>DGAX89-A9005R0FL</td>\n",
       "      <td></td>\n",
       "      <td></td>\n",
       "      <td>DGBWAV</td>\n",
       "      <td>Apple iPad Air2 WiFi 64G</td>\n",
       "      <td>0</td>\n",
       "      <td>Apple iPad Air2 WiFi 64G</td>\n",
       "      <td>/pic/v1/data/item/201412/D/G/A/X/8/9/DGAX89-A9...</td>\n",
       "      <td>/pic/v1/data/item/201412/D/G/A/X/8/9/sDGAX89-A...</td>\n",
       "      <td>18900</td>\n",
       "      <td></td>\n",
       "    </tr>\n",
       "    <tr>\n",
       "      <th>14</th>\n",
       "      <td>DCACJ6-A9005RRMO</td>\n",
       "      <td></td>\n",
       "      <td></td>\n",
       "      <td>DCACJ6</td>\n",
       "      <td>原價$299↘特價中【MK馬克】iPhone6/6PLUS、5S/5C/5、iPad、iPo...</td>\n",
       "      <td>0</td>\n",
       "      <td>MK馬克 Apple iPhone6/iPad/iPod專用 Lightning 傳輸充電線...</td>\n",
       "      <td>/pic/v1/data/item/201412/D/C/A/C/J/6/DCACJ6-A9...</td>\n",
       "      <td>/pic/v1/data/item/201412/D/C/A/C/J/6/sDCACJ6-A...</td>\n",
       "      <td>199</td>\n",
       "      <td></td>\n",
       "    </tr>\n",
       "    <tr>\n",
       "      <th>15</th>\n",
       "      <td>DGBP9Z-A9005UAQH</td>\n",
       "      <td></td>\n",
       "      <td></td>\n",
       "      <td>DYAF18</td>\n",
       "      <td>二合一 傳輸線 充電線 Apple Lightning 8Pin &amp; Micro 接頭 扁線...</td>\n",
       "      <td>0</td>\n",
       "      <td>Apple 8Pin &amp; Micro USB 接頭 二合一充電線(顏色隨機)</td>\n",
       "      <td>/pic/v1/data/item/201501/D/G/B/P/9/Z/DGBP9Z-A9...</td>\n",
       "      <td>/pic/v1/data/item/201501/D/G/B/P/9/Z/sDGBP9Z-A...</td>\n",
       "      <td>188</td>\n",
       "      <td></td>\n",
       "    </tr>\n",
       "    <tr>\n",
       "      <th>16</th>\n",
       "      <td>DGBV4I-A9005YDVG</td>\n",
       "      <td></td>\n",
       "      <td></td>\n",
       "      <td>DGBV4I</td>\n",
       "      <td>★福利品限量出清★  Apple iPad mini 16GB (Wi-Fi + Cellu...</td>\n",
       "      <td>0</td>\n",
       "      <td>Apple iPad mini LTE 16GB(Wi-Fi+4G) - 白色</td>\n",
       "      <td>/pic/v1/data/item/201503/D/G/B/V/4/I/DGBV4I-A9...</td>\n",
       "      <td>/pic/v1/data/item/201503/D/G/B/V/4/I/sDGBV4I-A...</td>\n",
       "      <td>8800</td>\n",
       "      <td></td>\n",
       "    </tr>\n",
       "    <tr>\n",
       "      <th>17</th>\n",
       "      <td>DGBWAW-A9005VG9G</td>\n",
       "      <td></td>\n",
       "      <td></td>\n",
       "      <td>DGBWAW</td>\n",
       "      <td>Apple iPad mini3 Retina WiFi 64G</td>\n",
       "      <td>0</td>\n",
       "      <td>Apple iPad mini3 Retina WiFi 64G</td>\n",
       "      <td>/pic/v1/data/item/201501/D/G/B/W/A/W/DGBWAW-A9...</td>\n",
       "      <td>/pic/v1/data/item/201501/D/G/B/W/A/W/sDGBWAW-A...</td>\n",
       "      <td>15900</td>\n",
       "      <td></td>\n",
       "    </tr>\n",
       "    <tr>\n",
       "      <th>18</th>\n",
       "      <td>DGALOL-A9005DLA7</td>\n",
       "      <td></td>\n",
       "      <td></td>\n",
       "      <td>DYAJ02</td>\n",
       "      <td>【送側翻皮套4選2】Apple iPhone 5s 16G 拆封福利品</td>\n",
       "      <td>0</td>\n",
       "      <td>Apple iPhone 5s 16G 拆封福利品</td>\n",
       "      <td>/pic/v1/data/item/201408/D/G/A/L/O/L/DGALOL-A9...</td>\n",
       "      <td>/pic/v1/data/item/201408/D/G/A/L/O/L/sDGALOL-A...</td>\n",
       "      <td>15900</td>\n",
       "      <td></td>\n",
       "    </tr>\n",
       "    <tr>\n",
       "      <th>19</th>\n",
       "      <td>DGBO3L-A9005FKI1</td>\n",
       "      <td></td>\n",
       "      <td></td>\n",
       "      <td>DGBO3L</td>\n",
       "      <td>Apple Nano / Micro Sim 轉接卡組 三合一 附針 Sim卡轉換</td>\n",
       "      <td>0</td>\n",
       "      <td>Apple Nano / Micro Sim 轉接卡組 三合一 附針 Sim卡轉換</td>\n",
       "      <td>/pic/v1/data/item/201409/D/G/B/O/3/L/DGBO3L-A9...</td>\n",
       "      <td>/pic/v1/data/item/201409/D/G/B/O/3/L/sDGBO3L-A...</td>\n",
       "      <td>105</td>\n",
       "      <td></td>\n",
       "    </tr>\n",
       "  </tbody>\n",
       "</table>\n",
       "</div>"
      ],
      "text/plain": [
       "                  Id author brand  cateId  \\\n",
       "0   DGAX73-A9005Y942               DGAX73   \n",
       "1   DGALOL-A9005UIC7               DYAJ02   \n",
       "2   DGALUM-A9005P5AN               DYAJ00   \n",
       "3   DCACCW-A90059PL1               DCACCW   \n",
       "4   DGALU9-A9005I8DG               DYAJ01   \n",
       "5   DGALU9-A9005TJEP               DYAJ01   \n",
       "6   DGALUM-A9005TJES               DYAJ00   \n",
       "7   DGALU9-A9005RETE               DYAJ01   \n",
       "8   DGBWAV-A9005RJBR               DGBWAV   \n",
       "9   DGBWAV-A9005VGC2               DGBWAV   \n",
       "10  DCAC62-A9005AHVO               DCAC62   \n",
       "11  DGBOC3-A9005GX9X               DGBOC3   \n",
       "12  DGBOC3-A9005HCV5               DGBOC3   \n",
       "13  DGAX89-A9005R0FL               DGBWAV   \n",
       "14  DCACJ6-A9005RRMO               DCACJ6   \n",
       "15  DGBP9Z-A9005UAQH               DYAF18   \n",
       "16  DGBV4I-A9005YDVG               DGBV4I   \n",
       "17  DGBWAW-A9005VG9G               DGBWAW   \n",
       "18  DGALOL-A9005DLA7               DYAJ02   \n",
       "19  DGBO3L-A9005FKI1               DGBO3L   \n",
       "\n",
       "                                             describe  isPick  \\\n",
       "0                         ◤週末大放送◢Apple TV(MD199TA/A)        0   \n",
       "1                   ◤4/10 整點特賣 ◢Apple iPhone 5s (32G)       0   \n",
       "2                 ★熱銷現貨到!!!★Apple iPhone 6 Plus (64G)       0   \n",
       "3   原價$690↘活動限時降Apple Lightning 8pin APPLE原廠傳輸線(簡易...       0   \n",
       "4                         ★熱銷現貨到★Apple iPhone 6 (16G)       0   \n",
       "5                       ★熱銷現貨到!!★Apple iPhone 6 (64G)       0   \n",
       "6                 ★熱銷現貨到!!!★Apple iPhone 6 Plus (64G)       0   \n",
       "7                       ★搶手熱銷品!!★Apple iPhone 6 (64G)       0   \n",
       "8                           Apple iPad Air2 WiFi 64G        0   \n",
       "9                           Apple iPad Air2 WiFi 16G        0   \n",
       "10  Apple 原廠認證 iPhone 6 & iPhone 6Plus 鋁合金編織線(120c...       0   \n",
       "11                     BASEUS iPhone6 Plus 5.5吋創新雙重保護       0   \n",
       "12                 VERUS iPhone6 Plus 5.5吋 金屬加矽膠雙重防護殼       0   \n",
       "13                           Apple iPad Air2 WiFi 64G       0   \n",
       "14  原價$299↘特價中【MK馬克】iPhone6/6PLUS、5S/5C/5、iPad、iPo...       0   \n",
       "15  二合一 傳輸線 充電線 Apple Lightning 8Pin & Micro 接頭 扁線...       0   \n",
       "16  ★福利品限量出清★  Apple iPad mini 16GB (Wi-Fi + Cellu...       0   \n",
       "17                   Apple iPad mini3 Retina WiFi 64G       0   \n",
       "18              【送側翻皮套4選2】Apple iPhone 5s 16G 拆封福利品         0   \n",
       "19          Apple Nano / Micro Sim 轉接卡組 三合一 附針 Sim卡轉換       0   \n",
       "\n",
       "                                                 name  \\\n",
       "0                                 Apple TV(MD199TA/A)   \n",
       "1                               Apple iPhone 5s (32G)   \n",
       "2                           Apple iPhone 6 Plus (64G)   \n",
       "3   Apple Lightning 8pin 原廠傳輸線 iPhone / iPad / iPo...   \n",
       "4                                Apple iPhone 6 (16G)   \n",
       "5                                Apple iPhone 6 (64G)   \n",
       "6                           Apple iPhone 6 Plus (64G)   \n",
       "7                                Apple iPhone 6 (64G)   \n",
       "8                            Apple iPad Air2 WiFi 64G   \n",
       "9                            Apple iPad Air2 WiFi 16G   \n",
       "10  APPLE原廠認證 Lightning 鋁合金編織充電直線-鋼鐵灰 1.2M(APL-WI0...   \n",
       "11  Baseus Apple iphone6 Plus 5.5吋 鉑士系列 超薄雙重材筫TPU+...   \n",
       "12       VERUS Apple iphone6 Plus 5.5吋 超薄雙件式金屬邊框手機保護殼   \n",
       "13                           Apple iPad Air2 WiFi 64G   \n",
       "14  MK馬克 Apple iPhone6/iPad/iPod專用 Lightning 傳輸充電線...   \n",
       "15             Apple 8Pin & Micro USB 接頭 二合一充電線(顏色隨機)   \n",
       "16            Apple iPad mini LTE 16GB(Wi-Fi+4G) - 白色   \n",
       "17                   Apple iPad mini3 Retina WiFi 64G   \n",
       "18                          Apple iPhone 5s 16G 拆封福利品   \n",
       "19          Apple Nano / Micro Sim 轉接卡組 三合一 附針 Sim卡轉換   \n",
       "\n",
       "                                                 picB  \\\n",
       "0   /pic/v1/data/item/201504/D/G/A/X/7/3/DGAX73-A9...   \n",
       "1   /pic/v1/data/item/201504/D/G/A/L/O/L/DGALOL-A9...   \n",
       "2   /pic/v1/data/item/201411/D/G/A/L/U/M/DGALUM-A9...   \n",
       "3   /pic/v1/data/item/201504/D/C/A/C/C/W/DCACCW-A9...   \n",
       "4   /pic/v1/data/item/201410/D/G/A/L/U/9/DGALU9-A9...   \n",
       "5   /pic/v1/data/item/201501/D/G/A/L/U/9/DGALU9-A9...   \n",
       "6   /pic/v1/data/item/201501/D/G/A/L/U/M/DGALUM-A9...   \n",
       "7   /pic/v1/data/item/201412/D/G/A/L/U/9/DGALU9-A9...   \n",
       "8   /pic/v1/data/item/201412/D/G/B/W/A/V/DGBWAV-A9...   \n",
       "9   /pic/v1/data/item/201501/D/G/B/W/A/V/DGBWAV-A9...   \n",
       "10  /pic/v1/data/item/201503/D/C/A/C/6/2/DCAC62-A9...   \n",
       "11  /pic/v1/data/item/201503/D/G/B/O/C/3/DGBOC3-A9...   \n",
       "12  /pic/v1/data/item/201409/D/G/B/O/C/3/DGBOC3-A9...   \n",
       "13  /pic/v1/data/item/201412/D/G/A/X/8/9/DGAX89-A9...   \n",
       "14  /pic/v1/data/item/201412/D/C/A/C/J/6/DCACJ6-A9...   \n",
       "15  /pic/v1/data/item/201501/D/G/B/P/9/Z/DGBP9Z-A9...   \n",
       "16  /pic/v1/data/item/201503/D/G/B/V/4/I/DGBV4I-A9...   \n",
       "17  /pic/v1/data/item/201501/D/G/B/W/A/W/DGBWAW-A9...   \n",
       "18  /pic/v1/data/item/201408/D/G/A/L/O/L/DGALOL-A9...   \n",
       "19  /pic/v1/data/item/201409/D/G/B/O/3/L/DGBO3L-A9...   \n",
       "\n",
       "                                                 picS  price publishDate  \n",
       "0   /pic/v1/data/item/201503/D/G/A/X/7/3/sDGAX73-A...   2399              \n",
       "1   /pic/v1/data/item/201501/D/G/A/L/O/L/sDGALOL-A...  18900              \n",
       "2   /pic/v1/data/item/201411/D/G/A/L/U/M/sDGALUM-A...  29700              \n",
       "3   /pic/v1/data/item/201407/D/C/A/C/C/W/sDCACCW-A...    420              \n",
       "4   /pic/v1/data/item/201410/D/G/A/L/U/9/sDGALU9-A...  22500              \n",
       "5   /pic/v1/data/item/201501/D/G/A/L/U/9/sDGALU9-A...  25900              \n",
       "6   /pic/v1/data/item/201501/D/G/A/L/U/M/sDGALUM-A...  29500              \n",
       "7   /pic/v1/data/item/201412/D/G/A/L/U/9/sDGALU9-A...  26100              \n",
       "8   /pic/v1/data/item/201412/D/G/B/W/A/V/sDGBWAV-A...  18900              \n",
       "9   /pic/v1/data/item/201501/D/G/B/W/A/V/sDGBWAV-A...  15900              \n",
       "10  /pic/v1/data/item/201408/D/C/A/C/6/2/sDCAC62-A...    549              \n",
       "11  /pic/v1/data/item/201503/D/G/B/O/C/3/sDGBOC3-A...    648              \n",
       "12  /pic/v1/data/item/201409/D/G/B/O/C/3/sDGBOC3-A...   1180              \n",
       "13  /pic/v1/data/item/201412/D/G/A/X/8/9/sDGAX89-A...  18900              \n",
       "14  /pic/v1/data/item/201412/D/C/A/C/J/6/sDCACJ6-A...    199              \n",
       "15  /pic/v1/data/item/201501/D/G/B/P/9/Z/sDGBP9Z-A...    188              \n",
       "16  /pic/v1/data/item/201503/D/G/B/V/4/I/sDGBV4I-A...   8800              \n",
       "17  /pic/v1/data/item/201501/D/G/B/W/A/W/sDGBWAW-A...  15900              \n",
       "18  /pic/v1/data/item/201408/D/G/A/L/O/L/sDGALOL-A...  15900              \n",
       "19  /pic/v1/data/item/201409/D/G/B/O/3/L/sDGBO3L-A...    105              "
      ]
     },
     "execution_count": 19,
     "metadata": {},
     "output_type": "execute_result"
    }
   ],
   "source": [
    "data_form"
   ]
  },
  {
   "cell_type": "markdown",
   "metadata": {},
   "source": [
    "---\n",
    "多事之秋 >>> 但很重要！！因為要變成可以處理的形式"
   ]
  },
  {
   "cell_type": "code",
   "execution_count": 20,
   "metadata": {
    "collapsed": false
   },
   "outputs": [
    {
     "data": {
      "text/plain": [
       "Index([u'Id', u'author', u'brand', u'cateId', u'describe', u'isPick', u'name', u'picB', u'picS', u'price', u'publishDate'], dtype='object')"
      ]
     },
     "execution_count": 20,
     "metadata": {},
     "output_type": "execute_result"
    }
   ],
   "source": [
    "data_form.columns"
   ]
  },
  {
   "cell_type": "code",
   "execution_count": 21,
   "metadata": {
    "collapsed": true
   },
   "outputs": [],
   "source": [
    "data_form=data_form[[u'Id', u'describe', u'name', u'price']]"
   ]
  },
  {
   "cell_type": "code",
   "execution_count": 23,
   "metadata": {
    "collapsed": false
   },
   "outputs": [],
   "source": [
    "data_form.index=data_form[u'Id'] #不好的做法"
   ]
  },
  {
   "cell_type": "code",
   "execution_count": 27,
   "metadata": {
    "collapsed": false
   },
   "outputs": [
    {
     "data": {
      "text/html": [
       "<div style=\"max-height:1000px;max-width:1500px;overflow:auto;\">\n",
       "<table border=\"1\" class=\"dataframe\">\n",
       "  <thead>\n",
       "    <tr style=\"text-align: right;\">\n",
       "      <th></th>\n",
       "      <th>describe</th>\n",
       "      <th>name</th>\n",
       "      <th>price</th>\n",
       "    </tr>\n",
       "    <tr>\n",
       "      <th>Id</th>\n",
       "      <th></th>\n",
       "      <th></th>\n",
       "      <th></th>\n",
       "    </tr>\n",
       "  </thead>\n",
       "  <tbody>\n",
       "    <tr>\n",
       "      <th>DGAX73-A9005Y942</th>\n",
       "      <td>◤週末大放送◢Apple TV(MD199TA/A)</td>\n",
       "      <td>Apple TV(MD199TA/A)</td>\n",
       "      <td>2399</td>\n",
       "    </tr>\n",
       "    <tr>\n",
       "      <th>DGALOL-A9005UIC7</th>\n",
       "      <td>◤4/10 整點特賣 ◢Apple iPhone 5s (32G)</td>\n",
       "      <td>Apple iPhone 5s (32G)</td>\n",
       "      <td>18900</td>\n",
       "    </tr>\n",
       "    <tr>\n",
       "      <th>DGALUM-A9005P5AN</th>\n",
       "      <td>★熱銷現貨到!!!★Apple iPhone 6 Plus (64G)</td>\n",
       "      <td>Apple iPhone 6 Plus (64G)</td>\n",
       "      <td>29700</td>\n",
       "    </tr>\n",
       "    <tr>\n",
       "      <th>DCACCW-A90059PL1</th>\n",
       "      <td>原價$690↘活動限時降Apple Lightning 8pin APPLE原廠傳輸線(簡易...</td>\n",
       "      <td>Apple Lightning 8pin 原廠傳輸線 iPhone / iPad / iPo...</td>\n",
       "      <td>420</td>\n",
       "    </tr>\n",
       "    <tr>\n",
       "      <th>DGALU9-A9005I8DG</th>\n",
       "      <td>★熱銷現貨到★Apple iPhone 6 (16G)</td>\n",
       "      <td>Apple iPhone 6 (16G)</td>\n",
       "      <td>22500</td>\n",
       "    </tr>\n",
       "    <tr>\n",
       "      <th>DGALU9-A9005TJEP</th>\n",
       "      <td>★熱銷現貨到!!★Apple iPhone 6 (64G)</td>\n",
       "      <td>Apple iPhone 6 (64G)</td>\n",
       "      <td>25900</td>\n",
       "    </tr>\n",
       "    <tr>\n",
       "      <th>DGALUM-A9005TJES</th>\n",
       "      <td>★熱銷現貨到!!!★Apple iPhone 6 Plus (64G)</td>\n",
       "      <td>Apple iPhone 6 Plus (64G)</td>\n",
       "      <td>29500</td>\n",
       "    </tr>\n",
       "    <tr>\n",
       "      <th>DGALU9-A9005RETE</th>\n",
       "      <td>★搶手熱銷品!!★Apple iPhone 6 (64G)</td>\n",
       "      <td>Apple iPhone 6 (64G)</td>\n",
       "      <td>26100</td>\n",
       "    </tr>\n",
       "    <tr>\n",
       "      <th>DGBWAV-A9005RJBR</th>\n",
       "      <td>Apple iPad Air2 WiFi 64G</td>\n",
       "      <td>Apple iPad Air2 WiFi 64G</td>\n",
       "      <td>18900</td>\n",
       "    </tr>\n",
       "    <tr>\n",
       "      <th>DGBWAV-A9005VGC2</th>\n",
       "      <td>Apple iPad Air2 WiFi 16G</td>\n",
       "      <td>Apple iPad Air2 WiFi 16G</td>\n",
       "      <td>15900</td>\n",
       "    </tr>\n",
       "    <tr>\n",
       "      <th>DCAC62-A9005AHVO</th>\n",
       "      <td>Apple 原廠認證 iPhone 6 &amp; iPhone 6Plus 鋁合金編織線(120c...</td>\n",
       "      <td>APPLE原廠認證 Lightning 鋁合金編織充電直線-鋼鐵灰 1.2M(APL-WI0...</td>\n",
       "      <td>549</td>\n",
       "    </tr>\n",
       "    <tr>\n",
       "      <th>DGBOC3-A9005GX9X</th>\n",
       "      <td>BASEUS iPhone6 Plus 5.5吋創新雙重保護</td>\n",
       "      <td>Baseus Apple iphone6 Plus 5.5吋 鉑士系列 超薄雙重材筫TPU+...</td>\n",
       "      <td>648</td>\n",
       "    </tr>\n",
       "    <tr>\n",
       "      <th>DGBOC3-A9005HCV5</th>\n",
       "      <td>VERUS iPhone6 Plus 5.5吋 金屬加矽膠雙重防護殼</td>\n",
       "      <td>VERUS Apple iphone6 Plus 5.5吋 超薄雙件式金屬邊框手機保護殼</td>\n",
       "      <td>1180</td>\n",
       "    </tr>\n",
       "    <tr>\n",
       "      <th>DGAX89-A9005R0FL</th>\n",
       "      <td>Apple iPad Air2 WiFi 64G</td>\n",
       "      <td>Apple iPad Air2 WiFi 64G</td>\n",
       "      <td>18900</td>\n",
       "    </tr>\n",
       "    <tr>\n",
       "      <th>DCACJ6-A9005RRMO</th>\n",
       "      <td>原價$299↘特價中【MK馬克】iPhone6/6PLUS、5S/5C/5、iPad、iPo...</td>\n",
       "      <td>MK馬克 Apple iPhone6/iPad/iPod專用 Lightning 傳輸充電線...</td>\n",
       "      <td>199</td>\n",
       "    </tr>\n",
       "    <tr>\n",
       "      <th>DGBP9Z-A9005UAQH</th>\n",
       "      <td>二合一 傳輸線 充電線 Apple Lightning 8Pin &amp; Micro 接頭 扁線...</td>\n",
       "      <td>Apple 8Pin &amp; Micro USB 接頭 二合一充電線(顏色隨機)</td>\n",
       "      <td>188</td>\n",
       "    </tr>\n",
       "    <tr>\n",
       "      <th>DGBV4I-A9005YDVG</th>\n",
       "      <td>★福利品限量出清★  Apple iPad mini 16GB (Wi-Fi + Cellu...</td>\n",
       "      <td>Apple iPad mini LTE 16GB(Wi-Fi+4G) - 白色</td>\n",
       "      <td>8800</td>\n",
       "    </tr>\n",
       "    <tr>\n",
       "      <th>DGBWAW-A9005VG9G</th>\n",
       "      <td>Apple iPad mini3 Retina WiFi 64G</td>\n",
       "      <td>Apple iPad mini3 Retina WiFi 64G</td>\n",
       "      <td>15900</td>\n",
       "    </tr>\n",
       "    <tr>\n",
       "      <th>DGALOL-A9005DLA7</th>\n",
       "      <td>【送側翻皮套4選2】Apple iPhone 5s 16G 拆封福利品</td>\n",
       "      <td>Apple iPhone 5s 16G 拆封福利品</td>\n",
       "      <td>15900</td>\n",
       "    </tr>\n",
       "    <tr>\n",
       "      <th>DGBO3L-A9005FKI1</th>\n",
       "      <td>Apple Nano / Micro Sim 轉接卡組 三合一 附針 Sim卡轉換</td>\n",
       "      <td>Apple Nano / Micro Sim 轉接卡組 三合一 附針 Sim卡轉換</td>\n",
       "      <td>105</td>\n",
       "    </tr>\n",
       "  </tbody>\n",
       "</table>\n",
       "</div>"
      ],
      "text/plain": [
       "                                                           describe  \\\n",
       "Id                                                                    \n",
       "DGAX73-A9005Y942                        ◤週末大放送◢Apple TV(MD199TA/A)    \n",
       "DGALOL-A9005UIC7                  ◤4/10 整點特賣 ◢Apple iPhone 5s (32G)   \n",
       "DGALUM-A9005P5AN                ★熱銷現貨到!!!★Apple iPhone 6 Plus (64G)   \n",
       "DCACCW-A90059PL1  原價$690↘活動限時降Apple Lightning 8pin APPLE原廠傳輸線(簡易...   \n",
       "DGALU9-A9005I8DG                        ★熱銷現貨到★Apple iPhone 6 (16G)   \n",
       "DGALU9-A9005TJEP                      ★熱銷現貨到!!★Apple iPhone 6 (64G)   \n",
       "DGALUM-A9005TJES                ★熱銷現貨到!!!★Apple iPhone 6 Plus (64G)   \n",
       "DGALU9-A9005RETE                      ★搶手熱銷品!!★Apple iPhone 6 (64G)   \n",
       "DGBWAV-A9005RJBR                          Apple iPad Air2 WiFi 64G    \n",
       "DGBWAV-A9005VGC2                          Apple iPad Air2 WiFi 16G    \n",
       "DCAC62-A9005AHVO  Apple 原廠認證 iPhone 6 & iPhone 6Plus 鋁合金編織線(120c...   \n",
       "DGBOC3-A9005GX9X                     BASEUS iPhone6 Plus 5.5吋創新雙重保護   \n",
       "DGBOC3-A9005HCV5                 VERUS iPhone6 Plus 5.5吋 金屬加矽膠雙重防護殼   \n",
       "DGAX89-A9005R0FL                           Apple iPad Air2 WiFi 64G   \n",
       "DCACJ6-A9005RRMO  原價$299↘特價中【MK馬克】iPhone6/6PLUS、5S/5C/5、iPad、iPo...   \n",
       "DGBP9Z-A9005UAQH  二合一 傳輸線 充電線 Apple Lightning 8Pin & Micro 接頭 扁線...   \n",
       "DGBV4I-A9005YDVG  ★福利品限量出清★  Apple iPad mini 16GB (Wi-Fi + Cellu...   \n",
       "DGBWAW-A9005VG9G                   Apple iPad mini3 Retina WiFi 64G   \n",
       "DGALOL-A9005DLA7              【送側翻皮套4選2】Apple iPhone 5s 16G 拆封福利品     \n",
       "DGBO3L-A9005FKI1          Apple Nano / Micro Sim 轉接卡組 三合一 附針 Sim卡轉換   \n",
       "\n",
       "                                                               name  price  \n",
       "Id                                                                          \n",
       "DGAX73-A9005Y942                                Apple TV(MD199TA/A)   2399  \n",
       "DGALOL-A9005UIC7                              Apple iPhone 5s (32G)  18900  \n",
       "DGALUM-A9005P5AN                          Apple iPhone 6 Plus (64G)  29700  \n",
       "DCACCW-A90059PL1  Apple Lightning 8pin 原廠傳輸線 iPhone / iPad / iPo...    420  \n",
       "DGALU9-A9005I8DG                               Apple iPhone 6 (16G)  22500  \n",
       "DGALU9-A9005TJEP                               Apple iPhone 6 (64G)  25900  \n",
       "DGALUM-A9005TJES                          Apple iPhone 6 Plus (64G)  29500  \n",
       "DGALU9-A9005RETE                               Apple iPhone 6 (64G)  26100  \n",
       "DGBWAV-A9005RJBR                           Apple iPad Air2 WiFi 64G  18900  \n",
       "DGBWAV-A9005VGC2                           Apple iPad Air2 WiFi 16G  15900  \n",
       "DCAC62-A9005AHVO  APPLE原廠認證 Lightning 鋁合金編織充電直線-鋼鐵灰 1.2M(APL-WI0...    549  \n",
       "DGBOC3-A9005GX9X  Baseus Apple iphone6 Plus 5.5吋 鉑士系列 超薄雙重材筫TPU+...    648  \n",
       "DGBOC3-A9005HCV5       VERUS Apple iphone6 Plus 5.5吋 超薄雙件式金屬邊框手機保護殼   1180  \n",
       "DGAX89-A9005R0FL                           Apple iPad Air2 WiFi 64G  18900  \n",
       "DCACJ6-A9005RRMO  MK馬克 Apple iPhone6/iPad/iPod專用 Lightning 傳輸充電線...    199  \n",
       "DGBP9Z-A9005UAQH             Apple 8Pin & Micro USB 接頭 二合一充電線(顏色隨機)    188  \n",
       "DGBV4I-A9005YDVG            Apple iPad mini LTE 16GB(Wi-Fi+4G) - 白色   8800  \n",
       "DGBWAW-A9005VG9G                   Apple iPad mini3 Retina WiFi 64G  15900  \n",
       "DGALOL-A9005DLA7                          Apple iPhone 5s 16G 拆封福利品  15900  \n",
       "DGBO3L-A9005FKI1          Apple Nano / Micro Sim 轉接卡組 三合一 附針 Sim卡轉換    105  "
      ]
     },
     "execution_count": 27,
     "metadata": {},
     "output_type": "execute_result"
    }
   ],
   "source": [
    "data_form=data_form[[u'describe', u'name', u'price']]\n",
    "data_form"
   ]
  },
  {
   "cell_type": "code",
   "execution_count": 39,
   "metadata": {
    "collapsed": true
   },
   "outputs": [],
   "source": []
  },
  {
   "cell_type": "code",
   "execution_count": null,
   "metadata": {
    "collapsed": true
   },
   "outputs": [],
   "source": []
  }
 ],
 "metadata": {
  "kernelspec": {
   "display_name": "Python 2",
   "language": "python",
   "name": "python2"
  },
  "language_info": {
   "codemirror_mode": {
    "name": "ipython",
    "version": 2
   },
   "file_extension": ".py",
   "mimetype": "text/x-python",
   "name": "python",
   "nbconvert_exporter": "python",
   "pygments_lexer": "ipython2",
   "version": "2.7.9"
  }
 },
 "nbformat": 4,
 "nbformat_minor": 0
}
